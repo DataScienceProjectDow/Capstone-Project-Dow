{
 "cells": [
  {
   "cell_type": "code",
   "execution_count": 25,
   "metadata": {},
   "outputs": [],
   "source": [
    "from transformers import BertTokenizer, BertModel\n",
    "import numpy as np\n",
    "import torch\n",
    "\n",
    "# Import Packages\n",
    "import gensim\n",
    "import numpy as np\n",
    "import pandas as pd\n",
    "from sklearn.model_selection import train_test_split\n",
    "from gensim.models import KeyedVectors\n",
    "pd.set_option('display.max_colwidth', 100)\n",
    "import numpy as np\n",
    "import tensorflow as tf\n",
    "import tensorflow_datasets as tfds\n",
    "from tensorflow.keras.preprocessing.text import Tokenizer\n",
    "from tensorflow.keras.preprocessing.sequence import pad_sequences\n",
    "from sklearn.model_selection import train_test_split\n",
    "import pandas as pd\n",
    "from gensim.models import KeyedVectors\n",
    "import gensim.downloader\n",
    "from collections import deque"
   ]
  },
  {
   "cell_type": "code",
   "execution_count": 26,
   "metadata": {},
   "outputs": [
    {
     "data": {
      "text/html": [
       "<div>\n",
       "<style scoped>\n",
       "    .dataframe tbody tr th:only-of-type {\n",
       "        vertical-align: middle;\n",
       "    }\n",
       "\n",
       "    .dataframe tbody tr th {\n",
       "        vertical-align: top;\n",
       "    }\n",
       "\n",
       "    .dataframe thead th {\n",
       "        text-align: right;\n",
       "    }\n",
       "</style>\n",
       "<table border=\"1\" class=\"dataframe\">\n",
       "  <thead>\n",
       "    <tr style=\"text-align: right;\">\n",
       "      <th></th>\n",
       "      <th>review</th>\n",
       "      <th>sentiment</th>\n",
       "    </tr>\n",
       "  </thead>\n",
       "  <tbody>\n",
       "    <tr>\n",
       "      <th>0</th>\n",
       "      <td>One of the other reviewers has mentioned that after watching just 1 Oz episode you'll be hooked....</td>\n",
       "      <td>positive</td>\n",
       "    </tr>\n",
       "    <tr>\n",
       "      <th>1</th>\n",
       "      <td>A wonderful little production. &lt;br /&gt;&lt;br /&gt;The filming technique is very unassuming- very old-ti...</td>\n",
       "      <td>positive</td>\n",
       "    </tr>\n",
       "    <tr>\n",
       "      <th>2</th>\n",
       "      <td>I thought this was a wonderful way to spend time on a too hot summer weekend, sitting in the air...</td>\n",
       "      <td>positive</td>\n",
       "    </tr>\n",
       "    <tr>\n",
       "      <th>3</th>\n",
       "      <td>Basically there's a family where a little boy (Jake) thinks there's a zombie in his closet &amp; his...</td>\n",
       "      <td>negative</td>\n",
       "    </tr>\n",
       "    <tr>\n",
       "      <th>4</th>\n",
       "      <td>Petter Mattei's \"Love in the Time of Money\" is a visually stunning film to watch. Mr. Mattei off...</td>\n",
       "      <td>positive</td>\n",
       "    </tr>\n",
       "    <tr>\n",
       "      <th>...</th>\n",
       "      <td>...</td>\n",
       "      <td>...</td>\n",
       "    </tr>\n",
       "    <tr>\n",
       "      <th>49995</th>\n",
       "      <td>I thought this movie did a down right good job. It wasn't as creative or original as the first, ...</td>\n",
       "      <td>positive</td>\n",
       "    </tr>\n",
       "    <tr>\n",
       "      <th>49996</th>\n",
       "      <td>Bad plot, bad dialogue, bad acting, idiotic directing, the annoying porn groove soundtrack that ...</td>\n",
       "      <td>negative</td>\n",
       "    </tr>\n",
       "    <tr>\n",
       "      <th>49997</th>\n",
       "      <td>I am a Catholic taught in parochial elementary schools by nuns, taught by Jesuit priests in high...</td>\n",
       "      <td>negative</td>\n",
       "    </tr>\n",
       "    <tr>\n",
       "      <th>49998</th>\n",
       "      <td>I'm going to have to disagree with the previous comment and side with Maltin on this one. This i...</td>\n",
       "      <td>negative</td>\n",
       "    </tr>\n",
       "    <tr>\n",
       "      <th>49999</th>\n",
       "      <td>No one expects the Star Trek movies to be high art, but the fans do expect a movie that is as go...</td>\n",
       "      <td>negative</td>\n",
       "    </tr>\n",
       "  </tbody>\n",
       "</table>\n",
       "<p>50000 rows × 2 columns</p>\n",
       "</div>"
      ],
      "text/plain": [
       "                                                                                                    review  \\\n",
       "0      One of the other reviewers has mentioned that after watching just 1 Oz episode you'll be hooked....   \n",
       "1      A wonderful little production. <br /><br />The filming technique is very unassuming- very old-ti...   \n",
       "2      I thought this was a wonderful way to spend time on a too hot summer weekend, sitting in the air...   \n",
       "3      Basically there's a family where a little boy (Jake) thinks there's a zombie in his closet & his...   \n",
       "4      Petter Mattei's \"Love in the Time of Money\" is a visually stunning film to watch. Mr. Mattei off...   \n",
       "...                                                                                                    ...   \n",
       "49995  I thought this movie did a down right good job. It wasn't as creative or original as the first, ...   \n",
       "49996  Bad plot, bad dialogue, bad acting, idiotic directing, the annoying porn groove soundtrack that ...   \n",
       "49997  I am a Catholic taught in parochial elementary schools by nuns, taught by Jesuit priests in high...   \n",
       "49998  I'm going to have to disagree with the previous comment and side with Maltin on this one. This i...   \n",
       "49999  No one expects the Star Trek movies to be high art, but the fans do expect a movie that is as go...   \n",
       "\n",
       "      sentiment  \n",
       "0      positive  \n",
       "1      positive  \n",
       "2      positive  \n",
       "3      negative  \n",
       "4      positive  \n",
       "...         ...  \n",
       "49995  positive  \n",
       "49996  negative  \n",
       "49997  negative  \n",
       "49998  negative  \n",
       "49999  negative  \n",
       "\n",
       "[50000 rows x 2 columns]"
      ]
     },
     "execution_count": 26,
     "metadata": {},
     "output_type": "execute_result"
    }
   ],
   "source": [
    "# load csv from zip file\n",
    "main_data = pd.read_csv('/Users/andrewsimon/Desktop/IMDBDataset.csv.zip')\n",
    "main_data"
   ]
  },
  {
   "cell_type": "code",
   "execution_count": 27,
   "metadata": {},
   "outputs": [
    {
     "data": {
      "text/html": [
       "<div>\n",
       "<style scoped>\n",
       "    .dataframe tbody tr th:only-of-type {\n",
       "        vertical-align: middle;\n",
       "    }\n",
       "\n",
       "    .dataframe tbody tr th {\n",
       "        vertical-align: top;\n",
       "    }\n",
       "\n",
       "    .dataframe thead th {\n",
       "        text-align: right;\n",
       "    }\n",
       "</style>\n",
       "<table border=\"1\" class=\"dataframe\">\n",
       "  <thead>\n",
       "    <tr style=\"text-align: right;\">\n",
       "      <th></th>\n",
       "      <th>review</th>\n",
       "      <th>sentiment</th>\n",
       "    </tr>\n",
       "  </thead>\n",
       "  <tbody>\n",
       "    <tr>\n",
       "      <th>0</th>\n",
       "      <td>One of the other reviewers has mentioned that after watching just 1 Oz episode you'll be hooked....</td>\n",
       "      <td>1</td>\n",
       "    </tr>\n",
       "    <tr>\n",
       "      <th>1</th>\n",
       "      <td>A wonderful little production. &lt;br /&gt;&lt;br /&gt;The filming technique is very unassuming- very old-ti...</td>\n",
       "      <td>1</td>\n",
       "    </tr>\n",
       "    <tr>\n",
       "      <th>2</th>\n",
       "      <td>I thought this was a wonderful way to spend time on a too hot summer weekend, sitting in the air...</td>\n",
       "      <td>1</td>\n",
       "    </tr>\n",
       "    <tr>\n",
       "      <th>3</th>\n",
       "      <td>Basically there's a family where a little boy (Jake) thinks there's a zombie in his closet &amp; his...</td>\n",
       "      <td>0</td>\n",
       "    </tr>\n",
       "    <tr>\n",
       "      <th>4</th>\n",
       "      <td>Petter Mattei's \"Love in the Time of Money\" is a visually stunning film to watch. Mr. Mattei off...</td>\n",
       "      <td>1</td>\n",
       "    </tr>\n",
       "    <tr>\n",
       "      <th>...</th>\n",
       "      <td>...</td>\n",
       "      <td>...</td>\n",
       "    </tr>\n",
       "    <tr>\n",
       "      <th>49995</th>\n",
       "      <td>I thought this movie did a down right good job. It wasn't as creative or original as the first, ...</td>\n",
       "      <td>1</td>\n",
       "    </tr>\n",
       "    <tr>\n",
       "      <th>49996</th>\n",
       "      <td>Bad plot, bad dialogue, bad acting, idiotic directing, the annoying porn groove soundtrack that ...</td>\n",
       "      <td>0</td>\n",
       "    </tr>\n",
       "    <tr>\n",
       "      <th>49997</th>\n",
       "      <td>I am a Catholic taught in parochial elementary schools by nuns, taught by Jesuit priests in high...</td>\n",
       "      <td>0</td>\n",
       "    </tr>\n",
       "    <tr>\n",
       "      <th>49998</th>\n",
       "      <td>I'm going to have to disagree with the previous comment and side with Maltin on this one. This i...</td>\n",
       "      <td>0</td>\n",
       "    </tr>\n",
       "    <tr>\n",
       "      <th>49999</th>\n",
       "      <td>No one expects the Star Trek movies to be high art, but the fans do expect a movie that is as go...</td>\n",
       "      <td>0</td>\n",
       "    </tr>\n",
       "  </tbody>\n",
       "</table>\n",
       "<p>50000 rows × 2 columns</p>\n",
       "</div>"
      ],
      "text/plain": [
       "                                                                                                    review  \\\n",
       "0      One of the other reviewers has mentioned that after watching just 1 Oz episode you'll be hooked....   \n",
       "1      A wonderful little production. <br /><br />The filming technique is very unassuming- very old-ti...   \n",
       "2      I thought this was a wonderful way to spend time on a too hot summer weekend, sitting in the air...   \n",
       "3      Basically there's a family where a little boy (Jake) thinks there's a zombie in his closet & his...   \n",
       "4      Petter Mattei's \"Love in the Time of Money\" is a visually stunning film to watch. Mr. Mattei off...   \n",
       "...                                                                                                    ...   \n",
       "49995  I thought this movie did a down right good job. It wasn't as creative or original as the first, ...   \n",
       "49996  Bad plot, bad dialogue, bad acting, idiotic directing, the annoying porn groove soundtrack that ...   \n",
       "49997  I am a Catholic taught in parochial elementary schools by nuns, taught by Jesuit priests in high...   \n",
       "49998  I'm going to have to disagree with the previous comment and side with Maltin on this one. This i...   \n",
       "49999  No one expects the Star Trek movies to be high art, but the fans do expect a movie that is as go...   \n",
       "\n",
       "       sentiment  \n",
       "0              1  \n",
       "1              1  \n",
       "2              1  \n",
       "3              0  \n",
       "4              1  \n",
       "...          ...  \n",
       "49995          1  \n",
       "49996          0  \n",
       "49997          0  \n",
       "49998          0  \n",
       "49999          0  \n",
       "\n",
       "[50000 rows x 2 columns]"
      ]
     },
     "execution_count": 27,
     "metadata": {},
     "output_type": "execute_result"
    }
   ],
   "source": [
    "# Map sentiment via one hot encoding\n",
    "main_data['sentiment'] = main_data['sentiment'].map({'positive':1, 'negative': 0})\n",
    "main_data"
   ]
  },
  {
   "cell_type": "code",
   "execution_count": 28,
   "metadata": {},
   "outputs": [
    {
     "name": "stderr",
     "output_type": "stream",
     "text": [
      "Some weights of the model checkpoint at /Users/andrewsimon/bert-base-uncased were not used when initializing BertModel: ['cls.predictions.transform.LayerNorm.bias', 'cls.predictions.transform.dense.bias', 'cls.seq_relationship.bias', 'cls.predictions.bias', 'cls.seq_relationship.weight', 'cls.predictions.transform.LayerNorm.weight', 'cls.predictions.transform.dense.weight', 'cls.predictions.decoder.weight']\n",
      "- This IS expected if you are initializing BertModel from the checkpoint of a model trained on another task or with another architecture (e.g. initializing a BertForSequenceClassification model from a BertForPreTraining model).\n",
      "- This IS NOT expected if you are initializing BertModel from the checkpoint of a model that you expect to be exactly identical (initializing a BertForSequenceClassification model from a BertForSequenceClassification model).\n"
     ]
    }
   ],
   "source": [
    "toeknizer = BertTokenizer.from_pretrained('/Users/andrewsimon/bert-base-uncased')\n",
    "model = BertModel.from_pretrained('/Users/andrewsimon/bert-base-uncased')"
   ]
  },
  {
   "cell_type": "code",
   "execution_count": 29,
   "metadata": {},
   "outputs": [],
   "source": [
    "from transformers import AutoTokenizer, BertForPreTraining\n",
    "import torch\n",
    "\n",
    "tokenizer = AutoTokenizer.from_pretrained(\"bert-base-uncased\")\n",
    "model = BertForPreTraining.from_pretrained(\"bert-base-uncased\")\n",
    "\n",
    "inputs = tokenizer(\"Hello\", return_tensors=\"pt\")\n",
    "outputs = model(**inputs)\n",
    "\n",
    "prediction_logits = outputs.prediction_logits\n",
    "seq_relationship_logits = outputs.seq_relationship_logits"
   ]
  },
  {
   "cell_type": "code",
   "execution_count": 30,
   "metadata": {},
   "outputs": [
    {
     "name": "stderr",
     "output_type": "stream",
     "text": [
      "/var/folders/8f/mjj28lvs5fb1m_c_tvmtckl80000gn/T/ipykernel_31226/3692553745.py:8: SettingWithCopyWarning: \n",
      "A value is trying to be set on a copy of a slice from a DataFrame\n",
      "\n",
      "See the caveats in the documentation: https://pandas.pydata.org/pandas-docs/stable/user_guide/indexing.html#returning-a-view-versus-a-copy\n",
      "  main_data['review'][i] = np.zeros(300,)\n"
     ]
    }
   ],
   "source": [
    "for i in range(len(main_data['review'])):\n",
    "    try:\n",
    "        inputs = tokenizer(main_data[i], return_tensors='pt')\n",
    "        outputs = model(**inputs)\n",
    "        prediction_logits = outputs.prediction_logits\n",
    "        main_data['review'][i] = prediction_logits\n",
    "    except KeyError:\n",
    "        main_data['review'][i] = np.zeros(300,)"
   ]
  },
  {
   "cell_type": "code",
   "execution_count": 31,
   "metadata": {},
   "outputs": [],
   "source": [
    "# Separate into training and testing data\n",
    "X_train, X_test, y_train, y_test = train_test_split(main_data['review'], main_data['sentiment'], test_size=0.2, random_state=1516)"
   ]
  },
  {
   "cell_type": "code",
   "execution_count": 32,
   "metadata": {},
   "outputs": [
    {
     "data": {
      "text/plain": [
       "(40000,)"
      ]
     },
     "execution_count": 32,
     "metadata": {},
     "output_type": "execute_result"
    }
   ],
   "source": [
    "X_train.shape"
   ]
  },
  {
   "cell_type": "code",
   "execution_count": 33,
   "metadata": {},
   "outputs": [],
   "source": [
    "# Cast to numpy arrays\n",
    "X_train = X_train.to_numpy()"
   ]
  },
  {
   "cell_type": "code",
   "execution_count": 34,
   "metadata": {},
   "outputs": [],
   "source": [
    "X_test = X_test.to_numpy()\n",
    "y_train = y_train.to_numpy()\n",
    "y_test = y_test.to_numpy()"
   ]
  },
  {
   "cell_type": "code",
   "execution_count": 35,
   "metadata": {},
   "outputs": [],
   "source": [
    "training_padded = pad_sequences(X_train, maxlen=120, truncating='post')"
   ]
  },
  {
   "cell_type": "code",
   "execution_count": 36,
   "metadata": {},
   "outputs": [],
   "source": [
    "\n",
    "testing_padded = pad_sequences(X_test, maxlen=120, truncating='post')"
   ]
  },
  {
   "cell_type": "code",
   "execution_count": 37,
   "metadata": {},
   "outputs": [
    {
     "name": "stdout",
     "output_type": "stream",
     "text": [
      "Epoch 1/10\n"
     ]
    },
    {
     "name": "stderr",
     "output_type": "stream",
     "text": [
      "2023-05-09 23:01:12.022751: W tensorflow/tsl/platform/profile_utils/cpu_utils.cc:128] Failed to get CPU frequency: 0 Hz\n"
     ]
    },
    {
     "name": "stdout",
     "output_type": "stream",
     "text": [
      "1250/1250 [==============================] - 1s 779us/step - loss: 0.6932 - accuracy: 0.4963 - recall: 0.5019 - auc: 0.4985 - precision: 0.4959 - false_negatives: 9953.0000 - false_positives: 10194.0000 - val_loss: 0.6932 - val_accuracy: 0.4983 - val_recall: 0.0000e+00 - val_auc: 0.5000 - val_precision: 0.0000e+00 - val_false_negatives: 5017.0000 - val_false_positives: 0.0000e+00\n",
      "Epoch 2/10\n",
      "1250/1250 [==============================] - 1s 561us/step - loss: 0.6932 - accuracy: 0.4962 - recall: 0.4794 - auc: 0.4989 - precision: 0.4956 - false_negatives: 10404.0000 - false_positives: 9749.0000 - val_loss: 0.6932 - val_accuracy: 0.4983 - val_recall: 0.0000e+00 - val_auc: 0.5000 - val_precision: 0.0000e+00 - val_false_negatives: 5017.0000 - val_false_positives: 0.0000e+00\n",
      "Epoch 3/10\n",
      "1250/1250 [==============================] - 1s 602us/step - loss: 0.6932 - accuracy: 0.5003 - recall: 0.3106 - auc: 0.4987 - precision: 0.4998 - false_negatives: 13777.0000 - false_positives: 6210.0000 - val_loss: 0.6932 - val_accuracy: 0.4983 - val_recall: 0.0000e+00 - val_auc: 0.5000 - val_precision: 0.0000e+00 - val_false_negatives: 5017.0000 - val_false_positives: 0.0000e+00\n",
      "Epoch 4/10\n",
      "1250/1250 [==============================] - 1s 637us/step - loss: 0.6932 - accuracy: 0.5004 - recall: 0.2122 - auc: 0.5005 - precision: 0.5000 - false_negatives: 15743.0000 - false_positives: 4240.0000 - val_loss: 0.6931 - val_accuracy: 0.5017 - val_recall: 1.0000 - val_auc: 0.5000 - val_precision: 0.5017 - val_false_negatives: 0.0000e+00 - val_false_positives: 4983.0000\n",
      "Epoch 5/10\n",
      "1250/1250 [==============================] - 1s 609us/step - loss: 0.6932 - accuracy: 0.4996 - recall: 0.5500 - auc: 0.4996 - precision: 0.4992 - false_negatives: 8992.0000 - false_positives: 11025.0000 - val_loss: 0.6932 - val_accuracy: 0.5017 - val_recall: 1.0000 - val_auc: 0.5000 - val_precision: 0.5017 - val_false_negatives: 0.0000e+00 - val_false_positives: 4983.0000\n",
      "Epoch 6/10\n",
      "1250/1250 [==============================] - 1s 558us/step - loss: 0.6932 - accuracy: 0.4982 - recall: 0.6639 - auc: 0.4974 - precision: 0.4983 - false_negatives: 6716.0000 - false_positives: 13357.0000 - val_loss: 0.6931 - val_accuracy: 0.5017 - val_recall: 1.0000 - val_auc: 0.5000 - val_precision: 0.5017 - val_false_negatives: 0.0000e+00 - val_false_positives: 4983.0000\n",
      "Epoch 7/10\n",
      "1250/1250 [==============================] - 1s 564us/step - loss: 0.6932 - accuracy: 0.4985 - recall: 0.6178 - auc: 0.4987 - precision: 0.4984 - false_negatives: 7638.0000 - false_positives: 12423.0000 - val_loss: 0.6931 - val_accuracy: 0.4983 - val_recall: 0.0000e+00 - val_auc: 0.5000 - val_precision: 0.0000e+00 - val_false_negatives: 5017.0000 - val_false_positives: 0.0000e+00\n",
      "Epoch 8/10\n",
      "1250/1250 [==============================] - 1s 593us/step - loss: 0.6932 - accuracy: 0.5018 - recall: 0.4674 - auc: 0.4993 - precision: 0.5015 - false_negatives: 10643.0000 - false_positives: 9284.0000 - val_loss: 0.6932 - val_accuracy: 0.4983 - val_recall: 0.0000e+00 - val_auc: 0.5000 - val_precision: 0.0000e+00 - val_false_negatives: 5017.0000 - val_false_positives: 0.0000e+00\n",
      "Epoch 9/10\n",
      "1250/1250 [==============================] - 1s 559us/step - loss: 0.6932 - accuracy: 0.4996 - recall: 0.3907 - auc: 0.4999 - precision: 0.4989 - false_negatives: 12176.0000 - false_positives: 7841.0000 - val_loss: 0.6932 - val_accuracy: 0.4983 - val_recall: 0.0000e+00 - val_auc: 0.5000 - val_precision: 0.0000e+00 - val_false_negatives: 5017.0000 - val_false_positives: 0.0000e+00\n",
      "Epoch 10/10\n",
      "1250/1250 [==============================] - 1s 593us/step - loss: 0.6931 - accuracy: 0.5036 - recall: 0.2987 - auc: 0.5039 - precision: 0.5054 - false_negatives: 14015.0000 - false_positives: 5840.0000 - val_loss: 0.6932 - val_accuracy: 0.5017 - val_recall: 1.0000 - val_auc: 0.5000 - val_precision: 0.5017 - val_false_negatives: 0.0000e+00 - val_false_positives: 4983.0000\n"
     ]
    },
    {
     "data": {
      "text/plain": [
       "<keras.callbacks.History at 0x2ac131fa0>"
      ]
     },
     "execution_count": 37,
     "metadata": {},
     "output_type": "execute_result"
    }
   ],
   "source": [
    "# Create model, evaluate\n",
    "\n",
    "batch = 32\n",
    "\n",
    "model = tf.keras.Sequential([\n",
    "    tf.keras.layers.Flatten(),\n",
    "    tf.keras.layers.Dense(6, activation='relu'),\n",
    "    tf.keras.layers.Dense(1, activation='sigmoid')\n",
    "])\n",
    "model.compile(loss='binary_crossentropy',optimizer='adam',metrics=['accuracy', 'Recall', 'AUC', 'Precision', 'FalseNegatives', 'FalsePositives'])\n",
    "    \n",
    "num_epochs = 10\n",
    "model.fit(training_padded, y_train, epochs=num_epochs,batch_size=batch, validation_data=(testing_padded, y_test))"
   ]
  }
 ],
 "metadata": {
  "kernelspec": {
   "display_name": "Python 3",
   "language": "python",
   "name": "python3"
  },
  "language_info": {
   "codemirror_mode": {
    "name": "ipython",
    "version": 3
   },
   "file_extension": ".py",
   "mimetype": "text/x-python",
   "name": "python",
   "nbconvert_exporter": "python",
   "pygments_lexer": "ipython3",
   "version": "3.8.9"
  },
  "orig_nbformat": 4
 },
 "nbformat": 4,
 "nbformat_minor": 2
}
