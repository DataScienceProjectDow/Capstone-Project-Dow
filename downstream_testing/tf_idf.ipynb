{
 "cells": [
  {
   "cell_type": "code",
   "execution_count": 1,
   "metadata": {},
   "outputs": [],
   "source": [
    "#importing packages\n",
    "%matplotlib inline\n",
    "import matplotlib.pyplot as plt\n",
    "import numpy as np\n",
    "import pandas as pd"
   ]
  },
  {
   "cell_type": "code",
   "execution_count": 2,
   "metadata": {},
   "outputs": [
    {
     "name": "stdout",
     "output_type": "stream",
     "text": [
      "     Level                                             Report\n",
      "0        2  On April 10th at 12:30 PM, there was an incide...\n",
      "1        3  On April 8th at 9:00 PM, a fire broke out in t...\n",
      "2        4  On April 6th at 2:45 AM, there was an incident...\n",
      "3        1  On April 5th at 7:15 PM, there was an unplanne...\n",
      "4        5  On April 2nd at 11:30 AM, there was a minor in...\n",
      "..     ...                                                ...\n",
      "295      3  At 9:45 AM, a worker reported a small leak of ...\n",
      "296      5  At 2:30 PM, a worker reported a small spill of...\n",
      "297      4  At 6:15 AM, a worker reported an unusual odor ...\n",
      "298      2  At 11:00 AM, a worker reported a small fire in...\n",
      "299      1  At 4:00 PM, an unplanned event occurred in the...\n",
      "\n",
      "[300 rows x 2 columns]\n"
     ]
    }
   ],
   "source": [
    "\n",
    "# Read the Excel file into a dictionary of DataFrames\n",
    "file_path = r'C:\\Users\\stlp\\dow_dataset\\PSE_Dataset.xlsx'\n",
    "excel_data = pd.read_excel(file_path, sheet_name=None)\n",
    "\n",
    "# Concatenate all sheets into a single DataFrame\n",
    "all_sheets = list(excel_data.values())\n",
    "combined_data = pd.concat(all_sheets, ignore_index=True)\n",
    "\n",
    "# Display the combined DataFrame\n",
    "print(combined_data)\n"
   ]
  },
  {
   "cell_type": "code",
   "execution_count": 3,
   "metadata": {},
   "outputs": [],
   "source": [
    "# extract data in the second column and store it in a list\n",
    "X = combined_data['Report'].tolist()"
   ]
  },
  {
   "cell_type": "code",
   "execution_count": 4,
   "metadata": {},
   "outputs": [
    {
     "data": {
      "text/html": [
       "<style>#sk-container-id-1 {color: black;background-color: white;}#sk-container-id-1 pre{padding: 0;}#sk-container-id-1 div.sk-toggleable {background-color: white;}#sk-container-id-1 label.sk-toggleable__label {cursor: pointer;display: block;width: 100%;margin-bottom: 0;padding: 0.3em;box-sizing: border-box;text-align: center;}#sk-container-id-1 label.sk-toggleable__label-arrow:before {content: \"▸\";float: left;margin-right: 0.25em;color: #696969;}#sk-container-id-1 label.sk-toggleable__label-arrow:hover:before {color: black;}#sk-container-id-1 div.sk-estimator:hover label.sk-toggleable__label-arrow:before {color: black;}#sk-container-id-1 div.sk-toggleable__content {max-height: 0;max-width: 0;overflow: hidden;text-align: left;background-color: #f0f8ff;}#sk-container-id-1 div.sk-toggleable__content pre {margin: 0.2em;color: black;border-radius: 0.25em;background-color: #f0f8ff;}#sk-container-id-1 input.sk-toggleable__control:checked~div.sk-toggleable__content {max-height: 200px;max-width: 100%;overflow: auto;}#sk-container-id-1 input.sk-toggleable__control:checked~label.sk-toggleable__label-arrow:before {content: \"▾\";}#sk-container-id-1 div.sk-estimator input.sk-toggleable__control:checked~label.sk-toggleable__label {background-color: #d4ebff;}#sk-container-id-1 div.sk-label input.sk-toggleable__control:checked~label.sk-toggleable__label {background-color: #d4ebff;}#sk-container-id-1 input.sk-hidden--visually {border: 0;clip: rect(1px 1px 1px 1px);clip: rect(1px, 1px, 1px, 1px);height: 1px;margin: -1px;overflow: hidden;padding: 0;position: absolute;width: 1px;}#sk-container-id-1 div.sk-estimator {font-family: monospace;background-color: #f0f8ff;border: 1px dotted black;border-radius: 0.25em;box-sizing: border-box;margin-bottom: 0.5em;}#sk-container-id-1 div.sk-estimator:hover {background-color: #d4ebff;}#sk-container-id-1 div.sk-parallel-item::after {content: \"\";width: 100%;border-bottom: 1px solid gray;flex-grow: 1;}#sk-container-id-1 div.sk-label:hover label.sk-toggleable__label {background-color: #d4ebff;}#sk-container-id-1 div.sk-serial::before {content: \"\";position: absolute;border-left: 1px solid gray;box-sizing: border-box;top: 0;bottom: 0;left: 50%;z-index: 0;}#sk-container-id-1 div.sk-serial {display: flex;flex-direction: column;align-items: center;background-color: white;padding-right: 0.2em;padding-left: 0.2em;position: relative;}#sk-container-id-1 div.sk-item {position: relative;z-index: 1;}#sk-container-id-1 div.sk-parallel {display: flex;align-items: stretch;justify-content: center;background-color: white;position: relative;}#sk-container-id-1 div.sk-item::before, #sk-container-id-1 div.sk-parallel-item::before {content: \"\";position: absolute;border-left: 1px solid gray;box-sizing: border-box;top: 0;bottom: 0;left: 50%;z-index: -1;}#sk-container-id-1 div.sk-parallel-item {display: flex;flex-direction: column;z-index: 1;position: relative;background-color: white;}#sk-container-id-1 div.sk-parallel-item:first-child::after {align-self: flex-end;width: 50%;}#sk-container-id-1 div.sk-parallel-item:last-child::after {align-self: flex-start;width: 50%;}#sk-container-id-1 div.sk-parallel-item:only-child::after {width: 0;}#sk-container-id-1 div.sk-dashed-wrapped {border: 1px dashed gray;margin: 0 0.4em 0.5em 0.4em;box-sizing: border-box;padding-bottom: 0.4em;background-color: white;}#sk-container-id-1 div.sk-label label {font-family: monospace;font-weight: bold;display: inline-block;line-height: 1.2em;}#sk-container-id-1 div.sk-label-container {text-align: center;}#sk-container-id-1 div.sk-container {/* jupyter's `normalize.less` sets `[hidden] { display: none; }` but bootstrap.min.css set `[hidden] { display: none !important; }` so we also need the `!important` here to be able to override the default hidden behavior on the sphinx rendered scikit-learn.org. See: https://github.com/scikit-learn/scikit-learn/issues/21755 */display: inline-block !important;position: relative;}#sk-container-id-1 div.sk-text-repr-fallback {display: none;}</style><div id=\"sk-container-id-1\" class=\"sk-top-container\"><div class=\"sk-text-repr-fallback\"><pre>TfidfVectorizer()</pre><b>In a Jupyter environment, please rerun this cell to show the HTML representation or trust the notebook. <br />On GitHub, the HTML representation is unable to render, please try loading this page with nbviewer.org.</b></div><div class=\"sk-container\" hidden><div class=\"sk-item\"><div class=\"sk-estimator sk-toggleable\"><input class=\"sk-toggleable__control sk-hidden--visually\" id=\"sk-estimator-id-1\" type=\"checkbox\" checked><label for=\"sk-estimator-id-1\" class=\"sk-toggleable__label sk-toggleable__label-arrow\">TfidfVectorizer</label><div class=\"sk-toggleable__content\"><pre>TfidfVectorizer()</pre></div></div></div></div></div>"
      ],
      "text/plain": [
       "TfidfVectorizer()"
      ]
     },
     "execution_count": 4,
     "metadata": {},
     "output_type": "execute_result"
    }
   ],
   "source": [
    "from sklearn.feature_extraction.text import TfidfVectorizer\n",
    "tfidf_vectorizer = TfidfVectorizer()\n",
    "tfidf_vectorizer.fit(X)"
   ]
  },
  {
   "cell_type": "code",
   "execution_count": 5,
   "metadata": {},
   "outputs": [
    {
     "name": "stdout",
     "output_type": "stream",
     "text": [
      "[[0.         0.         0.19728946 ... 0.         0.         0.        ]\n",
      " [0.07968204 0.         0.         ... 0.         0.         0.        ]\n",
      " [0.         0.         0.         ... 0.         0.         0.        ]\n",
      " ...\n",
      " [0.         0.         0.         ... 0.11325145 0.         0.        ]\n",
      " [0.10325298 0.         0.         ... 0.0965073  0.         0.        ]\n",
      " [0.13465678 0.         0.         ... 0.         0.         0.        ]]\n"
     ]
    }
   ],
   "source": [
    "print(tfidf_vectorizer.transform(X).toarray())"
   ]
  },
  {
   "cell_type": "code",
   "execution_count": 6,
   "metadata": {},
   "outputs": [
    {
     "data": {
      "text/plain": [
       "array(['00', '10', '10th', '11', '11th', '12', '12th', '13th', '14th',\n",
       "       '15', '15th', '16th', '17th', '18th', '19th', '1st', '20', '20th',\n",
       "       '21st', '22nd', '23rd', '24th', '25th', '26th', '27th', '28th',\n",
       "       '29th', '2nd', '30', '30th', '31st', '3rd', '45', '4th', '5th',\n",
       "       '6th', '7th', '8th', '9th', 'able', 'above', 'absorbent',\n",
       "       'acceptable', 'accident', 'accidentally', 'action', 'activated',\n",
       "       'added', 'additional', 'adjacent', 'adjusting', 'affect',\n",
       "       'affected', 'after', 'alarm', 'all', 'allowed', 'also', 'am',\n",
       "       'among', 'amount', 'an', 'and', 'any', 'appropriate',\n",
       "       'approximately', 'april', 'area', 'areas', 'as', 'assessed', 'at',\n",
       "       'atmosphere', 'attention', 'august', 'back', 'backup', 'be',\n",
       "       'become', 'been', 'being', 'below', 'between', 'blockage',\n",
       "       'blocked', 'boundaries', 'breaker', 'broke', 'broken', 'brought',\n",
       "       'build', 'buildup', 'bulb', 'bulbs', 'burned', 'burst', 'but',\n",
       "       'by', 'called', 'carrying', 'catastrophic', 'cause', 'caused',\n",
       "       'causing', 'chain', 'check', 'chemical', 'chemicals', 'circuit',\n",
       "       'cleaned', 'clearing', 'clogged', 'closed', 'coming', 'completely',\n",
       "       'component', 'conducted', 'connection', 'contact', 'contain',\n",
       "       'contained', 'container', 'containers', 'containing',\n",
       "       'containment', 'control', 'cooled', 'cordoned', 'corrective',\n",
       "       'corrosion', 'could', 'crack', 'currently', 'damage', 'damaged',\n",
       "       'december', 'decontaminated', 'delay', 'delivering', 'design',\n",
       "       'designated', 'detected', 'detection', 'determine', 'determined',\n",
       "       'developed', 'did', 'discovered', 'disposed', 'dissipated', 'done',\n",
       "       'down', 'drop', 'dropped', 'dropping', 'due', 'during',\n",
       "       'earthquake', 'effort', 'electrical', 'element', 'emanating',\n",
       "       'emergency', 'employee', 'employees', 'emptied', 'environment',\n",
       "       'environmental', 'equipment', 'error', 'escape', 'evacuated',\n",
       "       'evaluation', 'event', 'eventually', 'exceeded', 'excessive',\n",
       "       'executed', 'experienced', 'explosion', 'exposed', 'extensive',\n",
       "       'extinguished', 'extinguisher', 'fail', 'failed', 'failure',\n",
       "       'falling', 'fatally', 'faulty', 'february', 'few', 'filed',\n",
       "       'filter', 'fire', 'firefighting', 'fitting', 'floor', 'flow',\n",
       "       'fluctuate', 'following', 'for', 'found', 'from', 'fumes',\n",
       "       'function', 'further', 'future', 'gas', 'gauge', 'gauges',\n",
       "       'generator', 'generators', 'got', 'ground', 'had', 'handled',\n",
       "       'has', 'have', 'hazardous', 'hazards', 'heat', 'heating',\n",
       "       'highway', 'hose', 'hospital', 'hours', 'however', 'human',\n",
       "       'identified', 'ignited', 'igniting', 'ignition', 'immediately',\n",
       "       'impact', 'impacted', 'impacts', 'improperly', 'in', 'inaccurate',\n",
       "       'inadvertently', 'incident', 'incidents', 'including', 'incorrect',\n",
       "       'increase', 'infrastructure', 'injured', 'injuries', 'inspected',\n",
       "       'inspection', 'instruments', 'intense', 'into', 'investigation',\n",
       "       'involved', 'is', 'issue', 'issues', 'it', 'january', 'july',\n",
       "       'june', 'knocking', 'large', 'lead', 'leading', 'leak', 'leaked',\n",
       "       'leaking', 'leaks', 'led', 'left', 'level', 'levels', 'light',\n",
       "       'limit', 'line', 'loading', 'loose', 'loss', 'lost', 'maintained',\n",
       "       'maintenance', 'major', 'malfunction', 'malfunctioned',\n",
       "       'malfunctioning', 'march', 'massive', 'material', 'materials',\n",
       "       'maximum', 'measurements', 'medical', 'meter', 'minimum', 'minor',\n",
       "       'minutes', 'mixed', 'mixture', 'monitored', 'motor', 'multiple',\n",
       "       'nature', 'nearby', 'negligence', 'no', 'noise', 'non', 'normal',\n",
       "       'not', 'notice', 'noticed', 'notified', 'november', 'occur',\n",
       "       'occurred', 'october', 'odor', 'of', 'off', 'offline', 'on', 'one',\n",
       "       'onto', 'open', 'opened', 'operating', 'or', 'out', 'outage',\n",
       "       'outlet', 'over', 'overcome', 'overfilled', 'overheat',\n",
       "       'overheating', 'overpressure', 'panel', 'parts', 'piece', 'pipe',\n",
       "       'pipeline', 'pipelines', 'pipes', 'piping', 'plant', 'pm',\n",
       "       'potentially', 'power', 'pressure', 'pressurization', 'prevent',\n",
       "       'procedures', 'process', 'produced', 'product', 'production',\n",
       "       'prohibited', 'promptly', 'proper', 'properly', 'pump', 'pumps',\n",
       "       'quantity', 'quickly', 'range', 'rate', 'raw', 'reacted',\n",
       "       'reaction', 'reactor', 'reactors', 'recirculation', 'recovered',\n",
       "       'release', 'released', 'relief', 'removed', 'repaired',\n",
       "       'repairing', 'repairs', 'replaced', 'replacing', 'report',\n",
       "       'reported', 'required', 'reset', 'residents', 'resolved',\n",
       "       'responded', 'response', 'restored', 'result', 'resulted',\n",
       "       'resulting', 'resumed', 'revealed', 'rise', 'room', 'rose',\n",
       "       'routine', 'runaway', 'rupture', 'ruptured', 'safely', 'safety',\n",
       "       'scene', 'seal', 'sensor', 'sent', 'separation', 'separator',\n",
       "       'september', 'serious', 'services', 'settings', 'several',\n",
       "       'severe', 'shelf', 'short', 'shut', 'shutdown', 'shutting',\n",
       "       'significant', 'site', 'situation', 'small', 'smell', 'smoking',\n",
       "       'solid', 'some', 'sound', 'source', 'spark', 'spike', 'spill',\n",
       "       'spilled', 'spread', 'stabilized', 'still', 'storage', 'stored',\n",
       "       'strange', 'sudden', 'supervisor', 'suppression', 'surge',\n",
       "       'surrounding', 'switch', 'system', 'taken', 'tank', 'tanker',\n",
       "       'tanks', 'team', 'temperature', 'temperatures', 'temporary',\n",
       "       'that', 'the', 'their', 'then', 'there', 'they', 'this',\n",
       "       'thorough', 'three', 'thunderstorm', 'to', 'tool', 'toxic',\n",
       "       'transfer', 'transferring', 'transportation', 'transported',\n",
       "       'treated', 'treatment', 'triggered', 'tripped', 'truck', 'two',\n",
       "       'unblocked', 'unconscious', 'uncontrolled', 'under', 'unexpected',\n",
       "       'unfortunately', 'uninjured', 'unit', 'units', 'unknown',\n",
       "       'unplanned', 'unsafe', 'unstable', 'until', 'unusual', 'up',\n",
       "       'upon', 'using', 'valve', 'valves', 'vessel', 'vessels', 'violent',\n",
       "       'visibility', 'was', 'water', 'well', 'were', 'when', 'which',\n",
       "       'while', 'will', 'wiring', 'with', 'within', 'without', 'work',\n",
       "       'worker', 'workers', 'working'], dtype=object)"
      ]
     },
     "execution_count": 6,
     "metadata": {},
     "output_type": "execute_result"
    }
   ],
   "source": [
    "tfidf_vectorizer.get_feature_names_out()"
   ]
  }
 ],
 "metadata": {
  "kernelspec": {
   "display_name": "base",
   "language": "python",
   "name": "python3"
  },
  "language_info": {
   "codemirror_mode": {
    "name": "ipython",
    "version": 3
   },
   "file_extension": ".py",
   "mimetype": "text/x-python",
   "name": "python",
   "nbconvert_exporter": "python",
   "pygments_lexer": "ipython3",
   "version": "3.10.9"
  },
  "orig_nbformat": 4
 },
 "nbformat": 4,
 "nbformat_minor": 2
}
