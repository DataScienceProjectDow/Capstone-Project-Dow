{
 "cells": [
  {
   "cell_type": "code",
   "execution_count": 13,
   "metadata": {},
   "outputs": [],
   "source": [
    "# Import Packages\n",
    "import gensim\n",
    "import numpy as np\n",
    "import pandas as pd\n",
    "from sklearn.model_selection import train_test_split\n",
    "from gensim.models import KeyedVectors\n",
    "pd.set_option('display.max_colwidth', 100)\n",
    "import numpy as np\n",
    "import tensorflow as tf\n",
    "import tensorflow_datasets as tfds\n",
    "from tensorflow.keras.preprocessing.text import Tokenizer\n",
    "from tensorflow.keras.preprocessing.sequence import pad_sequences\n",
    "from sklearn.model_selection import train_test_split\n",
    "import pandas as pd\n",
    "from gensim.models import KeyedVectors\n",
    "import gensim.downloader\n",
    "from collections import deque"
   ]
  },
  {
   "cell_type": "code",
   "execution_count": 14,
   "metadata": {},
   "outputs": [],
   "source": [
    "# Load pretrained word2vec model from gensim\n",
    "google_vectors = gensim.downloader.load('glove-wiki-gigaword-300')"
   ]
  },
  {
   "cell_type": "code",
   "execution_count": 15,
   "metadata": {},
   "outputs": [
    {
     "data": {
      "text/html": [
       "<div>\n",
       "<style scoped>\n",
       "    .dataframe tbody tr th:only-of-type {\n",
       "        vertical-align: middle;\n",
       "    }\n",
       "\n",
       "    .dataframe tbody tr th {\n",
       "        vertical-align: top;\n",
       "    }\n",
       "\n",
       "    .dataframe thead th {\n",
       "        text-align: right;\n",
       "    }\n",
       "</style>\n",
       "<table border=\"1\" class=\"dataframe\">\n",
       "  <thead>\n",
       "    <tr style=\"text-align: right;\">\n",
       "      <th></th>\n",
       "      <th>review</th>\n",
       "      <th>sentiment</th>\n",
       "    </tr>\n",
       "  </thead>\n",
       "  <tbody>\n",
       "    <tr>\n",
       "      <th>0</th>\n",
       "      <td>One of the other reviewers has mentioned that after watching just 1 Oz episode you'll be hooked....</td>\n",
       "      <td>positive</td>\n",
       "    </tr>\n",
       "    <tr>\n",
       "      <th>1</th>\n",
       "      <td>A wonderful little production. &lt;br /&gt;&lt;br /&gt;The filming technique is very unassuming- very old-ti...</td>\n",
       "      <td>positive</td>\n",
       "    </tr>\n",
       "    <tr>\n",
       "      <th>2</th>\n",
       "      <td>I thought this was a wonderful way to spend time on a too hot summer weekend, sitting in the air...</td>\n",
       "      <td>positive</td>\n",
       "    </tr>\n",
       "    <tr>\n",
       "      <th>3</th>\n",
       "      <td>Basically there's a family where a little boy (Jake) thinks there's a zombie in his closet &amp; his...</td>\n",
       "      <td>negative</td>\n",
       "    </tr>\n",
       "    <tr>\n",
       "      <th>4</th>\n",
       "      <td>Petter Mattei's \"Love in the Time of Money\" is a visually stunning film to watch. Mr. Mattei off...</td>\n",
       "      <td>positive</td>\n",
       "    </tr>\n",
       "    <tr>\n",
       "      <th>...</th>\n",
       "      <td>...</td>\n",
       "      <td>...</td>\n",
       "    </tr>\n",
       "    <tr>\n",
       "      <th>49995</th>\n",
       "      <td>I thought this movie did a down right good job. It wasn't as creative or original as the first, ...</td>\n",
       "      <td>positive</td>\n",
       "    </tr>\n",
       "    <tr>\n",
       "      <th>49996</th>\n",
       "      <td>Bad plot, bad dialogue, bad acting, idiotic directing, the annoying porn groove soundtrack that ...</td>\n",
       "      <td>negative</td>\n",
       "    </tr>\n",
       "    <tr>\n",
       "      <th>49997</th>\n",
       "      <td>I am a Catholic taught in parochial elementary schools by nuns, taught by Jesuit priests in high...</td>\n",
       "      <td>negative</td>\n",
       "    </tr>\n",
       "    <tr>\n",
       "      <th>49998</th>\n",
       "      <td>I'm going to have to disagree with the previous comment and side with Maltin on this one. This i...</td>\n",
       "      <td>negative</td>\n",
       "    </tr>\n",
       "    <tr>\n",
       "      <th>49999</th>\n",
       "      <td>No one expects the Star Trek movies to be high art, but the fans do expect a movie that is as go...</td>\n",
       "      <td>negative</td>\n",
       "    </tr>\n",
       "  </tbody>\n",
       "</table>\n",
       "<p>50000 rows × 2 columns</p>\n",
       "</div>"
      ],
      "text/plain": [
       "                                                                                                    review  \\\n",
       "0      One of the other reviewers has mentioned that after watching just 1 Oz episode you'll be hooked....   \n",
       "1      A wonderful little production. <br /><br />The filming technique is very unassuming- very old-ti...   \n",
       "2      I thought this was a wonderful way to spend time on a too hot summer weekend, sitting in the air...   \n",
       "3      Basically there's a family where a little boy (Jake) thinks there's a zombie in his closet & his...   \n",
       "4      Petter Mattei's \"Love in the Time of Money\" is a visually stunning film to watch. Mr. Mattei off...   \n",
       "...                                                                                                    ...   \n",
       "49995  I thought this movie did a down right good job. It wasn't as creative or original as the first, ...   \n",
       "49996  Bad plot, bad dialogue, bad acting, idiotic directing, the annoying porn groove soundtrack that ...   \n",
       "49997  I am a Catholic taught in parochial elementary schools by nuns, taught by Jesuit priests in high...   \n",
       "49998  I'm going to have to disagree with the previous comment and side with Maltin on this one. This i...   \n",
       "49999  No one expects the Star Trek movies to be high art, but the fans do expect a movie that is as go...   \n",
       "\n",
       "      sentiment  \n",
       "0      positive  \n",
       "1      positive  \n",
       "2      positive  \n",
       "3      negative  \n",
       "4      positive  \n",
       "...         ...  \n",
       "49995  positive  \n",
       "49996  negative  \n",
       "49997  negative  \n",
       "49998  negative  \n",
       "49999  negative  \n",
       "\n",
       "[50000 rows x 2 columns]"
      ]
     },
     "execution_count": 15,
     "metadata": {},
     "output_type": "execute_result"
    }
   ],
   "source": [
    "# load csv from zip file\n",
    "main_data = pd.read_csv('/Users/andrewsimon/Desktop/IMDBDataset.csv.zip')\n",
    "main_data"
   ]
  },
  {
   "cell_type": "code",
   "execution_count": 16,
   "metadata": {},
   "outputs": [
    {
     "data": {
      "text/html": [
       "<div>\n",
       "<style scoped>\n",
       "    .dataframe tbody tr th:only-of-type {\n",
       "        vertical-align: middle;\n",
       "    }\n",
       "\n",
       "    .dataframe tbody tr th {\n",
       "        vertical-align: top;\n",
       "    }\n",
       "\n",
       "    .dataframe thead th {\n",
       "        text-align: right;\n",
       "    }\n",
       "</style>\n",
       "<table border=\"1\" class=\"dataframe\">\n",
       "  <thead>\n",
       "    <tr style=\"text-align: right;\">\n",
       "      <th></th>\n",
       "      <th>review</th>\n",
       "      <th>sentiment</th>\n",
       "    </tr>\n",
       "  </thead>\n",
       "  <tbody>\n",
       "    <tr>\n",
       "      <th>0</th>\n",
       "      <td>One of the other reviewers has mentioned that after watching just 1 Oz episode you'll be hooked....</td>\n",
       "      <td>1</td>\n",
       "    </tr>\n",
       "    <tr>\n",
       "      <th>1</th>\n",
       "      <td>A wonderful little production. &lt;br /&gt;&lt;br /&gt;The filming technique is very unassuming- very old-ti...</td>\n",
       "      <td>1</td>\n",
       "    </tr>\n",
       "    <tr>\n",
       "      <th>2</th>\n",
       "      <td>I thought this was a wonderful way to spend time on a too hot summer weekend, sitting in the air...</td>\n",
       "      <td>1</td>\n",
       "    </tr>\n",
       "    <tr>\n",
       "      <th>3</th>\n",
       "      <td>Basically there's a family where a little boy (Jake) thinks there's a zombie in his closet &amp; his...</td>\n",
       "      <td>0</td>\n",
       "    </tr>\n",
       "    <tr>\n",
       "      <th>4</th>\n",
       "      <td>Petter Mattei's \"Love in the Time of Money\" is a visually stunning film to watch. Mr. Mattei off...</td>\n",
       "      <td>1</td>\n",
       "    </tr>\n",
       "    <tr>\n",
       "      <th>...</th>\n",
       "      <td>...</td>\n",
       "      <td>...</td>\n",
       "    </tr>\n",
       "    <tr>\n",
       "      <th>49995</th>\n",
       "      <td>I thought this movie did a down right good job. It wasn't as creative or original as the first, ...</td>\n",
       "      <td>1</td>\n",
       "    </tr>\n",
       "    <tr>\n",
       "      <th>49996</th>\n",
       "      <td>Bad plot, bad dialogue, bad acting, idiotic directing, the annoying porn groove soundtrack that ...</td>\n",
       "      <td>0</td>\n",
       "    </tr>\n",
       "    <tr>\n",
       "      <th>49997</th>\n",
       "      <td>I am a Catholic taught in parochial elementary schools by nuns, taught by Jesuit priests in high...</td>\n",
       "      <td>0</td>\n",
       "    </tr>\n",
       "    <tr>\n",
       "      <th>49998</th>\n",
       "      <td>I'm going to have to disagree with the previous comment and side with Maltin on this one. This i...</td>\n",
       "      <td>0</td>\n",
       "    </tr>\n",
       "    <tr>\n",
       "      <th>49999</th>\n",
       "      <td>No one expects the Star Trek movies to be high art, but the fans do expect a movie that is as go...</td>\n",
       "      <td>0</td>\n",
       "    </tr>\n",
       "  </tbody>\n",
       "</table>\n",
       "<p>50000 rows × 2 columns</p>\n",
       "</div>"
      ],
      "text/plain": [
       "                                                                                                    review  \\\n",
       "0      One of the other reviewers has mentioned that after watching just 1 Oz episode you'll be hooked....   \n",
       "1      A wonderful little production. <br /><br />The filming technique is very unassuming- very old-ti...   \n",
       "2      I thought this was a wonderful way to spend time on a too hot summer weekend, sitting in the air...   \n",
       "3      Basically there's a family where a little boy (Jake) thinks there's a zombie in his closet & his...   \n",
       "4      Petter Mattei's \"Love in the Time of Money\" is a visually stunning film to watch. Mr. Mattei off...   \n",
       "...                                                                                                    ...   \n",
       "49995  I thought this movie did a down right good job. It wasn't as creative or original as the first, ...   \n",
       "49996  Bad plot, bad dialogue, bad acting, idiotic directing, the annoying porn groove soundtrack that ...   \n",
       "49997  I am a Catholic taught in parochial elementary schools by nuns, taught by Jesuit priests in high...   \n",
       "49998  I'm going to have to disagree with the previous comment and side with Maltin on this one. This i...   \n",
       "49999  No one expects the Star Trek movies to be high art, but the fans do expect a movie that is as go...   \n",
       "\n",
       "       sentiment  \n",
       "0              1  \n",
       "1              1  \n",
       "2              1  \n",
       "3              0  \n",
       "4              1  \n",
       "...          ...  \n",
       "49995          1  \n",
       "49996          0  \n",
       "49997          0  \n",
       "49998          0  \n",
       "49999          0  \n",
       "\n",
       "[50000 rows x 2 columns]"
      ]
     },
     "execution_count": 16,
     "metadata": {},
     "output_type": "execute_result"
    }
   ],
   "source": [
    "# Map sentiment via one hot encoding\n",
    "main_data['sentiment'] = main_data['sentiment'].map({'positive':1, 'negative': 0})\n",
    "main_data"
   ]
  },
  {
   "cell_type": "code",
   "execution_count": 17,
   "metadata": {},
   "outputs": [
    {
     "data": {
      "text/html": [
       "<div>\n",
       "<style scoped>\n",
       "    .dataframe tbody tr th:only-of-type {\n",
       "        vertical-align: middle;\n",
       "    }\n",
       "\n",
       "    .dataframe tbody tr th {\n",
       "        vertical-align: top;\n",
       "    }\n",
       "\n",
       "    .dataframe thead th {\n",
       "        text-align: right;\n",
       "    }\n",
       "</style>\n",
       "<table border=\"1\" class=\"dataframe\">\n",
       "  <thead>\n",
       "    <tr style=\"text-align: right;\">\n",
       "      <th></th>\n",
       "      <th>review</th>\n",
       "      <th>sentiment</th>\n",
       "    </tr>\n",
       "  </thead>\n",
       "  <tbody>\n",
       "    <tr>\n",
       "      <th>0</th>\n",
       "      <td>[one, of, the, other, reviewers, has, mentioned, that, after, watching, just, oz, episode, you, ...</td>\n",
       "      <td>1</td>\n",
       "    </tr>\n",
       "    <tr>\n",
       "      <th>1</th>\n",
       "      <td>[wonderful, little, production, br, br, the, filming, technique, is, very, unassuming, very, old...</td>\n",
       "      <td>1</td>\n",
       "    </tr>\n",
       "    <tr>\n",
       "      <th>2</th>\n",
       "      <td>[thought, this, was, wonderful, way, to, spend, time, on, too, hot, summer, weekend, sitting, in...</td>\n",
       "      <td>1</td>\n",
       "    </tr>\n",
       "    <tr>\n",
       "      <th>3</th>\n",
       "      <td>[basically, there, family, where, little, boy, jake, thinks, there, zombie, in, his, closet, his...</td>\n",
       "      <td>0</td>\n",
       "    </tr>\n",
       "    <tr>\n",
       "      <th>4</th>\n",
       "      <td>[petter, mattei, love, in, the, time, of, money, is, visually, stunning, film, to, watch, mr, ma...</td>\n",
       "      <td>1</td>\n",
       "    </tr>\n",
       "  </tbody>\n",
       "</table>\n",
       "</div>"
      ],
      "text/plain": [
       "                                                                                                review  \\\n",
       "0  [one, of, the, other, reviewers, has, mentioned, that, after, watching, just, oz, episode, you, ...   \n",
       "1  [wonderful, little, production, br, br, the, filming, technique, is, very, unassuming, very, old...   \n",
       "2  [thought, this, was, wonderful, way, to, spend, time, on, too, hot, summer, weekend, sitting, in...   \n",
       "3  [basically, there, family, where, little, boy, jake, thinks, there, zombie, in, his, closet, his...   \n",
       "4  [petter, mattei, love, in, the, time, of, money, is, visually, stunning, film, to, watch, mr, ma...   \n",
       "\n",
       "   sentiment  \n",
       "0          1  \n",
       "1          1  \n",
       "2          1  \n",
       "3          0  \n",
       "4          1  "
      ]
     },
     "execution_count": 17,
     "metadata": {},
     "output_type": "execute_result"
    }
   ],
   "source": [
    "# Preprocess data for W2v\n",
    "main_data['review'] = main_data['review'].apply(lambda x: gensim.utils.simple_preprocess(x))\n",
    "main_data.head()"
   ]
  },
  {
   "cell_type": "code",
   "execution_count": 18,
   "metadata": {},
   "outputs": [
    {
     "name": "stderr",
     "output_type": "stream",
     "text": [
      "/var/folders/8f/mjj28lvs5fb1m_c_tvmtckl80000gn/T/ipykernel_31124/2852260835.py:10: SettingWithCopyWarning: \n",
      "A value is trying to be set on a copy of a slice from a DataFrame\n",
      "\n",
      "See the caveats in the documentation: https://pandas.pydata.org/pandas-docs/stable/user_guide/indexing.html#returning-a-view-versus-a-copy\n",
      "  main_data['review'][i] = sub_list\n"
     ]
    }
   ],
   "source": [
    "\n",
    "# Append vectorizations from pre trained model\n",
    "\n",
    "for i in range(len(main_data['review'])):\n",
    "    sub_list = []\n",
    "    for j in main_data['review'][i]:\n",
    "        try:\n",
    "            sub_list.append(google_vectors[j])\n",
    "        except KeyError:\n",
    "            sub_list.append(np.zeros(300,))\n",
    "    main_data['review'][i] = sub_list\n"
   ]
  },
  {
   "cell_type": "code",
   "execution_count": 19,
   "metadata": {},
   "outputs": [],
   "source": [
    "# Separate into training and testing data\n",
    "X_train, X_test, y_train, y_test = train_test_split(main_data['review'], main_data['sentiment'], test_size=0.2, random_state=1516)"
   ]
  },
  {
   "cell_type": "code",
   "execution_count": 20,
   "metadata": {},
   "outputs": [],
   "source": [
    "# Pad data to remove ragged arrays\n",
    "training_padded = pad_sequences(X_train, maxlen=120, truncating='post')"
   ]
  },
  {
   "cell_type": "code",
   "execution_count": 21,
   "metadata": {},
   "outputs": [],
   "source": [
    "\n",
    "testing_padded = pad_sequences(X_test, maxlen=120, truncating='post')"
   ]
  },
  {
   "cell_type": "code",
   "execution_count": 22,
   "metadata": {},
   "outputs": [],
   "source": [
    "# Cast to numpy arrays\n",
    "X_train = X_train.to_numpy()"
   ]
  },
  {
   "cell_type": "code",
   "execution_count": 23,
   "metadata": {},
   "outputs": [],
   "source": [
    "X_test = X_test.to_numpy()\n",
    "y_train = y_train.to_numpy()\n",
    "y_test = y_test.to_numpy()"
   ]
  },
  {
   "cell_type": "code",
   "execution_count": 24,
   "metadata": {},
   "outputs": [
    {
     "name": "stdout",
     "output_type": "stream",
     "text": [
      "Epoch 1/10\n"
     ]
    },
    {
     "name": "stderr",
     "output_type": "stream",
     "text": [
      "2023-05-10 04:04:20.995912: W tensorflow/tsl/platform/profile_utils/cpu_utils.cc:128] Failed to get CPU frequency: 0 Hz\n"
     ]
    },
    {
     "name": "stdout",
     "output_type": "stream",
     "text": [
      "1250/1250 [==============================] - 6s 4ms/step - loss: 0.6933 - accuracy: 0.4986 - recall: 0.7525 - auc: 0.4987 - precision: 0.4988 - false_negatives: 4945.0000 - false_positives: 15112.0000 - val_loss: 0.6932 - val_accuracy: 0.4983 - val_recall: 0.0000e+00 - val_auc: 0.5000 - val_precision: 0.0000e+00 - val_false_negatives: 5017.0000 - val_false_positives: 0.0000e+00\n",
      "Epoch 2/10\n",
      "1250/1250 [==============================] - 4s 3ms/step - loss: 0.6829 - accuracy: 0.5525 - recall: 0.3967 - auc: 0.5824 - precision: 0.5756 - false_negatives: 12055.0000 - false_positives: 5845.0000 - val_loss: 0.6553 - val_accuracy: 0.6271 - val_recall: 0.7076 - val_auc: 0.6797 - val_precision: 0.6108 - val_false_negatives: 1467.0000 - val_false_positives: 2262.0000\n",
      "Epoch 3/10\n",
      "1250/1250 [==============================] - 4s 3ms/step - loss: 0.5926 - accuracy: 0.7049 - recall: 0.7200 - auc: 0.7623 - precision: 0.6985 - false_negatives: 5596.0000 - false_positives: 6209.0000 - val_loss: 0.6331 - val_accuracy: 0.6449 - val_recall: 0.5860 - val_auc: 0.6974 - val_precision: 0.6661 - val_false_negatives: 2077.0000 - val_false_positives: 1474.0000\n",
      "Epoch 4/10\n",
      "1250/1250 [==============================] - 5s 4ms/step - loss: 0.4827 - accuracy: 0.7905 - recall: 0.7753 - auc: 0.8528 - precision: 0.7994 - false_negatives: 4491.0000 - false_positives: 3888.0000 - val_loss: 0.6620 - val_accuracy: 0.6442 - val_recall: 0.6141 - val_auc: 0.6955 - val_precision: 0.6551 - val_false_negatives: 1936.0000 - val_false_positives: 1622.0000\n",
      "Epoch 5/10\n",
      "1250/1250 [==============================] - 4s 3ms/step - loss: 0.3993 - accuracy: 0.8414 - recall: 0.8149 - auc: 0.8952 - precision: 0.8602 - false_negatives: 3698.0000 - false_positives: 2647.0000 - val_loss: 0.7291 - val_accuracy: 0.6417 - val_recall: 0.6315 - val_auc: 0.6904 - val_precision: 0.6463 - val_false_negatives: 1849.0000 - val_false_positives: 1734.0000\n",
      "Epoch 6/10\n",
      "1250/1250 [==============================] - 4s 3ms/step - loss: 0.3348 - accuracy: 0.8776 - recall: 0.8457 - auc: 0.9190 - precision: 0.9031 - false_negatives: 3084.0000 - false_positives: 1814.0000 - val_loss: 0.7841 - val_accuracy: 0.6338 - val_recall: 0.5053 - val_auc: 0.6739 - val_precision: 0.6824 - val_false_negatives: 2482.0000 - val_false_positives: 1180.0000\n",
      "Epoch 7/10\n",
      "1250/1250 [==============================] - 4s 3ms/step - loss: 0.2853 - accuracy: 0.9030 - recall: 0.8691 - auc: 0.9340 - precision: 0.9322 - false_negatives: 2615.0000 - false_positives: 1264.0000 - val_loss: 0.9395 - val_accuracy: 0.6340 - val_recall: 0.6362 - val_auc: 0.6770 - val_precision: 0.6350 - val_false_negatives: 1825.0000 - val_false_positives: 1835.0000\n",
      "Epoch 8/10\n",
      "1250/1250 [==============================] - 4s 3ms/step - loss: 0.2426 - accuracy: 0.9231 - recall: 0.8884 - auc: 0.9448 - precision: 0.9546 - false_negatives: 2231.0000 - false_positives: 844.0000 - val_loss: 1.0554 - val_accuracy: 0.6301 - val_recall: 0.6245 - val_auc: 0.6705 - val_precision: 0.6332 - val_false_negatives: 1884.0000 - val_false_positives: 1815.0000\n",
      "Epoch 9/10\n",
      "1250/1250 [==============================] - 4s 3ms/step - loss: 0.2092 - accuracy: 0.9373 - recall: 0.9016 - auc: 0.9512 - precision: 0.9707 - false_negatives: 1966.0000 - false_positives: 544.0000 - val_loss: 1.1770 - val_accuracy: 0.6286 - val_recall: 0.6201 - val_auc: 0.6659 - val_precision: 0.6324 - val_false_negatives: 1906.0000 - val_false_positives: 1808.0000\n",
      "Epoch 10/10\n",
      "1250/1250 [==============================] - 4s 3ms/step - loss: 0.1854 - accuracy: 0.9462 - recall: 0.9100 - auc: 0.9577 - precision: 0.9808 - false_negatives: 1798.0000 - false_positives: 356.0000 - val_loss: 1.3851 - val_accuracy: 0.6292 - val_recall: 0.6508 - val_auc: 0.6630 - val_precision: 0.6254 - val_false_negatives: 1752.0000 - val_false_positives: 1956.0000\n"
     ]
    },
    {
     "data": {
      "text/plain": [
       "<keras.callbacks.History at 0x5d8d7db50>"
      ]
     },
     "execution_count": 24,
     "metadata": {},
     "output_type": "execute_result"
    }
   ],
   "source": [
    "# Create model, evaluate\n",
    "\n",
    "batch = 32\n",
    "\n",
    "model = tf.keras.Sequential([\n",
    "    tf.keras.layers.Flatten(),\n",
    "    tf.keras.layers.Dense(6, activation='relu'),\n",
    "    tf.keras.layers.Dense(1, activation='sigmoid')\n",
    "])\n",
    "model.compile(loss='binary_crossentropy',optimizer='adam',metrics=['accuracy', 'Recall', 'AUC', 'Precision', 'FalseNegatives', 'FalsePositives'])\n",
    "    \n",
    "num_epochs = 10\n",
    "model.fit(training_padded, y_train, epochs=num_epochs,batch_size=batch, validation_data=(testing_padded, y_test))"
   ]
  }
 ],
 "metadata": {
  "kernelspec": {
   "display_name": "base",
   "language": "python",
   "name": "python3"
  },
  "language_info": {
   "codemirror_mode": {
    "name": "ipython",
    "version": 3
   },
   "file_extension": ".py",
   "mimetype": "text/x-python",
   "name": "python",
   "nbconvert_exporter": "python",
   "pygments_lexer": "ipython3",
   "version": "3.8.9"
  },
  "orig_nbformat": 4
 },
 "nbformat": 4,
 "nbformat_minor": 2
}
