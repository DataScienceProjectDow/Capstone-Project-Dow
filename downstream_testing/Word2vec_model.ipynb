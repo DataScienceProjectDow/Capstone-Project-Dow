{
 "cells": [
  {
   "cell_type": "code",
   "execution_count": 2,
   "metadata": {},
   "outputs": [],
   "source": [
    "# Import Packages\n",
    "import gensim\n",
    "import numpy as np\n",
    "import pandas as pd\n",
    "from sklearn.model_selection import train_test_split\n",
    "from gensim.models import KeyedVectors\n",
    "pd.set_option('display.max_colwidth', 100)\n",
    "import numpy as np\n",
    "import tensorflow as tf\n",
    "import tensorflow_datasets as tfds\n",
    "from tensorflow.keras.preprocessing.text import Tokenizer\n",
    "from tensorflow.keras.preprocessing.sequence import pad_sequences\n",
    "from sklearn.model_selection import train_test_split\n",
    "import pandas as pd\n",
    "from gensim.models import KeyedVectors\n",
    "import gensim.downloader\n",
    "from collections import deque"
   ]
  },
  {
   "cell_type": "code",
   "execution_count": 3,
   "metadata": {},
   "outputs": [],
   "source": [
    "# Load pretrained word2vec model from gensim\n",
    "google_vectors = gensim.downloader.load('glove-wiki-gigaword-300')"
   ]
  },
  {
   "cell_type": "code",
   "execution_count": 6,
   "metadata": {},
   "outputs": [
    {
     "data": {
      "text/html": [
       "<div>\n",
       "<style scoped>\n",
       "    .dataframe tbody tr th:only-of-type {\n",
       "        vertical-align: middle;\n",
       "    }\n",
       "\n",
       "    .dataframe tbody tr th {\n",
       "        vertical-align: top;\n",
       "    }\n",
       "\n",
       "    .dataframe thead th {\n",
       "        text-align: right;\n",
       "    }\n",
       "</style>\n",
       "<table border=\"1\" class=\"dataframe\">\n",
       "  <thead>\n",
       "    <tr style=\"text-align: right;\">\n",
       "      <th></th>\n",
       "      <th>Level</th>\n",
       "      <th>Report</th>\n",
       "    </tr>\n",
       "  </thead>\n",
       "  <tbody>\n",
       "    <tr>\n",
       "      <th>0</th>\n",
       "      <td>2</td>\n",
       "      <td>On April 10th at 12:30 PM, there was an incident at the chemical plant. The incident occurred du...</td>\n",
       "    </tr>\n",
       "    <tr>\n",
       "      <th>1</th>\n",
       "      <td>3</td>\n",
       "      <td>On April 8th at 9:00 PM, a fire broke out in the storage area of the chemical plant. The fire wa...</td>\n",
       "    </tr>\n",
       "    <tr>\n",
       "      <th>2</th>\n",
       "      <td>4</td>\n",
       "      <td>On April 6th at 2:45 AM, there was an incident at the chemical plant. The incident occurred duri...</td>\n",
       "    </tr>\n",
       "    <tr>\n",
       "      <th>3</th>\n",
       "      <td>1</td>\n",
       "      <td>On April 5th at 7:15 PM, there was an unplanned event at the chemical plant. The incident occurr...</td>\n",
       "    </tr>\n",
       "    <tr>\n",
       "      <th>4</th>\n",
       "      <td>5</td>\n",
       "      <td>On April 2nd at 11:30 AM, there was a minor incident at the chemical plant. The incident occurre...</td>\n",
       "    </tr>\n",
       "    <tr>\n",
       "      <th>...</th>\n",
       "      <td>...</td>\n",
       "      <td>...</td>\n",
       "    </tr>\n",
       "    <tr>\n",
       "      <th>295</th>\n",
       "      <td>3</td>\n",
       "      <td>At 9:45 AM, a worker reported a small leak of chemical B in the storage area. The leak was cause...</td>\n",
       "    </tr>\n",
       "    <tr>\n",
       "      <th>296</th>\n",
       "      <td>5</td>\n",
       "      <td>At 2:30 PM, a worker reported a small spill of chemical C in the separation unit. The spill was ...</td>\n",
       "    </tr>\n",
       "    <tr>\n",
       "      <th>297</th>\n",
       "      <td>4</td>\n",
       "      <td>At 6:15 AM, a worker reported an unusual odor coming from the storage area. Upon investigation, ...</td>\n",
       "    </tr>\n",
       "    <tr>\n",
       "      <th>298</th>\n",
       "      <td>2</td>\n",
       "      <td>At 11:00 AM, a worker reported a small fire in the reaction unit. The fire was quickly extinguis...</td>\n",
       "    </tr>\n",
       "    <tr>\n",
       "      <th>299</th>\n",
       "      <td>1</td>\n",
       "      <td>At 4:00 PM, an unplanned event occurred in the separation unit, resulting in a major release of ...</td>\n",
       "    </tr>\n",
       "  </tbody>\n",
       "</table>\n",
       "<p>300 rows × 2 columns</p>\n",
       "</div>"
      ],
      "text/plain": [
       "     Level  \\\n",
       "0        2   \n",
       "1        3   \n",
       "2        4   \n",
       "3        1   \n",
       "4        5   \n",
       "..     ...   \n",
       "295      3   \n",
       "296      5   \n",
       "297      4   \n",
       "298      2   \n",
       "299      1   \n",
       "\n",
       "                                                                                                  Report  \n",
       "0    On April 10th at 12:30 PM, there was an incident at the chemical plant. The incident occurred du...  \n",
       "1    On April 8th at 9:00 PM, a fire broke out in the storage area of the chemical plant. The fire wa...  \n",
       "2    On April 6th at 2:45 AM, there was an incident at the chemical plant. The incident occurred duri...  \n",
       "3    On April 5th at 7:15 PM, there was an unplanned event at the chemical plant. The incident occurr...  \n",
       "4    On April 2nd at 11:30 AM, there was a minor incident at the chemical plant. The incident occurre...  \n",
       "..                                                                                                   ...  \n",
       "295  At 9:45 AM, a worker reported a small leak of chemical B in the storage area. The leak was cause...  \n",
       "296  At 2:30 PM, a worker reported a small spill of chemical C in the separation unit. The spill was ...  \n",
       "297  At 6:15 AM, a worker reported an unusual odor coming from the storage area. Upon investigation, ...  \n",
       "298  At 11:00 AM, a worker reported a small fire in the reaction unit. The fire was quickly extinguis...  \n",
       "299  At 4:00 PM, an unplanned event occurred in the separation unit, resulting in a major release of ...  \n",
       "\n",
       "[300 rows x 2 columns]"
      ]
     },
     "execution_count": 6,
     "metadata": {},
     "output_type": "execute_result"
    }
   ],
   "source": [
    "# load csv from zip file\n",
    "main_data = pd.read_csv('/Users/andrewsimon/Desktop/Dow_dat.csv')\n",
    "main_data"
   ]
  },
  {
   "cell_type": "code",
   "execution_count": 7,
   "metadata": {},
   "outputs": [
    {
     "data": {
      "text/html": [
       "<div>\n",
       "<style scoped>\n",
       "    .dataframe tbody tr th:only-of-type {\n",
       "        vertical-align: middle;\n",
       "    }\n",
       "\n",
       "    .dataframe tbody tr th {\n",
       "        vertical-align: top;\n",
       "    }\n",
       "\n",
       "    .dataframe thead th {\n",
       "        text-align: right;\n",
       "    }\n",
       "</style>\n",
       "<table border=\"1\" class=\"dataframe\">\n",
       "  <thead>\n",
       "    <tr style=\"text-align: right;\">\n",
       "      <th></th>\n",
       "      <th>Level</th>\n",
       "      <th>Report</th>\n",
       "    </tr>\n",
       "  </thead>\n",
       "  <tbody>\n",
       "    <tr>\n",
       "      <th>0</th>\n",
       "      <td>2</td>\n",
       "      <td>[on, april, th, at, pm, there, was, an, incident, at, the, chemical, plant, the, incident, occur...</td>\n",
       "    </tr>\n",
       "    <tr>\n",
       "      <th>1</th>\n",
       "      <td>3</td>\n",
       "      <td>[on, april, th, at, pm, fire, broke, out, in, the, storage, area, of, the, chemical, plant, the,...</td>\n",
       "    </tr>\n",
       "    <tr>\n",
       "      <th>2</th>\n",
       "      <td>4</td>\n",
       "      <td>[on, april, th, at, am, there, was, an, incident, at, the, chemical, plant, the, incident, occur...</td>\n",
       "    </tr>\n",
       "    <tr>\n",
       "      <th>3</th>\n",
       "      <td>1</td>\n",
       "      <td>[on, april, th, at, pm, there, was, an, unplanned, event, at, the, chemical, plant, the, inciden...</td>\n",
       "    </tr>\n",
       "    <tr>\n",
       "      <th>4</th>\n",
       "      <td>5</td>\n",
       "      <td>[on, april, nd, at, am, there, was, minor, incident, at, the, chemical, plant, the, incident, oc...</td>\n",
       "    </tr>\n",
       "  </tbody>\n",
       "</table>\n",
       "</div>"
      ],
      "text/plain": [
       "   Level  \\\n",
       "0      2   \n",
       "1      3   \n",
       "2      4   \n",
       "3      1   \n",
       "4      5   \n",
       "\n",
       "                                                                                                Report  \n",
       "0  [on, april, th, at, pm, there, was, an, incident, at, the, chemical, plant, the, incident, occur...  \n",
       "1  [on, april, th, at, pm, fire, broke, out, in, the, storage, area, of, the, chemical, plant, the,...  \n",
       "2  [on, april, th, at, am, there, was, an, incident, at, the, chemical, plant, the, incident, occur...  \n",
       "3  [on, april, th, at, pm, there, was, an, unplanned, event, at, the, chemical, plant, the, inciden...  \n",
       "4  [on, april, nd, at, am, there, was, minor, incident, at, the, chemical, plant, the, incident, oc...  "
      ]
     },
     "execution_count": 7,
     "metadata": {},
     "output_type": "execute_result"
    }
   ],
   "source": [
    "# Preprocess data for W2v\n",
    "main_data['Report'] = main_data['Report'].apply(lambda x: gensim.utils.simple_preprocess(x))\n",
    "main_data.head()"
   ]
  },
  {
   "cell_type": "code",
   "execution_count": 8,
   "metadata": {},
   "outputs": [],
   "source": [
    "corpus = []\n",
    "\n",
    "for row in range(len(main_data)):\n",
    "    corpus.append(main_data['Report'][row])"
   ]
  },
  {
   "cell_type": "code",
   "execution_count": 15,
   "metadata": {},
   "outputs": [],
   "source": [
    "embedded_array = []\n",
    "\n",
    "for sentence in corpus:\n",
    "    embedded_sub_array = []\n",
    "    for word in sentence:\n",
    "        try: \n",
    "            embedded_sub_array.append(list(google_vectors[word]))\n",
    "        except KeyError:\n",
    "            embedded_sub_array.append(np.zeros(300,))\n",
    "            print(2)\n",
    "    embedded_array.append(embedded_sub_array)"
   ]
  },
  {
   "cell_type": "code",
   "execution_count": 32,
   "metadata": {},
   "outputs": [
    {
     "name": "stderr",
     "output_type": "stream",
     "text": [
      "/var/folders/8f/mjj28lvs5fb1m_c_tvmtckl80000gn/T/ipykernel_31124/2852260835.py:10: SettingWithCopyWarning: \n",
      "A value is trying to be set on a copy of a slice from a DataFrame\n",
      "\n",
      "See the caveats in the documentation: https://pandas.pydata.org/pandas-docs/stable/user_guide/indexing.html#returning-a-view-versus-a-copy\n",
      "  main_data['review'][i] = sub_list\n"
     ]
    }
   ],
   "source": [
    "\n",
    "# Append vectorizations from pre trained model\n",
    "\n",
    "for i in range(len(main_data['review'])):\n",
    "    sub_list = []\n",
    "    for j in main_data['review'][i]:\n",
    "        try:\n",
    "            sub_list.append(google_vectors[j])\n",
    "        except KeyError:\n",
    "            sub_list.append(np.zeros(300,))\n",
    "    main_data['review'][i] = sub_list\n"
   ]
  },
  {
   "cell_type": "code",
   "execution_count": null,
   "metadata": {},
   "outputs": [],
   "source": []
  },
  {
   "cell_type": "code",
   "execution_count": 29,
   "metadata": {},
   "outputs": [],
   "source": [
    "# Separate into training and testing data\n",
    "X_train, X_test, y_train, y_test = train_test_split(embedded_array, main_data['Level'], test_size=0.15, random_state=1516)"
   ]
  },
  {
   "cell_type": "code",
   "execution_count": 30,
   "metadata": {},
   "outputs": [],
   "source": [
    "vocab_size = 10000\n",
    "embedding_dim = 16\n",
    "max_length = 120\n",
    "trunc_type = 'post'\n",
    "oov_tok = '<OOV>'"
   ]
  },
  {
   "cell_type": "code",
   "execution_count": 31,
   "metadata": {},
   "outputs": [],
   "source": [
    "training_padded = pad_sequences(X_train,maxlen=max_length, truncating=trunc_type)\n",
    "testing_padded = pad_sequences(X_test,maxlen=max_length, truncating=trunc_type)"
   ]
  },
  {
   "cell_type": "code",
   "execution_count": 34,
   "metadata": {},
   "outputs": [],
   "source": [
    "# Pad data to remove ragged arrays\n",
    "training_padded = pad_sequences(X_train, maxlen=120, truncating='post')"
   ]
  },
  {
   "cell_type": "code",
   "execution_count": 35,
   "metadata": {},
   "outputs": [],
   "source": [
    "\n",
    "testing_padded = pad_sequences(X_test, maxlen=120, truncating='post')"
   ]
  },
  {
   "cell_type": "code",
   "execution_count": null,
   "metadata": {},
   "outputs": [],
   "source": []
  },
  {
   "cell_type": "code",
   "execution_count": 36,
   "metadata": {},
   "outputs": [],
   "source": [
    "# Cast to numpy arrays\n",
    "X_train = X_train.to_numpy()"
   ]
  },
  {
   "cell_type": "code",
   "execution_count": 37,
   "metadata": {},
   "outputs": [],
   "source": [
    "X_test = X_test.to_numpy()\n",
    "y_train = y_train.to_numpy()\n",
    "y_test = y_test.to_numpy()"
   ]
  },
  {
   "cell_type": "code",
   "execution_count": 28,
   "metadata": {},
   "outputs": [
    {
     "ename": "ValueError",
     "evalue": "setting an array element with a sequence.",
     "output_type": "error",
     "traceback": [
      "\u001b[0;31m---------------------------------------------------------------------------\u001b[0m",
      "\u001b[0;31mTypeError\u001b[0m                                 Traceback (most recent call last)",
      "\u001b[0;31mTypeError\u001b[0m: float() argument must be a string or a number, not 'list'",
      "\nThe above exception was the direct cause of the following exception:\n",
      "\u001b[0;31mValueError\u001b[0m                                Traceback (most recent call last)",
      "\u001b[1;32m/Users/andrewsimon/nlpmaps/downstream_testing/Word2vec_model.ipynb Cell 14\u001b[0m in \u001b[0;36m1\n\u001b[0;32m----> <a href='vscode-notebook-cell:/Users/andrewsimon/nlpmaps/downstream_testing/Word2vec_model.ipynb#X26sZmlsZQ%3D%3D?line=0'>1</a>\u001b[0m X_train \u001b[39m=\u001b[39m np\u001b[39m.\u001b[39;49masarray(X_train, dtype\u001b[39m=\u001b[39;49m\u001b[39mobject\u001b[39;49m)\u001b[39m.\u001b[39;49mastype(\u001b[39m'\u001b[39;49m\u001b[39mfloat32\u001b[39;49m\u001b[39m'\u001b[39;49m)\n\u001b[1;32m      <a href='vscode-notebook-cell:/Users/andrewsimon/nlpmaps/downstream_testing/Word2vec_model.ipynb#X26sZmlsZQ%3D%3D?line=1'>2</a>\u001b[0m X_test \u001b[39m=\u001b[39m np\u001b[39m.\u001b[39masarray(X_test, dtype\u001b[39m=\u001b[39m\u001b[39mobject\u001b[39m)\u001b[39m.\u001b[39mastype(\u001b[39m'\u001b[39m\u001b[39mfloat32\u001b[39m\u001b[39m'\u001b[39m)\n\u001b[1;32m      <a href='vscode-notebook-cell:/Users/andrewsimon/nlpmaps/downstream_testing/Word2vec_model.ipynb#X26sZmlsZQ%3D%3D?line=2'>3</a>\u001b[0m y_train \u001b[39m=\u001b[39m np\u001b[39m.\u001b[39masarray(y_train, dtype \u001b[39m=\u001b[39m \u001b[39mobject\u001b[39m)\u001b[39m.\u001b[39mastype(\u001b[39m'\u001b[39m\u001b[39mfloat32\u001b[39m\u001b[39m'\u001b[39m)\n",
      "\u001b[0;31mValueError\u001b[0m: setting an array element with a sequence."
     ]
    }
   ],
   "source": [
    "X_train = np.asarray(X_train, dtype=object).astype('float32')\n",
    "X_test = np.asarray(X_test, dtype=object).astype('float32')\n",
    "y_train = np.asarray(y_train, dtype = object).astype('float32')\n",
    "y_test = np.asarray(y_test, dtype = object).astype('float32')"
   ]
  },
  {
   "cell_type": "code",
   "execution_count": 32,
   "metadata": {},
   "outputs": [
    {
     "name": "stdout",
     "output_type": "stream",
     "text": [
      "Epoch 1/10\n",
      "8/8 [==============================] - 1s 27ms/step - loss: -3.0747 - accuracy: 0.1412 - recall: 0.9647 - auc: 0.0000e+00 - precision: 1.0000 - false_negatives: 9.0000 - false_positives: 0.0000e+00 - val_loss: -7.9215 - val_accuracy: 0.2000 - val_recall: 1.0000 - val_auc: 0.0000e+00 - val_precision: 1.0000 - val_false_negatives: 0.0000e+00 - val_false_positives: 0.0000e+00\n",
      "Epoch 2/10\n",
      "8/8 [==============================] - 0s 6ms/step - loss: -11.2233 - accuracy: 0.1529 - recall: 1.0000 - auc: 0.0000e+00 - precision: 1.0000 - false_negatives: 0.0000e+00 - false_positives: 0.0000e+00 - val_loss: -16.2763 - val_accuracy: 0.2000 - val_recall: 1.0000 - val_auc: 0.0000e+00 - val_precision: 1.0000 - val_false_negatives: 0.0000e+00 - val_false_positives: 0.0000e+00\n",
      "Epoch 3/10\n",
      "8/8 [==============================] - 0s 6ms/step - loss: -19.4794 - accuracy: 0.1529 - recall: 1.0000 - auc: 0.0000e+00 - precision: 1.0000 - false_negatives: 0.0000e+00 - false_positives: 0.0000e+00 - val_loss: -24.8993 - val_accuracy: 0.2000 - val_recall: 1.0000 - val_auc: 0.0000e+00 - val_precision: 1.0000 - val_false_negatives: 0.0000e+00 - val_false_positives: 0.0000e+00\n",
      "Epoch 4/10\n",
      "8/8 [==============================] - 0s 6ms/step - loss: -27.7638 - accuracy: 0.1529 - recall: 1.0000 - auc: 0.0000e+00 - precision: 1.0000 - false_negatives: 0.0000e+00 - false_positives: 0.0000e+00 - val_loss: -33.9939 - val_accuracy: 0.2000 - val_recall: 1.0000 - val_auc: 0.0000e+00 - val_precision: 1.0000 - val_false_negatives: 0.0000e+00 - val_false_positives: 0.0000e+00\n",
      "Epoch 5/10\n",
      "8/8 [==============================] - 0s 5ms/step - loss: -36.7933 - accuracy: 0.1529 - recall: 1.0000 - auc: 0.0000e+00 - precision: 1.0000 - false_negatives: 0.0000e+00 - false_positives: 0.0000e+00 - val_loss: -43.3670 - val_accuracy: 0.2000 - val_recall: 1.0000 - val_auc: 0.0000e+00 - val_precision: 1.0000 - val_false_negatives: 0.0000e+00 - val_false_positives: 0.0000e+00\n",
      "Epoch 6/10\n",
      "8/8 [==============================] - 0s 5ms/step - loss: -46.2125 - accuracy: 0.1529 - recall: 1.0000 - auc: 0.0000e+00 - precision: 1.0000 - false_negatives: 0.0000e+00 - false_positives: 0.0000e+00 - val_loss: -53.1038 - val_accuracy: 0.2000 - val_recall: 1.0000 - val_auc: 0.0000e+00 - val_precision: 1.0000 - val_false_negatives: 0.0000e+00 - val_false_positives: 0.0000e+00\n",
      "Epoch 7/10\n",
      "8/8 [==============================] - 0s 5ms/step - loss: -55.8452 - accuracy: 0.1529 - recall: 1.0000 - auc: 0.0000e+00 - precision: 1.0000 - false_negatives: 0.0000e+00 - false_positives: 0.0000e+00 - val_loss: -63.4001 - val_accuracy: 0.2000 - val_recall: 1.0000 - val_auc: 0.0000e+00 - val_precision: 1.0000 - val_false_negatives: 0.0000e+00 - val_false_positives: 0.0000e+00\n",
      "Epoch 8/10\n",
      "8/8 [==============================] - 0s 5ms/step - loss: -65.7669 - accuracy: 0.1529 - recall: 1.0000 - auc: 0.0000e+00 - precision: 1.0000 - false_negatives: 0.0000e+00 - false_positives: 0.0000e+00 - val_loss: -74.2772 - val_accuracy: 0.2000 - val_recall: 1.0000 - val_auc: 0.0000e+00 - val_precision: 1.0000 - val_false_negatives: 0.0000e+00 - val_false_positives: 0.0000e+00\n",
      "Epoch 9/10\n",
      "8/8 [==============================] - 0s 5ms/step - loss: -76.5668 - accuracy: 0.1529 - recall: 1.0000 - auc: 0.0000e+00 - precision: 1.0000 - false_negatives: 0.0000e+00 - false_positives: 0.0000e+00 - val_loss: -85.5129 - val_accuracy: 0.2000 - val_recall: 1.0000 - val_auc: 0.0000e+00 - val_precision: 1.0000 - val_false_negatives: 0.0000e+00 - val_false_positives: 0.0000e+00\n",
      "Epoch 10/10\n",
      "8/8 [==============================] - 0s 5ms/step - loss: -87.7380 - accuracy: 0.1529 - recall: 1.0000 - auc: 0.0000e+00 - precision: 1.0000 - false_negatives: 0.0000e+00 - false_positives: 0.0000e+00 - val_loss: -97.1963 - val_accuracy: 0.2000 - val_recall: 1.0000 - val_auc: 0.0000e+00 - val_precision: 1.0000 - val_false_negatives: 0.0000e+00 - val_false_positives: 0.0000e+00\n"
     ]
    },
    {
     "data": {
      "text/plain": [
       "<keras.src.callbacks.History at 0x16d47ab80>"
      ]
     },
     "execution_count": 32,
     "metadata": {},
     "output_type": "execute_result"
    }
   ],
   "source": [
    "# Create model, evaluate\n",
    "\n",
    "batch = 32\n",
    "\n",
    "model = tf.keras.Sequential([\n",
    "    tf.keras.layers.Flatten(),\n",
    "    tf.keras.layers.Dense(6, activation='relu'),\n",
    "    tf.keras.layers.Dense(1, activation='sigmoid')\n",
    "])\n",
    "model.compile(loss='binary_crossentropy',optimizer='adam',metrics=['accuracy', 'Recall', 'AUC', 'Precision', 'FalseNegatives', 'FalsePositives'])\n",
    "    \n",
    "num_epochs = 10\n",
    "model.fit(training_padded, y_train, epochs=num_epochs,batch_size=batch, validation_data=(testing_padded, y_test))"
   ]
  },
  {
   "cell_type": "code",
   "execution_count": 40,
   "metadata": {},
   "outputs": [
    {
     "name": "stdout",
     "output_type": "stream",
     "text": [
      "Stored 'training_padded_w2v' (ndarray)\n",
      "Stored 'testing_padded_w2v' (ndarray)\n"
     ]
    }
   ],
   "source": [
    "training_padded_w2v = training_padded\n",
    "testing_padded_w2v = testing_padded\n",
    "\n",
    "%store training_padded_w2v\n",
    "%store testing_padded_w2v"
   ]
  }
 ],
 "metadata": {
  "kernelspec": {
   "display_name": "base",
   "language": "python",
   "name": "python3"
  },
  "language_info": {
   "codemirror_mode": {
    "name": "ipython",
    "version": 3
   },
   "file_extension": ".py",
   "mimetype": "text/x-python",
   "name": "python",
   "nbconvert_exporter": "python",
   "pygments_lexer": "ipython3",
   "version": "3.8.9"
  },
  "orig_nbformat": 4
 },
 "nbformat": 4,
 "nbformat_minor": 2
}
