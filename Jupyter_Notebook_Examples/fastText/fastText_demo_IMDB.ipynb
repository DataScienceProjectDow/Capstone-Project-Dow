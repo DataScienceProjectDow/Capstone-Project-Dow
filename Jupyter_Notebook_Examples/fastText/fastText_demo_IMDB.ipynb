{
 "cells": [
  {
   "cell_type": "code",
   "execution_count": 1,
   "id": "36933582",
   "metadata": {},
   "outputs": [],
   "source": [
    "# import packages\n",
    "import zipfile\n",
    "import urllib.request\n",
    "\n",
    "import numpy as np\n",
    "import sklearn.metrics\n",
    "import sklearn.ensemble\n",
    "\n",
    "from datasets import load_dataset\n",
    "\n",
    "import fasttext\n",
    "\n",
    "import seaborn as sns\n",
    "sns.set_style('whitegrid')\n",
    "sns.set_context('talk')"
   ]
  },
  {
   "cell_type": "code",
   "execution_count": 2,
   "id": "ebab2b7f",
   "metadata": {},
   "outputs": [
    {
     "name": "stderr",
     "output_type": "stream",
     "text": [
      "Found cached dataset imdb (/Users/Jlonging/.cache/huggingface/datasets/imdb/plain_text/1.0.0/d613c88cf8fa3bab83b4ded3713f1f74830d1100e171db75bbddb80b3345c9c0)\n"
     ]
    },
    {
     "data": {
      "application/vnd.jupyter.widget-view+json": {
       "model_id": "41b245299f1d46bab8947fe18b4734ca",
       "version_major": 2,
       "version_minor": 0
      },
      "text/plain": [
       "  0%|          | 0/3 [00:00<?, ?it/s]"
      ]
     },
     "metadata": {},
     "output_type": "display_data"
    }
   ],
   "source": [
    "# load IMDB dataset\n",
    "df = load_dataset('imdb')"
   ]
  },
  {
   "cell_type": "code",
   "execution_count": 3,
   "id": "1203e607",
   "metadata": {},
   "outputs": [],
   "source": [
    "# preprocess the data\n",
    "with open('train.txt', 'w') as f:\n",
    "    for text, label in zip(df['train']['text'], df['train']['label']):\n",
    "        f.write(f'__label__{label} {text}\\n')\n",
    "\n",
    "with open('test.txt', 'w') as f:\n",
    "    for text, label in zip(df['test']['text'], df['test']['label']):\n",
    "        f.write(f'__label__{label} {text}\\n')"
   ]
  },
  {
   "cell_type": "code",
   "execution_count": 4,
   "id": "28d437d9",
   "metadata": {
    "scrolled": true
   },
   "outputs": [
    {
     "name": "stderr",
     "output_type": "stream",
     "text": [
      "Read 5M words\n",
      "Number of words:  281132\n",
      "Number of labels: 2\n",
      "Progress: 100.0% words/sec/thread: 5138857 lr:  0.000000 avg.loss:  0.406950 ETA:   0h 0m 0s\n"
     ]
    }
   ],
   "source": [
    "# model training\n",
    "model = fasttext.train_supervised('train.txt')"
   ]
  },
  {
   "cell_type": "code",
   "execution_count": 5,
   "id": "3b7e9c5e",
   "metadata": {},
   "outputs": [
    {
     "name": "stdout",
     "output_type": "stream",
     "text": [
      "N\t25000\n",
      "P@1\t0.857\n",
      "R@1\t0.857\n"
     ]
    }
   ],
   "source": [
    "# Evaluate the model\n",
    "def print_results(N, p, r):\n",
    "    print(\"N\\t\" + str(N))\n",
    "    print(\"P@{}\\t{:.3f}\".format(1, p))\n",
    "    print(\"R@{}\\t{:.3f}\".format(1, r))\n",
    "\n",
    "print_results(*model.test('test.txt'))"
   ]
  },
  {
   "cell_type": "code",
   "execution_count": 7,
   "id": "ed6772d5",
   "metadata": {},
   "outputs": [
    {
     "name": "stdout",
     "output_type": "stream",
     "text": [
      "              precision    recall  f1-score   support\n",
      "\n",
      "    negative       0.84      0.89      0.86     12500\n",
      "    positive       0.88      0.83      0.85     12500\n",
      "\n",
      "    accuracy                           0.86     25000\n",
      "   macro avg       0.86      0.86      0.86     25000\n",
      "weighted avg       0.86      0.86      0.86     25000\n",
      "\n"
     ]
    }
   ],
   "source": [
    "# Predict labels for test data\n",
    "pred_labels = []\n",
    "true_labels = df['test']['label']\n",
    "\n",
    "for text in df['test']['text']:\n",
    "    pred = model.predict(text)\n",
    "    pred_label = int(pred[0][0].replace('__label__', ''))\n",
    "    pred_labels.append(pred_label)\n",
    "\n",
    "# Generate classification report\n",
    "print(sklearn.metrics.classification_report(true_labels, pred_labels, target_names=['negative', 'positive']))"
   ]
  },
  {
   "cell_type": "code",
   "execution_count": null,
   "id": "46ab95e4",
   "metadata": {},
   "outputs": [],
   "source": []
  }
 ],
 "metadata": {
  "kernelspec": {
   "display_name": "Python 3 (ipykernel)",
   "language": "python",
   "name": "python3"
  },
  "language_info": {
   "codemirror_mode": {
    "name": "ipython",
    "version": 3
   },
   "file_extension": ".py",
   "mimetype": "text/x-python",
   "name": "python",
   "nbconvert_exporter": "python",
   "pygments_lexer": "ipython3",
   "version": "3.10.11"
  }
 },
 "nbformat": 4,
 "nbformat_minor": 5
}
