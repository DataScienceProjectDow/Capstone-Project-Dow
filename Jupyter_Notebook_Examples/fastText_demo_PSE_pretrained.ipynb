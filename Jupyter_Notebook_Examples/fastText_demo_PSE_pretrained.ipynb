{
 "cells": [
  {
   "cell_type": "code",
   "execution_count": 1,
   "id": "3a64d74a",
   "metadata": {},
   "outputs": [],
   "source": [
    "from gensim.models.fasttext import load_facebook_model\n",
    "from gensim.models.fasttext import load_facebook_vectors\n",
    "from sklearn.feature_extraction.text import TfidfVectorizer\n",
    "from sklearn.linear_model import LogisticRegression\n",
    "from sklearn.pipeline import make_pipeline\n",
    "from sklearn.model_selection import train_test_split\n",
    "from sklearn.metrics import classification_report\n",
    "import numpy as np\n",
    "import pandas as pd\n",
    "import sklearn.ensemble\n",
    "import sklearn\n",
    "import optuna"
   ]
  },
  {
   "cell_type": "code",
   "execution_count": 2,
   "id": "d7b6c551",
   "metadata": {},
   "outputs": [],
   "source": [
    "# load FastText model\n",
    "fasttext_model = load_facebook_vectors('../../Downloads/CHEME DIRECT/NLP Project/cc.en.300.bin')"
   ]
  },
  {
   "cell_type": "code",
   "execution_count": 3,
   "id": "95d81c75",
   "metadata": {},
   "outputs": [],
   "source": [
    "class FastTextVectorizer:\n",
    "    def __init__(self, fasttext_model):\n",
    "        self.fasttext_model = fasttext_model\n",
    "\n",
    "    def transform(self, X):\n",
    "        return np.array([\n",
    "            np.mean([self.fasttext_model[w] for w in words.split() if w in self.fasttext_model]\n",
    "                    or [np.zeros(self.fasttext_model.vector_size)], axis=0)\n",
    "            for words in X\n",
    "        ])"
   ]
  },
  {
   "cell_type": "code",
   "execution_count": 4,
   "id": "857ef2e1",
   "metadata": {},
   "outputs": [],
   "source": [
    "# load dataset\n",
    "df1 = pd.read_excel('../../Downloads/CHEME DIRECT/NLP Project/PSE Dataset.xlsx', sheet_name='SamePerson Report')\n",
    "df2 = pd.read_excel('../../Downloads/CHEME DIRECT/NLP Project/PSE Dataset.xlsx', sheet_name='Multiple People Report')\n",
    "df3 = pd.read_excel('../../Downloads/CHEME DIRECT/NLP Project/PSE Dataset.xlsx', sheet_name='Multiple People Less Details')"
   ]
  },
  {
   "cell_type": "code",
   "execution_count": 5,
   "id": "ffdc311b",
   "metadata": {},
   "outputs": [],
   "source": [
    "dev_1, test_1 = sklearn.model_selection.train_test_split(df1, test_size=0.2, random_state=26)\n",
    "dev_2, test_2 = sklearn.model_selection.train_test_split(df2, test_size=0.2, random_state=26)\n",
    "dev_3, test_3 = sklearn.model_selection.train_test_split(df3, test_size=0.2, random_state=26)"
   ]
  },
  {
   "cell_type": "code",
   "execution_count": 6,
   "id": "3e1efdca",
   "metadata": {},
   "outputs": [],
   "source": [
    "dev_1_text = dev_1['Report'].values.reshape(-1,1)\n",
    "test_1_text = test_1['Report'].values.reshape(-1,1)\n",
    "\n",
    "dev_1_label = dev_1['Level'].values.reshape(-1,1)\n",
    "test_1_label = test_1['Level'].values.reshape(-1,1)\n",
    "\n",
    "dev_2_text = dev_2['Report'].values.reshape(-1,1)\n",
    "test_2_text = test_2['Report'].values.reshape(-1,1)\n",
    "\n",
    "dev_2_label = dev_2['Level'].values.reshape(-1,1)\n",
    "test_2_label = test_2['Level'].values.reshape(-1,1)\n",
    "\n",
    "dev_3_text = dev_3['Report'].values.reshape(-1,1)\n",
    "test_3_text = test_3['Report'].values.reshape(-1,1)\n",
    "\n",
    "dev_3_label = dev_3['Level'].values.reshape(-1,1)\n",
    "test_3_label = test_3['Level'].values.reshape(-1,1)"
   ]
  },
  {
   "cell_type": "code",
   "execution_count": 7,
   "id": "7bd516fb",
   "metadata": {},
   "outputs": [],
   "source": [
    "dev_1_text_list = dev_1_text.tolist()\n",
    "dev_1_text_str = [item for sublist in dev_1_text_list for item in sublist]\n",
    "\n",
    "test_1_text_list = test_1_text.tolist()\n",
    "test_1_text_str = [item for sublist in test_1_text_list for item in sublist]\n",
    "\n",
    "dev_1_label_list = dev_1_label.tolist()\n",
    "dev_1_label_str = [item for sublist in dev_1_label_list for item in sublist]\n",
    "\n",
    "test_1_label_list = test_1_label.tolist()\n",
    "test_1_label_str = [item for sublist in test_1_label_list for item in sublist]"
   ]
  },
  {
   "cell_type": "code",
   "execution_count": 8,
   "id": "e7fc28e7",
   "metadata": {},
   "outputs": [],
   "source": [
    "dev_2_text_list = dev_2_text.tolist()\n",
    "dev_2_text_str = [item for sublist in dev_2_text_list for item in sublist]\n",
    "\n",
    "test_2_text_list = test_2_text.tolist()\n",
    "test_2_text_str = [item for sublist in test_2_text_list for item in sublist]\n",
    "\n",
    "dev_2_label_list = dev_2_label.tolist()\n",
    "dev_2_label_str = [item for sublist in dev_2_label_list for item in sublist]\n",
    "\n",
    "test_2_label_list = test_2_label.tolist()\n",
    "test_2_label_str = [item for sublist in test_2_label_list for item in sublist]"
   ]
  },
  {
   "cell_type": "code",
   "execution_count": 9,
   "id": "30eada72",
   "metadata": {},
   "outputs": [],
   "source": [
    "dev_3_text_list = dev_3_text.tolist()\n",
    "dev_3_text_str = [item for sublist in dev_3_text_list for item in sublist]\n",
    "\n",
    "test_3_text_list = test_3_text.tolist()\n",
    "test_3_text_str = [item for sublist in test_3_text_list for item in sublist]\n",
    "\n",
    "dev_3_label_list = dev_3_label.tolist()\n",
    "dev_3_label_str = [item for sublist in dev_3_label_list for item in sublist]\n",
    "\n",
    "test_3_label_list = test_3_label.tolist()\n",
    "test_3_label_str = [item for sublist in test_3_label_list for item in sublist]"
   ]
  },
  {
   "cell_type": "code",
   "execution_count": 10,
   "id": "7608f8d3",
   "metadata": {},
   "outputs": [],
   "source": [
    "dev_text = dev_1_text_str + dev_2_text_str + dev_3_text_str\n",
    "test_text = test_1_text_str + test_2_text_str + test_3_text_str\n",
    "\n",
    "dev_label = dev_1_label_str + dev_2_label_str + dev_3_label_str\n",
    "test_label = test_1_label_str + test_2_label_str + test_3_label_str"
   ]
  },
  {
   "cell_type": "code",
   "execution_count": 11,
   "id": "8331298c",
   "metadata": {},
   "outputs": [],
   "source": [
    "# Transform raw text data to vectors\n",
    "vectorizer = FastTextVectorizer(fasttext_model)\n",
    "dev_text_ft = vectorizer.transform(dev_text)\n",
    "test_text_ft = vectorizer.transform(test_text)"
   ]
  },
  {
   "cell_type": "code",
   "execution_count": 16,
   "id": "d54f6573",
   "metadata": {},
   "outputs": [],
   "source": [
    "train_x, val_x, train_y, val_y = sklearn.model_selection.train_test_split(\n",
    "    dev_text_ft, dev_label, test_size=0.2, random_state=26)"
   ]
  },
  {
   "cell_type": "code",
   "execution_count": 22,
   "id": "c100de17",
   "metadata": {},
   "outputs": [],
   "source": [
    "def train_evaluate_hyperparameters(n_estimators, max_depth, min_weight_fraction_leaf):\n",
    "    # create model\n",
    "    model = sklearn.ensemble.RandomForestClassifier(\n",
    "        n_estimators=n_estimators, max_depth=max_depth, min_weight_fraction_leaf=min_weight_fraction_leaf)\n",
    "    # train the model on the training set\n",
    "    model.fit(train_x, train_y)\n",
    "    # evaluate the model on the validation set\n",
    "    score = model.score(val_x, val_y)\n",
    "    return score"
   ]
  },
  {
   "cell_type": "code",
   "execution_count": 23,
   "id": "a38c8621",
   "metadata": {},
   "outputs": [
    {
     "name": "stderr",
     "output_type": "stream",
     "text": [
      "[I 2023-06-05 11:11:55,013] A new study created in memory with name: no-name-55fbaebf-d0ef-4561-b7e7-4413b93f14bf\n",
      "/var/folders/gy/5v8v142s4fz6nz5xwllrz4b40000gn/T/ipykernel_16143/1728467643.py:5: FutureWarning: suggest_uniform has been deprecated in v3.0.0. This feature will be removed in v6.0.0. See https://github.com/optuna/optuna/releases/tag/v3.0.0. Use suggest_float instead.\n",
      "  min_weight_fraction_leaf = trial.suggest_uniform(\n",
      "[I 2023-06-05 11:11:56,794] Trial 0 finished with value: 0.2708333333333333 and parameters: {'n_estimators': 3127, 'max_depth': 150, 'min_weight_fraction_leaf': 0.3862446637096468}. Best is trial 0 with value: 0.2708333333333333.\n",
      "/var/folders/gy/5v8v142s4fz6nz5xwllrz4b40000gn/T/ipykernel_16143/1728467643.py:5: FutureWarning: suggest_uniform has been deprecated in v3.0.0. This feature will be removed in v6.0.0. See https://github.com/optuna/optuna/releases/tag/v3.0.0. Use suggest_float instead.\n",
      "  min_weight_fraction_leaf = trial.suggest_uniform(\n",
      "[I 2023-06-05 11:12:00,448] Trial 1 finished with value: 0.4583333333333333 and parameters: {'n_estimators': 4803, 'max_depth': 170, 'min_weight_fraction_leaf': 0.11958333434115986}. Best is trial 1 with value: 0.4583333333333333.\n",
      "/var/folders/gy/5v8v142s4fz6nz5xwllrz4b40000gn/T/ipykernel_16143/1728467643.py:5: FutureWarning: suggest_uniform has been deprecated in v3.0.0. This feature will be removed in v6.0.0. See https://github.com/optuna/optuna/releases/tag/v3.0.0. Use suggest_float instead.\n",
      "  min_weight_fraction_leaf = trial.suggest_uniform(\n",
      "[I 2023-06-05 11:12:03,700] Trial 2 finished with value: 0.4583333333333333 and parameters: {'n_estimators': 3909, 'max_depth': 223, 'min_weight_fraction_leaf': 0.08602923452192812}. Best is trial 1 with value: 0.4583333333333333.\n",
      "/var/folders/gy/5v8v142s4fz6nz5xwllrz4b40000gn/T/ipykernel_16143/1728467643.py:5: FutureWarning: suggest_uniform has been deprecated in v3.0.0. This feature will be removed in v6.0.0. See https://github.com/optuna/optuna/releases/tag/v3.0.0. Use suggest_float instead.\n",
      "  min_weight_fraction_leaf = trial.suggest_uniform(\n",
      "[I 2023-06-05 11:12:03,836] Trial 3 finished with value: 0.2708333333333333 and parameters: {'n_estimators': 250, 'max_depth': 346, 'min_weight_fraction_leaf': 0.44889160796072497}. Best is trial 1 with value: 0.4583333333333333.\n",
      "/var/folders/gy/5v8v142s4fz6nz5xwllrz4b40000gn/T/ipykernel_16143/1728467643.py:5: FutureWarning: suggest_uniform has been deprecated in v3.0.0. This feature will be removed in v6.0.0. See https://github.com/optuna/optuna/releases/tag/v3.0.0. Use suggest_float instead.\n",
      "  min_weight_fraction_leaf = trial.suggest_uniform(\n",
      "[I 2023-06-05 11:12:06,480] Trial 4 finished with value: 0.3541666666666667 and parameters: {'n_estimators': 4299, 'max_depth': 433, 'min_weight_fraction_leaf': 0.2787227250429064}. Best is trial 1 with value: 0.4583333333333333.\n",
      "/var/folders/gy/5v8v142s4fz6nz5xwllrz4b40000gn/T/ipykernel_16143/1728467643.py:5: FutureWarning: suggest_uniform has been deprecated in v3.0.0. This feature will be removed in v6.0.0. See https://github.com/optuna/optuna/releases/tag/v3.0.0. Use suggest_float instead.\n",
      "  min_weight_fraction_leaf = trial.suggest_uniform(\n",
      "[I 2023-06-05 11:12:08,339] Trial 5 finished with value: 0.4375 and parameters: {'n_estimators': 2829, 'max_depth': 35, 'min_weight_fraction_leaf': 0.202448088130672}. Best is trial 1 with value: 0.4583333333333333.\n",
      "/var/folders/gy/5v8v142s4fz6nz5xwllrz4b40000gn/T/ipykernel_16143/1728467643.py:5: FutureWarning: suggest_uniform has been deprecated in v3.0.0. This feature will be removed in v6.0.0. See https://github.com/optuna/optuna/releases/tag/v3.0.0. Use suggest_float instead.\n",
      "  min_weight_fraction_leaf = trial.suggest_uniform(\n",
      "[I 2023-06-05 11:12:12,354] Trial 6 finished with value: 0.4583333333333333 and parameters: {'n_estimators': 4493, 'max_depth': 418, 'min_weight_fraction_leaf': 0.0641377017161327}. Best is trial 1 with value: 0.4583333333333333.\n",
      "/var/folders/gy/5v8v142s4fz6nz5xwllrz4b40000gn/T/ipykernel_16143/1728467643.py:5: FutureWarning: suggest_uniform has been deprecated in v3.0.0. This feature will be removed in v6.0.0. See https://github.com/optuna/optuna/releases/tag/v3.0.0. Use suggest_float instead.\n",
      "  min_weight_fraction_leaf = trial.suggest_uniform(\n",
      "[I 2023-06-05 11:12:14,268] Trial 7 finished with value: 0.4791666666666667 and parameters: {'n_estimators': 1976, 'max_depth': 107, 'min_weight_fraction_leaf': 0.04060202383297179}. Best is trial 7 with value: 0.4791666666666667.\n",
      "/var/folders/gy/5v8v142s4fz6nz5xwllrz4b40000gn/T/ipykernel_16143/1728467643.py:5: FutureWarning: suggest_uniform has been deprecated in v3.0.0. This feature will be removed in v6.0.0. See https://github.com/optuna/optuna/releases/tag/v3.0.0. Use suggest_float instead.\n",
      "  min_weight_fraction_leaf = trial.suggest_uniform(\n",
      "[I 2023-06-05 11:12:15,113] Trial 8 finished with value: 0.4166666666666667 and parameters: {'n_estimators': 1352, 'max_depth': 315, 'min_weight_fraction_leaf': 0.23098765289769835}. Best is trial 7 with value: 0.4791666666666667.\n",
      "/var/folders/gy/5v8v142s4fz6nz5xwllrz4b40000gn/T/ipykernel_16143/1728467643.py:5: FutureWarning: suggest_uniform has been deprecated in v3.0.0. This feature will be removed in v6.0.0. See https://github.com/optuna/optuna/releases/tag/v3.0.0. Use suggest_float instead.\n",
      "  min_weight_fraction_leaf = trial.suggest_uniform(\n",
      "[I 2023-06-05 11:12:18,194] Trial 9 finished with value: 0.4583333333333333 and parameters: {'n_estimators': 3334, 'max_depth': 406, 'min_weight_fraction_leaf': 0.05830671935736076}. Best is trial 7 with value: 0.4791666666666667.\n",
      "/var/folders/gy/5v8v142s4fz6nz5xwllrz4b40000gn/T/ipykernel_16143/1728467643.py:5: FutureWarning: suggest_uniform has been deprecated in v3.0.0. This feature will be removed in v6.0.0. See https://github.com/optuna/optuna/releases/tag/v3.0.0. Use suggest_float instead.\n",
      "  min_weight_fraction_leaf = trial.suggest_uniform(\n",
      "[I 2023-06-05 11:12:19,413] Trial 10 finished with value: 0.4375 and parameters: {'n_estimators': 1768, 'max_depth': 578, 'min_weight_fraction_leaf': 0.16969741121160553}. Best is trial 7 with value: 0.4791666666666667.\n",
      "/var/folders/gy/5v8v142s4fz6nz5xwllrz4b40000gn/T/ipykernel_16143/1728467643.py:5: FutureWarning: suggest_uniform has been deprecated in v3.0.0. This feature will be removed in v6.0.0. See https://github.com/optuna/optuna/releases/tag/v3.0.0. Use suggest_float instead.\n",
      "  min_weight_fraction_leaf = trial.suggest_uniform(\n",
      "[I 2023-06-05 11:12:21,373] Trial 11 finished with value: 0.5 and parameters: {'n_estimators': 1723, 'max_depth': 37, 'min_weight_fraction_leaf': 0.004892366974233703}. Best is trial 11 with value: 0.5.\n",
      "/var/folders/gy/5v8v142s4fz6nz5xwllrz4b40000gn/T/ipykernel_16143/1728467643.py:5: FutureWarning: suggest_uniform has been deprecated in v3.0.0. This feature will be removed in v6.0.0. See https://github.com/optuna/optuna/releases/tag/v3.0.0. Use suggest_float instead.\n",
      "  min_weight_fraction_leaf = trial.suggest_uniform(\n",
      "[I 2023-06-05 11:12:23,307] Trial 12 finished with value: 0.5 and parameters: {'n_estimators': 1784, 'max_depth': 7, 'min_weight_fraction_leaf': 0.006401603537492029}. Best is trial 11 with value: 0.5.\n",
      "/var/folders/gy/5v8v142s4fz6nz5xwllrz4b40000gn/T/ipykernel_16143/1728467643.py:5: FutureWarning: suggest_uniform has been deprecated in v3.0.0. This feature will be removed in v6.0.0. See https://github.com/optuna/optuna/releases/tag/v3.0.0. Use suggest_float instead.\n",
      "  min_weight_fraction_leaf = trial.suggest_uniform(\n",
      "[I 2023-06-05 11:12:23,947] Trial 13 finished with value: 0.5 and parameters: {'n_estimators': 569, 'max_depth': 5, 'min_weight_fraction_leaf': 0.01149940938702696}. Best is trial 11 with value: 0.5.\n",
      "/var/folders/gy/5v8v142s4fz6nz5xwllrz4b40000gn/T/ipykernel_16143/1728467643.py:5: FutureWarning: suggest_uniform has been deprecated in v3.0.0. This feature will be removed in v6.0.0. See https://github.com/optuna/optuna/releases/tag/v3.0.0. Use suggest_float instead.\n",
      "  min_weight_fraction_leaf = trial.suggest_uniform(\n",
      "[I 2023-06-05 11:12:25,396] Trial 14 finished with value: 0.4791666666666667 and parameters: {'n_estimators': 1053, 'max_depth': 83, 'min_weight_fraction_leaf': 0.004014108808001914}. Best is trial 11 with value: 0.5.\n"
     ]
    },
    {
     "name": "stderr",
     "output_type": "stream",
     "text": [
      "/var/folders/gy/5v8v142s4fz6nz5xwllrz4b40000gn/T/ipykernel_16143/1728467643.py:5: FutureWarning: suggest_uniform has been deprecated in v3.0.0. This feature will be removed in v6.0.0. See https://github.com/optuna/optuna/releases/tag/v3.0.0. Use suggest_float instead.\n",
      "  min_weight_fraction_leaf = trial.suggest_uniform(\n",
      "[I 2023-06-05 11:12:27,141] Trial 15 finished with value: 0.4583333333333333 and parameters: {'n_estimators': 2059, 'max_depth': 208, 'min_weight_fraction_leaf': 0.13086232617910928}. Best is trial 11 with value: 0.5.\n",
      "/var/folders/gy/5v8v142s4fz6nz5xwllrz4b40000gn/T/ipykernel_16143/1728467643.py:5: FutureWarning: suggest_uniform has been deprecated in v3.0.0. This feature will be removed in v6.0.0. See https://github.com/optuna/optuna/releases/tag/v3.0.0. Use suggest_float instead.\n",
      "  min_weight_fraction_leaf = trial.suggest_uniform(\n",
      "[I 2023-06-05 11:12:29,168] Trial 16 finished with value: 0.4583333333333333 and parameters: {'n_estimators': 2322, 'max_depth': 4, 'min_weight_fraction_leaf': 0.0031810330431367717}. Best is trial 11 with value: 0.5.\n",
      "/var/folders/gy/5v8v142s4fz6nz5xwllrz4b40000gn/T/ipykernel_16143/1728467643.py:5: FutureWarning: suggest_uniform has been deprecated in v3.0.0. This feature will be removed in v6.0.0. See https://github.com/optuna/optuna/releases/tag/v3.0.0. Use suggest_float instead.\n",
      "  min_weight_fraction_leaf = trial.suggest_uniform(\n",
      "[I 2023-06-05 11:12:30,213] Trial 17 finished with value: 0.4375 and parameters: {'n_estimators': 1282, 'max_depth': 72, 'min_weight_fraction_leaf': 0.09940978020475418}. Best is trial 11 with value: 0.5.\n",
      "/var/folders/gy/5v8v142s4fz6nz5xwllrz4b40000gn/T/ipykernel_16143/1728467643.py:5: FutureWarning: suggest_uniform has been deprecated in v3.0.0. This feature will be removed in v6.0.0. See https://github.com/optuna/optuna/releases/tag/v3.0.0. Use suggest_float instead.\n",
      "  min_weight_fraction_leaf = trial.suggest_uniform(\n",
      "[I 2023-06-05 11:12:32,140] Trial 18 finished with value: 0.4375 and parameters: {'n_estimators': 2594, 'max_depth': 241, 'min_weight_fraction_leaf': 0.1400491469352736}. Best is trial 11 with value: 0.5.\n",
      "/var/folders/gy/5v8v142s4fz6nz5xwllrz4b40000gn/T/ipykernel_16143/1728467643.py:5: FutureWarning: suggest_uniform has been deprecated in v3.0.0. This feature will be removed in v6.0.0. See https://github.com/optuna/optuna/releases/tag/v3.0.0. Use suggest_float instead.\n",
      "  min_weight_fraction_leaf = trial.suggest_uniform(\n",
      "[I 2023-06-05 11:12:32,895] Trial 19 finished with value: 0.4375 and parameters: {'n_estimators': 843, 'max_depth': 124, 'min_weight_fraction_leaf': 0.07013911132344768}. Best is trial 11 with value: 0.5.\n",
      "/var/folders/gy/5v8v142s4fz6nz5xwllrz4b40000gn/T/ipykernel_16143/1728467643.py:5: FutureWarning: suggest_uniform has been deprecated in v3.0.0. This feature will be removed in v6.0.0. See https://github.com/optuna/optuna/releases/tag/v3.0.0. Use suggest_float instead.\n",
      "  min_weight_fraction_leaf = trial.suggest_uniform(\n",
      "[I 2023-06-05 11:12:33,784] Trial 20 finished with value: 0.3541666666666667 and parameters: {'n_estimators': 1479, 'max_depth': 557, 'min_weight_fraction_leaf': 0.28192111248965573}. Best is trial 11 with value: 0.5.\n",
      "/var/folders/gy/5v8v142s4fz6nz5xwllrz4b40000gn/T/ipykernel_16143/1728467643.py:5: FutureWarning: suggest_uniform has been deprecated in v3.0.0. This feature will be removed in v6.0.0. See https://github.com/optuna/optuna/releases/tag/v3.0.0. Use suggest_float instead.\n",
      "  min_weight_fraction_leaf = trial.suggest_uniform(\n",
      "[I 2023-06-05 11:12:34,079] Trial 21 finished with value: 0.5 and parameters: {'n_estimators': 265, 'max_depth': 10, 'min_weight_fraction_leaf': 0.0013255657051777876}. Best is trial 11 with value: 0.5.\n",
      "/var/folders/gy/5v8v142s4fz6nz5xwllrz4b40000gn/T/ipykernel_16143/1728467643.py:5: FutureWarning: suggest_uniform has been deprecated in v3.0.0. This feature will be removed in v6.0.0. See https://github.com/optuna/optuna/releases/tag/v3.0.0. Use suggest_float instead.\n",
      "  min_weight_fraction_leaf = trial.suggest_uniform(\n",
      "[I 2023-06-05 11:12:34,789] Trial 22 finished with value: 0.4583333333333333 and parameters: {'n_estimators': 735, 'max_depth': 44, 'min_weight_fraction_leaf': 0.04635127347482285}. Best is trial 11 with value: 0.5.\n",
      "/var/folders/gy/5v8v142s4fz6nz5xwllrz4b40000gn/T/ipykernel_16143/1728467643.py:5: FutureWarning: suggest_uniform has been deprecated in v3.0.0. This feature will be removed in v6.0.0. See https://github.com/optuna/optuna/releases/tag/v3.0.0. Use suggest_float instead.\n",
      "  min_weight_fraction_leaf = trial.suggest_uniform(\n",
      "[I 2023-06-05 11:12:35,182] Trial 23 finished with value: 0.2708333333333333 and parameters: {'n_estimators': 703, 'max_depth': 1, 'min_weight_fraction_leaf': 0.031234138520934325}. Best is trial 11 with value: 0.5.\n",
      "/var/folders/gy/5v8v142s4fz6nz5xwllrz4b40000gn/T/ipykernel_16143/1728467643.py:5: FutureWarning: suggest_uniform has been deprecated in v3.0.0. This feature will be removed in v6.0.0. See https://github.com/optuna/optuna/releases/tag/v3.0.0. Use suggest_float instead.\n",
      "  min_weight_fraction_leaf = trial.suggest_uniform(\n",
      "[I 2023-06-05 11:12:36,474] Trial 24 finished with value: 0.4375 and parameters: {'n_estimators': 1561, 'max_depth': 79, 'min_weight_fraction_leaf': 0.0908800115848386}. Best is trial 11 with value: 0.5.\n",
      "/var/folders/gy/5v8v142s4fz6nz5xwllrz4b40000gn/T/ipykernel_16143/1728467643.py:5: FutureWarning: suggest_uniform has been deprecated in v3.0.0. This feature will be removed in v6.0.0. See https://github.com/optuna/optuna/releases/tag/v3.0.0. Use suggest_float instead.\n",
      "  min_weight_fraction_leaf = trial.suggest_uniform(\n",
      "[I 2023-06-05 11:12:38,794] Trial 25 finished with value: 0.5208333333333334 and parameters: {'n_estimators': 2283, 'max_depth': 171, 'min_weight_fraction_leaf': 0.03629913413206089}. Best is trial 25 with value: 0.5208333333333334.\n",
      "/var/folders/gy/5v8v142s4fz6nz5xwllrz4b40000gn/T/ipykernel_16143/1728467643.py:5: FutureWarning: suggest_uniform has been deprecated in v3.0.0. This feature will be removed in v6.0.0. See https://github.com/optuna/optuna/releases/tag/v3.0.0. Use suggest_float instead.\n",
      "  min_weight_fraction_leaf = trial.suggest_uniform(\n",
      "[I 2023-06-05 11:12:41,083] Trial 26 finished with value: 0.4583333333333333 and parameters: {'n_estimators': 2399, 'max_depth': 176, 'min_weight_fraction_leaf': 0.04410828784680976}. Best is trial 25 with value: 0.5208333333333334.\n",
      "/var/folders/gy/5v8v142s4fz6nz5xwllrz4b40000gn/T/ipykernel_16143/1728467643.py:5: FutureWarning: suggest_uniform has been deprecated in v3.0.0. This feature will be removed in v6.0.0. See https://github.com/optuna/optuna/releases/tag/v3.0.0. Use suggest_float instead.\n",
      "  min_weight_fraction_leaf = trial.suggest_uniform(\n",
      "[I 2023-06-05 11:12:43,946] Trial 27 finished with value: 0.4583333333333333 and parameters: {'n_estimators': 3661, 'max_depth': 136, 'min_weight_fraction_leaf': 0.10647420040904716}. Best is trial 25 with value: 0.5208333333333334.\n",
      "/var/folders/gy/5v8v142s4fz6nz5xwllrz4b40000gn/T/ipykernel_16143/1728467643.py:5: FutureWarning: suggest_uniform has been deprecated in v3.0.0. This feature will be removed in v6.0.0. See https://github.com/optuna/optuna/releases/tag/v3.0.0. Use suggest_float instead.\n",
      "  min_weight_fraction_leaf = trial.suggest_uniform(\n",
      "[I 2023-06-05 11:12:45,957] Trial 28 finished with value: 0.4583333333333333 and parameters: {'n_estimators': 2815, 'max_depth': 257, 'min_weight_fraction_leaf': 0.15048833834050176}. Best is trial 25 with value: 0.5208333333333334.\n",
      "/var/folders/gy/5v8v142s4fz6nz5xwllrz4b40000gn/T/ipykernel_16143/1728467643.py:5: FutureWarning: suggest_uniform has been deprecated in v3.0.0. This feature will be removed in v6.0.0. See https://github.com/optuna/optuna/releases/tag/v3.0.0. Use suggest_float instead.\n",
      "  min_weight_fraction_leaf = trial.suggest_uniform(\n",
      "[I 2023-06-05 11:12:47,689] Trial 29 finished with value: 0.4583333333333333 and parameters: {'n_estimators': 2072, 'max_depth': 53, 'min_weight_fraction_leaf': 0.08532687399960796}. Best is trial 25 with value: 0.5208333333333334.\n",
      "/var/folders/gy/5v8v142s4fz6nz5xwllrz4b40000gn/T/ipykernel_16143/1728467643.py:5: FutureWarning: suggest_uniform has been deprecated in v3.0.0. This feature will be removed in v6.0.0. See https://github.com/optuna/optuna/releases/tag/v3.0.0. Use suggest_float instead.\n",
      "  min_weight_fraction_leaf = trial.suggest_uniform(\n"
     ]
    },
    {
     "name": "stderr",
     "output_type": "stream",
     "text": [
      "[I 2023-06-05 11:12:49,360] Trial 30 finished with value: 0.4791666666666667 and parameters: {'n_estimators': 1773, 'max_depth': 169, 'min_weight_fraction_leaf': 0.048552089127065705}. Best is trial 25 with value: 0.5208333333333334.\n",
      "/var/folders/gy/5v8v142s4fz6nz5xwllrz4b40000gn/T/ipykernel_16143/1728467643.py:5: FutureWarning: suggest_uniform has been deprecated in v3.0.0. This feature will be removed in v6.0.0. See https://github.com/optuna/optuna/releases/tag/v3.0.0. Use suggest_float instead.\n",
      "  min_weight_fraction_leaf = trial.suggest_uniform(\n",
      "[I 2023-06-05 11:12:50,507] Trial 31 finished with value: 0.5 and parameters: {'n_estimators': 1114, 'max_depth': 96, 'min_weight_fraction_leaf': 0.021607129578074563}. Best is trial 25 with value: 0.5208333333333334.\n",
      "/var/folders/gy/5v8v142s4fz6nz5xwllrz4b40000gn/T/ipykernel_16143/1728467643.py:5: FutureWarning: suggest_uniform has been deprecated in v3.0.0. This feature will be removed in v6.0.0. See https://github.com/optuna/optuna/releases/tag/v3.0.0. Use suggest_float instead.\n",
      "  min_weight_fraction_leaf = trial.suggest_uniform(\n",
      "[I 2023-06-05 11:12:53,935] Trial 32 finished with value: 0.5 and parameters: {'n_estimators': 3215, 'max_depth': 46, 'min_weight_fraction_leaf': 0.020647008170433814}. Best is trial 25 with value: 0.5208333333333334.\n",
      "/var/folders/gy/5v8v142s4fz6nz5xwllrz4b40000gn/T/ipykernel_16143/1728467643.py:5: FutureWarning: suggest_uniform has been deprecated in v3.0.0. This feature will be removed in v6.0.0. See https://github.com/optuna/optuna/releases/tag/v3.0.0. Use suggest_float instead.\n",
      "  min_weight_fraction_leaf = trial.suggest_uniform(\n",
      "[I 2023-06-05 11:12:54,532] Trial 33 finished with value: 0.4791666666666667 and parameters: {'n_estimators': 531, 'max_depth': 151, 'min_weight_fraction_leaf': 0.004887658165926457}. Best is trial 25 with value: 0.5208333333333334.\n",
      "/var/folders/gy/5v8v142s4fz6nz5xwllrz4b40000gn/T/ipykernel_16143/1728467643.py:5: FutureWarning: suggest_uniform has been deprecated in v3.0.0. This feature will be removed in v6.0.0. See https://github.com/optuna/optuna/releases/tag/v3.0.0. Use suggest_float instead.\n",
      "  min_weight_fraction_leaf = trial.suggest_uniform(\n",
      "[I 2023-06-05 11:12:56,942] Trial 34 finished with value: 0.4375 and parameters: {'n_estimators': 2776, 'max_depth': 197, 'min_weight_fraction_leaf': 0.07469756245250142}. Best is trial 25 with value: 0.5208333333333334.\n",
      "/var/folders/gy/5v8v142s4fz6nz5xwllrz4b40000gn/T/ipykernel_16143/1728467643.py:5: FutureWarning: suggest_uniform has been deprecated in v3.0.0. This feature will be removed in v6.0.0. See https://github.com/optuna/optuna/releases/tag/v3.0.0. Use suggest_float instead.\n",
      "  min_weight_fraction_leaf = trial.suggest_uniform(\n",
      "[I 2023-06-05 11:12:57,062] Trial 35 finished with value: 0.4583333333333333 and parameters: {'n_estimators': 137, 'max_depth': 276, 'min_weight_fraction_leaf': 0.10756888410672169}. Best is trial 25 with value: 0.5208333333333334.\n",
      "/var/folders/gy/5v8v142s4fz6nz5xwllrz4b40000gn/T/ipykernel_16143/1728467643.py:5: FutureWarning: suggest_uniform has been deprecated in v3.0.0. This feature will be removed in v6.0.0. See https://github.com/optuna/optuna/releases/tag/v3.0.0. Use suggest_float instead.\n",
      "  min_weight_fraction_leaf = trial.suggest_uniform(\n",
      "[I 2023-06-05 11:12:59,452] Trial 36 finished with value: 0.5 and parameters: {'n_estimators': 2370, 'max_depth': 36, 'min_weight_fraction_leaf': 0.028481353621577686}. Best is trial 25 with value: 0.5208333333333334.\n",
      "/var/folders/gy/5v8v142s4fz6nz5xwllrz4b40000gn/T/ipykernel_16143/1728467643.py:5: FutureWarning: suggest_uniform has been deprecated in v3.0.0. This feature will be removed in v6.0.0. See https://github.com/optuna/optuna/releases/tag/v3.0.0. Use suggest_float instead.\n",
      "  min_weight_fraction_leaf = trial.suggest_uniform(\n",
      "[I 2023-06-05 11:13:00,967] Trial 37 finished with value: 0.4791666666666667 and parameters: {'n_estimators': 1690, 'max_depth': 133, 'min_weight_fraction_leaf': 0.06511114683594164}. Best is trial 25 with value: 0.5208333333333334.\n",
      "/var/folders/gy/5v8v142s4fz6nz5xwllrz4b40000gn/T/ipykernel_16143/1728467643.py:5: FutureWarning: suggest_uniform has been deprecated in v3.0.0. This feature will be removed in v6.0.0. See https://github.com/optuna/optuna/releases/tag/v3.0.0. Use suggest_float instead.\n",
      "  min_weight_fraction_leaf = trial.suggest_uniform(\n",
      "[I 2023-06-05 11:13:01,810] Trial 38 finished with value: 0.4375 and parameters: {'n_estimators': 1095, 'max_depth': 107, 'min_weight_fraction_leaf': 0.12314083899617201}. Best is trial 25 with value: 0.5208333333333334.\n",
      "/var/folders/gy/5v8v142s4fz6nz5xwllrz4b40000gn/T/ipykernel_16143/1728467643.py:5: FutureWarning: suggest_uniform has been deprecated in v3.0.0. This feature will be removed in v6.0.0. See https://github.com/optuna/optuna/releases/tag/v3.0.0. Use suggest_float instead.\n",
      "  min_weight_fraction_leaf = trial.suggest_uniform(\n",
      "[I 2023-06-05 11:13:03,958] Trial 39 finished with value: 0.4791666666666667 and parameters: {'n_estimators': 2123, 'max_depth': 26, 'min_weight_fraction_leaf': 0.030834501071388354}. Best is trial 25 with value: 0.5208333333333334.\n",
      "/var/folders/gy/5v8v142s4fz6nz5xwllrz4b40000gn/T/ipykernel_16143/1728467643.py:5: FutureWarning: suggest_uniform has been deprecated in v3.0.0. This feature will be removed in v6.0.0. See https://github.com/optuna/optuna/releases/tag/v3.0.0. Use suggest_float instead.\n",
      "  min_weight_fraction_leaf = trial.suggest_uniform(\n",
      "[I 2023-06-05 11:13:04,406] Trial 40 finished with value: 0.4375 and parameters: {'n_estimators': 509, 'max_depth': 69, 'min_weight_fraction_leaf': 0.07548257792966098}. Best is trial 25 with value: 0.5208333333333334.\n",
      "/var/folders/gy/5v8v142s4fz6nz5xwllrz4b40000gn/T/ipykernel_16143/1728467643.py:5: FutureWarning: suggest_uniform has been deprecated in v3.0.0. This feature will be removed in v6.0.0. See https://github.com/optuna/optuna/releases/tag/v3.0.0. Use suggest_float instead.\n",
      "  min_weight_fraction_leaf = trial.suggest_uniform(\n",
      "[I 2023-06-05 11:13:04,688] Trial 41 finished with value: 0.4583333333333333 and parameters: {'n_estimators': 354, 'max_depth': 3, 'min_weight_fraction_leaf': 0.009010408432088238}. Best is trial 25 with value: 0.5208333333333334.\n",
      "/var/folders/gy/5v8v142s4fz6nz5xwllrz4b40000gn/T/ipykernel_16143/1728467643.py:5: FutureWarning: suggest_uniform has been deprecated in v3.0.0. This feature will be removed in v6.0.0. See https://github.com/optuna/optuna/releases/tag/v3.0.0. Use suggest_float instead.\n",
      "  min_weight_fraction_leaf = trial.suggest_uniform(\n",
      "[I 2023-06-05 11:13:09,392] Trial 42 finished with value: 0.4583333333333333 and parameters: {'n_estimators': 5000, 'max_depth': 29, 'min_weight_fraction_leaf': 0.051284395398273466}. Best is trial 25 with value: 0.5208333333333334.\n",
      "/var/folders/gy/5v8v142s4fz6nz5xwllrz4b40000gn/T/ipykernel_16143/1728467643.py:5: FutureWarning: suggest_uniform has been deprecated in v3.0.0. This feature will be removed in v6.0.0. See https://github.com/optuna/optuna/releases/tag/v3.0.0. Use suggest_float instead.\n",
      "  min_weight_fraction_leaf = trial.suggest_uniform(\n",
      "[I 2023-06-05 11:13:09,518] Trial 43 finished with value: 0.5208333333333334 and parameters: {'n_estimators': 106, 'max_depth': 362, 'min_weight_fraction_leaf': 0.001195236685951099}. Best is trial 25 with value: 0.5208333333333334.\n",
      "/var/folders/gy/5v8v142s4fz6nz5xwllrz4b40000gn/T/ipykernel_16143/1728467643.py:5: FutureWarning: suggest_uniform has been deprecated in v3.0.0. This feature will be removed in v6.0.0. See https://github.com/optuna/optuna/releases/tag/v3.0.0. Use suggest_float instead.\n",
      "  min_weight_fraction_leaf = trial.suggest_uniform(\n",
      "[I 2023-06-05 11:13:12,539] Trial 44 finished with value: 0.5 and parameters: {'n_estimators': 3025, 'max_depth': 371, 'min_weight_fraction_leaf': 0.029905235304760244}. Best is trial 25 with value: 0.5208333333333334.\n",
      "/var/folders/gy/5v8v142s4fz6nz5xwllrz4b40000gn/T/ipykernel_16143/1728467643.py:5: FutureWarning: suggest_uniform has been deprecated in v3.0.0. This feature will be removed in v6.0.0. See https://github.com/optuna/optuna/releases/tag/v3.0.0. Use suggest_float instead.\n",
      "  min_weight_fraction_leaf = trial.suggest_uniform(\n"
     ]
    },
    {
     "name": "stderr",
     "output_type": "stream",
     "text": [
      "[I 2023-06-05 11:13:13,500] Trial 45 finished with value: 0.5833333333333334 and parameters: {'n_estimators': 871, 'max_depth': 472, 'min_weight_fraction_leaf': 0.001978389039761175}. Best is trial 45 with value: 0.5833333333333334.\n",
      "/var/folders/gy/5v8v142s4fz6nz5xwllrz4b40000gn/T/ipykernel_16143/1728467643.py:5: FutureWarning: suggest_uniform has been deprecated in v3.0.0. This feature will be removed in v6.0.0. See https://github.com/optuna/optuna/releases/tag/v3.0.0. Use suggest_float instead.\n",
      "  min_weight_fraction_leaf = trial.suggest_uniform(\n",
      "[I 2023-06-05 11:13:14,698] Trial 46 finished with value: 0.4583333333333333 and parameters: {'n_estimators': 1299, 'max_depth': 495, 'min_weight_fraction_leaf': 0.0563029234824668}. Best is trial 45 with value: 0.5833333333333334.\n",
      "/var/folders/gy/5v8v142s4fz6nz5xwllrz4b40000gn/T/ipykernel_16143/1728467643.py:5: FutureWarning: suggest_uniform has been deprecated in v3.0.0. This feature will be removed in v6.0.0. See https://github.com/optuna/optuna/releases/tag/v3.0.0. Use suggest_float instead.\n",
      "  min_weight_fraction_leaf = trial.suggest_uniform(\n",
      "[I 2023-06-05 11:13:15,600] Trial 47 finished with value: 0.4791666666666667 and parameters: {'n_estimators': 920, 'max_depth': 480, 'min_weight_fraction_leaf': 0.039687544758349486}. Best is trial 45 with value: 0.5833333333333334.\n",
      "/var/folders/gy/5v8v142s4fz6nz5xwllrz4b40000gn/T/ipykernel_16143/1728467643.py:5: FutureWarning: suggest_uniform has been deprecated in v3.0.0. This feature will be removed in v6.0.0. See https://github.com/optuna/optuna/releases/tag/v3.0.0. Use suggest_float instead.\n",
      "  min_weight_fraction_leaf = trial.suggest_uniform(\n",
      "[I 2023-06-05 11:13:17,112] Trial 48 finished with value: 0.4375 and parameters: {'n_estimators': 1777, 'max_depth': 330, 'min_weight_fraction_leaf': 0.08126601805445396}. Best is trial 45 with value: 0.5833333333333334.\n",
      "/var/folders/gy/5v8v142s4fz6nz5xwllrz4b40000gn/T/ipykernel_16143/1728467643.py:5: FutureWarning: suggest_uniform has been deprecated in v3.0.0. This feature will be removed in v6.0.0. See https://github.com/optuna/optuna/releases/tag/v3.0.0. Use suggest_float instead.\n",
      "  min_weight_fraction_leaf = trial.suggest_uniform(\n",
      "[I 2023-06-05 11:13:19,926] Trial 49 finished with value: 0.5 and parameters: {'n_estimators': 2579, 'max_depth': 375, 'min_weight_fraction_leaf': 0.00025097325334910714}. Best is trial 45 with value: 0.5833333333333334.\n"
     ]
    },
    {
     "name": "stdout",
     "output_type": "stream",
     "text": [
      "Best params:  {'n_estimators': 871, 'max_depth': 472, 'min_weight_fraction_leaf': 0.001978389039761175}\n"
     ]
    }
   ],
   "source": [
    "def objective(trial):\n",
    "    # define hyperparameter space\n",
    "    n_estimators = trial.suggest_int('n_estimators', 100, 5000)\n",
    "    max_depth = trial.suggest_int('max_depth', 1, 600)\n",
    "    min_weight_fraction_leaf = trial.suggest_uniform(\n",
    "        'min_weight_fraction_leaf', 0.0, 0.5)\n",
    "    \n",
    "    # get the score for the hyperparameters chosen\n",
    "    score = train_evaluate_hyperparameters(n_estimators, max_depth, min_weight_fraction_leaf)\n",
    "    return score\n",
    "\n",
    "study = optuna.create_study(sampler=optuna.samplers.TPESampler(), direction='maximize')\n",
    "study.optimize(objective, n_trials=50)\n",
    "print('Best params: ', study.best_params)"
   ]
  },
  {
   "cell_type": "code",
   "execution_count": 24,
   "id": "fc281e4b",
   "metadata": {},
   "outputs": [
    {
     "data": {
      "text/html": [
       "<style>#sk-container-id-3 {color: black;background-color: white;}#sk-container-id-3 pre{padding: 0;}#sk-container-id-3 div.sk-toggleable {background-color: white;}#sk-container-id-3 label.sk-toggleable__label {cursor: pointer;display: block;width: 100%;margin-bottom: 0;padding: 0.3em;box-sizing: border-box;text-align: center;}#sk-container-id-3 label.sk-toggleable__label-arrow:before {content: \"▸\";float: left;margin-right: 0.25em;color: #696969;}#sk-container-id-3 label.sk-toggleable__label-arrow:hover:before {color: black;}#sk-container-id-3 div.sk-estimator:hover label.sk-toggleable__label-arrow:before {color: black;}#sk-container-id-3 div.sk-toggleable__content {max-height: 0;max-width: 0;overflow: hidden;text-align: left;background-color: #f0f8ff;}#sk-container-id-3 div.sk-toggleable__content pre {margin: 0.2em;color: black;border-radius: 0.25em;background-color: #f0f8ff;}#sk-container-id-3 input.sk-toggleable__control:checked~div.sk-toggleable__content {max-height: 200px;max-width: 100%;overflow: auto;}#sk-container-id-3 input.sk-toggleable__control:checked~label.sk-toggleable__label-arrow:before {content: \"▾\";}#sk-container-id-3 div.sk-estimator input.sk-toggleable__control:checked~label.sk-toggleable__label {background-color: #d4ebff;}#sk-container-id-3 div.sk-label input.sk-toggleable__control:checked~label.sk-toggleable__label {background-color: #d4ebff;}#sk-container-id-3 input.sk-hidden--visually {border: 0;clip: rect(1px 1px 1px 1px);clip: rect(1px, 1px, 1px, 1px);height: 1px;margin: -1px;overflow: hidden;padding: 0;position: absolute;width: 1px;}#sk-container-id-3 div.sk-estimator {font-family: monospace;background-color: #f0f8ff;border: 1px dotted black;border-radius: 0.25em;box-sizing: border-box;margin-bottom: 0.5em;}#sk-container-id-3 div.sk-estimator:hover {background-color: #d4ebff;}#sk-container-id-3 div.sk-parallel-item::after {content: \"\";width: 100%;border-bottom: 1px solid gray;flex-grow: 1;}#sk-container-id-3 div.sk-label:hover label.sk-toggleable__label {background-color: #d4ebff;}#sk-container-id-3 div.sk-serial::before {content: \"\";position: absolute;border-left: 1px solid gray;box-sizing: border-box;top: 0;bottom: 0;left: 50%;z-index: 0;}#sk-container-id-3 div.sk-serial {display: flex;flex-direction: column;align-items: center;background-color: white;padding-right: 0.2em;padding-left: 0.2em;position: relative;}#sk-container-id-3 div.sk-item {position: relative;z-index: 1;}#sk-container-id-3 div.sk-parallel {display: flex;align-items: stretch;justify-content: center;background-color: white;position: relative;}#sk-container-id-3 div.sk-item::before, #sk-container-id-3 div.sk-parallel-item::before {content: \"\";position: absolute;border-left: 1px solid gray;box-sizing: border-box;top: 0;bottom: 0;left: 50%;z-index: -1;}#sk-container-id-3 div.sk-parallel-item {display: flex;flex-direction: column;z-index: 1;position: relative;background-color: white;}#sk-container-id-3 div.sk-parallel-item:first-child::after {align-self: flex-end;width: 50%;}#sk-container-id-3 div.sk-parallel-item:last-child::after {align-self: flex-start;width: 50%;}#sk-container-id-3 div.sk-parallel-item:only-child::after {width: 0;}#sk-container-id-3 div.sk-dashed-wrapped {border: 1px dashed gray;margin: 0 0.4em 0.5em 0.4em;box-sizing: border-box;padding-bottom: 0.4em;background-color: white;}#sk-container-id-3 div.sk-label label {font-family: monospace;font-weight: bold;display: inline-block;line-height: 1.2em;}#sk-container-id-3 div.sk-label-container {text-align: center;}#sk-container-id-3 div.sk-container {/* jupyter's `normalize.less` sets `[hidden] { display: none; }` but bootstrap.min.css set `[hidden] { display: none !important; }` so we also need the `!important` here to be able to override the default hidden behavior on the sphinx rendered scikit-learn.org. See: https://github.com/scikit-learn/scikit-learn/issues/21755 */display: inline-block !important;position: relative;}#sk-container-id-3 div.sk-text-repr-fallback {display: none;}</style><div id=\"sk-container-id-3\" class=\"sk-top-container\"><div class=\"sk-text-repr-fallback\"><pre>RandomForestClassifier(max_depth=472,\n",
       "                       min_weight_fraction_leaf=0.001978389039761175,\n",
       "                       n_estimators=871)</pre><b>In a Jupyter environment, please rerun this cell to show the HTML representation or trust the notebook. <br />On GitHub, the HTML representation is unable to render, please try loading this page with nbviewer.org.</b></div><div class=\"sk-container\" hidden><div class=\"sk-item\"><div class=\"sk-estimator sk-toggleable\"><input class=\"sk-toggleable__control sk-hidden--visually\" id=\"sk-estimator-id-3\" type=\"checkbox\" checked><label for=\"sk-estimator-id-3\" class=\"sk-toggleable__label sk-toggleable__label-arrow\">RandomForestClassifier</label><div class=\"sk-toggleable__content\"><pre>RandomForestClassifier(max_depth=472,\n",
       "                       min_weight_fraction_leaf=0.001978389039761175,\n",
       "                       n_estimators=871)</pre></div></div></div></div></div>"
      ],
      "text/plain": [
       "RandomForestClassifier(max_depth=472,\n",
       "                       min_weight_fraction_leaf=0.001978389039761175,\n",
       "                       n_estimators=871)"
      ]
     },
     "execution_count": 24,
     "metadata": {},
     "output_type": "execute_result"
    }
   ],
   "source": [
    "# train a Random Forest model\n",
    "model = sklearn.ensemble.RandomForestClassifier(\n",
    "    n_estimators=871, min_weight_fraction_leaf=0.001978389039761175, max_depth=472)\n",
    "\n",
    "model.fit(dev_text_ft, dev_label)"
   ]
  },
  {
   "cell_type": "code",
   "execution_count": 25,
   "id": "810c3877",
   "metadata": {},
   "outputs": [
    {
     "name": "stdout",
     "output_type": "stream",
     "text": [
      "model accuracy: 0.6666666666666666\n",
      "              precision    recall  f1-score   support\n",
      "\n",
      "           1     1.0000    1.0000    1.0000        13\n",
      "           2     0.5385    0.6364    0.5833        11\n",
      "           3     0.5455    0.3333    0.4138        18\n",
      "           4     0.4615    0.6667    0.5455         9\n",
      "           5     0.8000    0.8889    0.8421         9\n",
      "\n",
      "    accuracy                         0.6667        60\n",
      "   macro avg     0.6691    0.7051    0.6769        60\n",
      "weighted avg     0.6683    0.6667    0.6559        60\n",
      "\n"
     ]
    }
   ],
   "source": [
    "# accuracy report\n",
    "print(\"model accuracy:\", model.score(test_text_ft, test_label))\n",
    "\n",
    "predict_label = model.predict(test_text_ft)\n",
    "\n",
    "print(sklearn.metrics.classification_report(test_label, predict_label, digits=4))"
   ]
  },
  {
   "cell_type": "code",
   "execution_count": 26,
   "id": "93cab270",
   "metadata": {},
   "outputs": [
    {
     "data": {
      "text/plain": [
       "<sklearn.metrics._plot.confusion_matrix.ConfusionMatrixDisplay at 0x178a608e0>"
      ]
     },
     "execution_count": 26,
     "metadata": {},
     "output_type": "execute_result"
    },
    {
     "data": {
      "image/png": "[encoded data removed]",
      "text/plain": [
       "<Figure size 640x480 with 2 Axes>"
      ]
     },
     "metadata": {},
     "output_type": "display_data"
    }
   ],
   "source": [
    "# plot a confusion matrix\n",
    "sklearn.metrics.ConfusionMatrixDisplay.from_estimator(clf, test_text_ft, test_label)"
   ]
  },
  {
   "cell_type": "code",
   "execution_count": null,
   "id": "f017323f",
   "metadata": {},
   "outputs": [],
   "source": []
  }
 ],
 "metadata": {
  "kernelspec": {
   "display_name": "Python 3 (ipykernel)",
   "language": "python",
   "name": "python3"
  },
  "language_info": {
   "codemirror_mode": {
    "name": "ipython",
    "version": 3
   },
   "file_extension": ".py",
   "mimetype": "text/x-python",
   "name": "python",
   "nbconvert_exporter": "python",
   "pygments_lexer": "ipython3",
   "version": "3.10.11"
  }
 },
 "nbformat": 4,
 "nbformat_minor": 5
}
