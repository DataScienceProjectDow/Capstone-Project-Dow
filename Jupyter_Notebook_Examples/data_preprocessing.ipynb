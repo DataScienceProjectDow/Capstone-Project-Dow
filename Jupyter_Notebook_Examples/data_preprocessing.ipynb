{
 "cells": [
  {
   "cell_type": "code",
   "execution_count": 13,
   "id": "345ebb7c",
   "metadata": {},
   "outputs": [],
   "source": [
    "import nltk\n",
    "import string\n",
    "import re\n",
    "import pandas as pd\n",
    "from nltk.corpus import stopwords\n",
    "from nltk.tokenize import word_tokenize"
   ]
  },
  {
   "cell_type": "code",
   "execution_count": 14,
   "id": "021a547a",
   "metadata": {},
   "outputs": [],
   "source": [
    "# Define stop words\n",
    "stop_words = set(stopwords.words('english'))\n",
    "custom_words = set(\n",
    "    [\"incident\", \"chemical\", \"plant\", \"there\", \"was\", \"an\", \"has\",\n",
    "     \"been\" \"at\", \"the\", \"and\", \"occurred\", \"reaction\", \"unit\", \"process\"])\n",
    "all_stop_words = stop_words.union(custom_words)"
   ]
  },
  {
   "cell_type": "code",
   "execution_count": 15,
   "id": "fe08088b",
   "metadata": {},
   "outputs": [],
   "source": [
    "def preprocess_text(text):\n",
    "    # Remove dates and times\n",
    "    text = re.sub(r'(On\\s[A-Z][a-z]+\\s\\d+(?:st|nd|rd|th)?\\sat\\s\\d{1,2}:\\d{2}\\s(?:AM|PM))|(At\\s\\d{1,2}:\\d{2}\\s(?:AM|PM))', '', text)\n",
    "\n",
    "    # Convert the text to lowercase\n",
    "    text = text.lower()\n",
    "\n",
    "    # Tokenize the text\n",
    "    words = word_tokenize(text)\n",
    "\n",
    "    # Remove stop words and custom words\n",
    "    words = [word for word in words if word not in all_stop_words]\n",
    "\n",
    "    # Join the words back into a single string and return it\n",
    "    return \" \".join(words)"
   ]
  },
  {
   "cell_type": "code",
   "execution_count": 16,
   "id": "7bbede7e",
   "metadata": {},
   "outputs": [],
   "source": [
    "# Load data Excel file and get the sheet names\n",
    "xl = pd.ExcelFile(\"../../Downloads/CHEME DIRECT/NLP Project/PSE Dataset.xlsx\")\n",
    "sheet_names = xl.sheet_names"
   ]
  },
  {
   "cell_type": "code",
   "execution_count": 17,
   "id": "d336c54e",
   "metadata": {},
   "outputs": [],
   "source": [
    "# Create a new ExcelWriter object\n",
    "writer = pd.ExcelWriter(\"preprocessed_data.xlsx\", engine='xlsxwriter')"
   ]
  },
  {
   "cell_type": "code",
   "execution_count": 18,
   "id": "dfe0e2e6",
   "metadata": {},
   "outputs": [
    {
     "name": "stderr",
     "output_type": "stream",
     "text": [
      "/var/folders/gy/5v8v142s4fz6nz5xwllrz4b40000gn/T/ipykernel_22222/1340205642.py:13: FutureWarning: save is not part of the public API, usage can give unexpected results and will be removed in a future version\n",
      "  writer.save()\n"
     ]
    }
   ],
   "source": [
    "# Loop over the sheet names\n",
    "for sheet in sheet_names[1:4]:\n",
    "    # Load the sheet into a DataFrame\n",
    "    df = xl.parse(sheet, header=0)\n",
    "\n",
    "    # Preprocess your text column\n",
    "    df['Report'] = df['Report'].apply(preprocess_text)\n",
    "\n",
    "    # Write the preprocessed DataFrame back to the new Excel file\n",
    "    df.to_excel(writer, sheet_name=sheet, index=False)\n",
    "    \n",
    "# Save the new Excel file\n",
    "writer.save()"
   ]
  },
  {
   "cell_type": "code",
   "execution_count": null,
   "id": "a8acbbd2",
   "metadata": {},
   "outputs": [],
   "source": []
  }
 ],
 "metadata": {
  "kernelspec": {
   "display_name": "Python 3 (ipykernel)",
   "language": "python",
   "name": "python3"
  },
  "language_info": {
   "codemirror_mode": {
    "name": "ipython",
    "version": 3
   },
   "file_extension": ".py",
   "mimetype": "text/x-python",
   "name": "python",
   "nbconvert_exporter": "python",
   "pygments_lexer": "ipython3",
   "version": "3.10.11"
  }
 },
 "nbformat": 4,
 "nbformat_minor": 5
}
