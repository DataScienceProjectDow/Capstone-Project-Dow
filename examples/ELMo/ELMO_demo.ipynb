{
 "cells": [
  {
   "cell_type": "code",
   "execution_count": 1,
   "metadata": {},
   "outputs": [],
   "source": [
    "# load packages\n",
    "from sklearn import metrics,preprocessing,model_selection\n",
    "from sklearn.metrics import accuracy_score\n",
    "import keras\n",
    "from keras.layers import Input, Lambda, Dense\n",
    "from keras.models import Model\n",
    "import keras.backend as K\n",
    "import matplotlib.pyplot as plt\n",
    "import seaborn as sns\n",
    "import numpy as np\n",
    "import string\n",
    "import pandas as pd\n",
    "import re\n",
    "import spacy\n",
    "from nltk.corpus import stopwords\n",
    "from sklearn.feature_extraction._stop_words import ENGLISH_STOP_WORDS\n",
    "from spacy.lang.en import English\n",
    "parser = English()\n",
    "\n",
    "import pandas as pd # provide sql-like data manipulation tools. very handy.\n",
    "pd.options.mode.chained_assignment = None\n",
    "import numpy as np # high dimensional vector computing library.\n",
    "from copy import deepcopy\n",
    "from string import punctuation\n",
    "from random import shuffle\n",
    "\n",
    "import gensim\n",
    "from gensim.models.word2vec import Word2Vec # the word2vec model gensim class\n",
    "\n",
    "from tqdm import tqdm\n",
    "tqdm.pandas(desc=\"progress-bar\")\n",
    "\n",
    "from nltk.tokenize import TweetTokenizer # a tweet tokenizer from nltk.\n",
    "tokenizer = TweetTokenizer()\n",
    "from gensim.models.doc2vec import TaggedDocument\n",
    "\n",
    "\n",
    "\n",
    "from sklearn.model_selection import train_test_split\n",
    "from sklearn.feature_extraction.text import TfidfVectorizer\n",
    "\n",
    "import tensorflow as tf\n",
    "from tensorflow import keras\n",
    "import tensorflow_hub as hub\n",
    "from keras import backend as K\n",
    "from sklearn.tree import DecisionTreeClassifier"
   ]
  },
  {
   "cell_type": "code",
   "execution_count": 186,
   "metadata": {},
   "outputs": [],
   "source": [
    "# Load my pre trained elmo model\n",
    "elmo = hub.load('/Users/andrewsimon/Downloads/elmo_3')"
   ]
  },
  {
   "cell_type": "code",
   "execution_count": 187,
   "metadata": {},
   "outputs": [],
   "source": [
    "main_data = pd.read_csv('/Users/andrewsimon/Desktop/Dow_dat.csv')"
   ]
  },
  {
   "cell_type": "code",
   "execution_count": 171,
   "metadata": {},
   "outputs": [
    {
     "data": {
      "text/html": [
       "<div>\n",
       "<style scoped>\n",
       "    .dataframe tbody tr th:only-of-type {\n",
       "        vertical-align: middle;\n",
       "    }\n",
       "\n",
       "    .dataframe tbody tr th {\n",
       "        vertical-align: top;\n",
       "    }\n",
       "\n",
       "    .dataframe thead th {\n",
       "        text-align: right;\n",
       "    }\n",
       "</style>\n",
       "<table border=\"1\" class=\"dataframe\">\n",
       "  <thead>\n",
       "    <tr style=\"text-align: right;\">\n",
       "      <th></th>\n",
       "      <th>Level</th>\n",
       "      <th>Report</th>\n",
       "    </tr>\n",
       "  </thead>\n",
       "  <tbody>\n",
       "    <tr>\n",
       "      <th>0</th>\n",
       "      <td>2</td>\n",
       "      <td>On April 10th at 12:30 PM, there was an incide...</td>\n",
       "    </tr>\n",
       "    <tr>\n",
       "      <th>1</th>\n",
       "      <td>3</td>\n",
       "      <td>On April 8th at 9:00 PM, a fire broke out in t...</td>\n",
       "    </tr>\n",
       "    <tr>\n",
       "      <th>2</th>\n",
       "      <td>4</td>\n",
       "      <td>On April 6th at 2:45 AM, there was an incident...</td>\n",
       "    </tr>\n",
       "    <tr>\n",
       "      <th>3</th>\n",
       "      <td>1</td>\n",
       "      <td>On April 5th at 7:15 PM, there was an unplanne...</td>\n",
       "    </tr>\n",
       "    <tr>\n",
       "      <th>4</th>\n",
       "      <td>5</td>\n",
       "      <td>On April 2nd at 11:30 AM, there was a minor in...</td>\n",
       "    </tr>\n",
       "    <tr>\n",
       "      <th>...</th>\n",
       "      <td>...</td>\n",
       "      <td>...</td>\n",
       "    </tr>\n",
       "    <tr>\n",
       "      <th>295</th>\n",
       "      <td>3</td>\n",
       "      <td>At 9:45 AM, a worker reported a small leak of ...</td>\n",
       "    </tr>\n",
       "    <tr>\n",
       "      <th>296</th>\n",
       "      <td>5</td>\n",
       "      <td>At 2:30 PM, a worker reported a small spill of...</td>\n",
       "    </tr>\n",
       "    <tr>\n",
       "      <th>297</th>\n",
       "      <td>4</td>\n",
       "      <td>At 6:15 AM, a worker reported an unusual odor ...</td>\n",
       "    </tr>\n",
       "    <tr>\n",
       "      <th>298</th>\n",
       "      <td>2</td>\n",
       "      <td>At 11:00 AM, a worker reported a small fire in...</td>\n",
       "    </tr>\n",
       "    <tr>\n",
       "      <th>299</th>\n",
       "      <td>1</td>\n",
       "      <td>At 4:00 PM, an unplanned event occurred in the...</td>\n",
       "    </tr>\n",
       "  </tbody>\n",
       "</table>\n",
       "<p>300 rows × 2 columns</p>\n",
       "</div>"
      ],
      "text/plain": [
       "     Level                                             Report\n",
       "0        2  On April 10th at 12:30 PM, there was an incide...\n",
       "1        3  On April 8th at 9:00 PM, a fire broke out in t...\n",
       "2        4  On April 6th at 2:45 AM, there was an incident...\n",
       "3        1  On April 5th at 7:15 PM, there was an unplanne...\n",
       "4        5  On April 2nd at 11:30 AM, there was a minor in...\n",
       "..     ...                                                ...\n",
       "295      3  At 9:45 AM, a worker reported a small leak of ...\n",
       "296      5  At 2:30 PM, a worker reported a small spill of...\n",
       "297      4  At 6:15 AM, a worker reported an unusual odor ...\n",
       "298      2  At 11:00 AM, a worker reported a small fire in...\n",
       "299      1  At 4:00 PM, an unplanned event occurred in the...\n",
       "\n",
       "[300 rows x 2 columns]"
      ]
     },
     "execution_count": 171,
     "metadata": {},
     "output_type": "execute_result"
    }
   ],
   "source": [
    "main_data"
   ]
  },
  {
   "cell_type": "code",
   "execution_count": 189,
   "metadata": {},
   "outputs": [],
   "source": [
    "# Iterate through sentences, append weighted average of elmo embeddings\n",
    "embeddings = []\n",
    "\n",
    "for sentence in main_data['Report']:\n",
    "    tensor = tf.constant([sentence])\n",
    "    embedding = elmo.signatures['default'](tensor)['elmo']\n",
    "    embedding = tf.reduce_mean(embedding, 1)\n",
    "    embeddings.append(embedding)\n"
   ]
  },
  {
   "cell_type": "code",
   "execution_count": 190,
   "metadata": {},
   "outputs": [],
   "source": [
    "X_train, X_test, y_train, y_test = train_test_split(embeddings,\n",
    "                                                    main_data['Level'], test_size=0.2, random_state=42)"
   ]
  },
  {
   "cell_type": "code",
   "execution_count": 191,
   "metadata": {},
   "outputs": [
    {
     "data": {
      "text/plain": [
       "(240, 1024)"
      ]
     },
     "execution_count": 191,
     "metadata": {},
     "output_type": "execute_result"
    }
   ],
   "source": [
    "X_train = np.array(X_train)\n",
    "X_train = X_train.reshape(240, 1024)\n",
    "\n",
    "X_test = np.array(X_test)\n",
    "X_test = X_test.reshape(60, 1024)\n",
    "\n",
    "X_train.shape"
   ]
  },
  {
   "cell_type": "code",
   "execution_count": 70,
   "metadata": {},
   "outputs": [
    {
     "ename": "NameError",
     "evalue": "name 'X_train_scaled' is not defined",
     "output_type": "error",
     "traceback": [
      "\u001b[0;31m---------------------------------------------------------------------------\u001b[0m",
      "\u001b[0;31mNameError\u001b[0m                                 Traceback (most recent call last)",
      "\u001b[1;32m/Users/andrewsimon/nlpmaps/downstream_testing/selection_algorithm/ELMO_demo.ipynb Cell 10\u001b[0m in \u001b[0;36m4\n\u001b[1;32m      <a href='vscode-notebook-cell:/Users/andrewsimon/nlpmaps/downstream_testing/selection_algorithm/ELMO_demo.ipynb#X10sZmlsZQ%3D%3D?line=0'>1</a>\u001b[0m \u001b[39mfrom\u001b[39;00m \u001b[39msklearn\u001b[39;00m\u001b[39m.\u001b[39;00m\u001b[39mlinear_model\u001b[39;00m \u001b[39mimport\u001b[39;00m LogisticRegression\n\u001b[1;32m      <a href='vscode-notebook-cell:/Users/andrewsimon/nlpmaps/downstream_testing/selection_algorithm/ELMO_demo.ipynb#X10sZmlsZQ%3D%3D?line=2'>3</a>\u001b[0m classifier \u001b[39m=\u001b[39m LogisticRegression( max_iter \u001b[39m=\u001b[39m \u001b[39m100000\u001b[39m)\n\u001b[0;32m----> <a href='vscode-notebook-cell:/Users/andrewsimon/nlpmaps/downstream_testing/selection_algorithm/ELMO_demo.ipynb#X10sZmlsZQ%3D%3D?line=3'>4</a>\u001b[0m classifier\u001b[39m.\u001b[39mfit(X_train_scaled, y_train)\n\u001b[1;32m      <a href='vscode-notebook-cell:/Users/andrewsimon/nlpmaps/downstream_testing/selection_algorithm/ELMO_demo.ipynb#X10sZmlsZQ%3D%3D?line=4'>5</a>\u001b[0m predictions_LR \u001b[39m=\u001b[39m classifier\u001b[39m.\u001b[39mpredict(X_test_scaled)\n\u001b[1;32m      <a href='vscode-notebook-cell:/Users/andrewsimon/nlpmaps/downstream_testing/selection_algorithm/ELMO_demo.ipynb#X10sZmlsZQ%3D%3D?line=5'>6</a>\u001b[0m score \u001b[39m=\u001b[39m classifier\u001b[39m.\u001b[39mscore(X_test_scaled, y_test)\n",
      "\u001b[0;31mNameError\u001b[0m: name 'X_train_scaled' is not defined"
     ]
    }
   ],
   "source": [
    "from sklearn.linear_model import LogisticRegression\n",
    "\n",
    "classifier = LogisticRegression( max_iter = 100000)\n",
    "classifier.fit(X_train_scaled, y_train)\n",
    "predictions_LR = classifier.predict(X_test_scaled)\n",
    "score = classifier.score(X_test_scaled, y_test)\n",
    "score"
   ]
  },
  {
   "cell_type": "code",
   "execution_count": null,
   "metadata": {},
   "outputs": [],
   "source": [
    "from sklearn.metrics import confusion_matrix, ConfusionMatrixDisplay\n",
    "\n",
    "len(y_test)\n",
    "cm = confusion_matrix(y_test, predictions_LR)\n",
    "disp = ConfusionMatrixDisplay(confusion_matrix=cm, display_labels = [1,2,3,4,5])\n",
    "disp.plot()"
   ]
  },
  {
   "cell_type": "code",
   "execution_count": null,
   "metadata": {},
   "outputs": [],
   "source": [
    "clf_decision_tree = DecisionTreeClassifier()\n",
    "clf_decision_tree.fit(X_train, y_train)\n",
    "predictions_DT = clf_decision_tree.predict(X_test)\n",
    "acc_score = accuracy_score(y_test, predictions_DT)\n",
    "acc_score"
   ]
  },
  {
   "cell_type": "code",
   "execution_count": null,
   "metadata": {},
   "outputs": [],
   "source": [
    "from sklearn.metrics import confusion_matrix, ConfusionMatrixDisplay\n",
    "\n",
    "len(y_test)\n",
    "cm = confusion_matrix(y_test, predictions_DT)\n",
    "disp = ConfusionMatrixDisplay(confusion_matrix=cm, display_labels = [1,2,3,4,5])\n",
    "disp.plot()"
   ]
  },
  {
   "cell_type": "code",
   "execution_count": null,
   "metadata": {},
   "outputs": [],
   "source": [
    "from sklearn.preprocessing import StandardScaler\n",
    "\n",
    "scaler = StandardScaler()\n",
    "X_train_scaled = scaler.fit_transform(X_train)\n",
    "X_test_scaled = scaler.transform(X_test)"
   ]
  },
  {
   "cell_type": "code",
   "execution_count": 193,
   "metadata": {},
   "outputs": [
    {
     "data": {
      "text/plain": [
       "0.75"
      ]
     },
     "execution_count": 193,
     "metadata": {},
     "output_type": "execute_result"
    }
   ],
   "source": [
    "from sklearn.ensemble import RandomForestClassifier\n",
    "rf = RandomForestClassifier(n_estimators=1100).fit(X_train, y_train)\n",
    "predictions = rf.predict(X_test)\n",
    "score = rf.score(X_test, y_test)\n",
    "score"
   ]
  },
  {
   "cell_type": "code",
   "execution_count": null,
   "metadata": {},
   "outputs": [],
   "source": [
    "import tensorflow_decision_forests as tfdf"
   ]
  },
  {
   "cell_type": "code",
   "execution_count": null,
   "metadata": {},
   "outputs": [
    {
     "name": "stdout",
     "output_type": "stream",
     "text": [
      "2/2 - 0s - loss: 1.1934 - accuracy: 0.7667 - 65ms/epoch - 33ms/step\n"
     ]
    }
   ],
   "source": [
    "test_loss, test_acc = model.evaluate(X_test,  y_test, verbose=2)"
   ]
  },
  {
   "cell_type": "code",
   "execution_count": 81,
   "metadata": {},
   "outputs": [
    {
     "name": "stdout",
     "output_type": "stream",
     "text": [
      "Epoch 1/100\n",
      "15/15 - 0s - loss: 1.6128 - accuracy: 0.2458 - 193ms/epoch - 13ms/step\n",
      "Epoch 2/100\n"
     ]
    },
    {
     "name": "stderr",
     "output_type": "stream",
     "text": [
      "/Users/andrewsimon/Library/Python/3.8/lib/python/site-packages/keras/backend.py:5612: UserWarning: \"`sparse_categorical_crossentropy` received `from_logits=True`, but the `output` argument was produced by a Softmax activation and thus does not represent logits. Was this intended?\n",
      "  output, from_logits = _get_logits(\n"
     ]
    },
    {
     "name": "stdout",
     "output_type": "stream",
     "text": [
      "15/15 - 0s - loss: 1.3212 - accuracy: 0.4625 - 51ms/epoch - 3ms/step\n",
      "Epoch 3/100\n",
      "15/15 - 0s - loss: 1.0842 - accuracy: 0.5458 - 72ms/epoch - 5ms/step\n",
      "Epoch 4/100\n",
      "15/15 - 0s - loss: 1.0033 - accuracy: 0.5500 - 43ms/epoch - 3ms/step\n",
      "Epoch 5/100\n",
      "15/15 - 0s - loss: 0.9090 - accuracy: 0.6250 - 33ms/epoch - 2ms/step\n",
      "Epoch 6/100\n",
      "15/15 - 0s - loss: 0.8179 - accuracy: 0.6667 - 31ms/epoch - 2ms/step\n",
      "Epoch 7/100\n",
      "15/15 - 0s - loss: 0.7775 - accuracy: 0.6917 - 32ms/epoch - 2ms/step\n",
      "Epoch 8/100\n",
      "15/15 - 0s - loss: 0.7318 - accuracy: 0.7021 - 32ms/epoch - 2ms/step\n",
      "Epoch 9/100\n",
      "15/15 - 0s - loss: 0.7056 - accuracy: 0.6792 - 34ms/epoch - 2ms/step\n",
      "Epoch 10/100\n",
      "15/15 - 0s - loss: 0.6390 - accuracy: 0.7563 - 33ms/epoch - 2ms/step\n",
      "Epoch 11/100\n",
      "15/15 - 0s - loss: 0.6180 - accuracy: 0.7521 - 34ms/epoch - 2ms/step\n",
      "Epoch 12/100\n",
      "15/15 - 0s - loss: 0.5713 - accuracy: 0.7875 - 36ms/epoch - 2ms/step\n",
      "Epoch 13/100\n",
      "15/15 - 0s - loss: 0.5242 - accuracy: 0.8125 - 38ms/epoch - 3ms/step\n",
      "Epoch 14/100\n",
      "15/15 - 0s - loss: 0.5696 - accuracy: 0.7521 - 41ms/epoch - 3ms/step\n",
      "Epoch 15/100\n",
      "15/15 - 0s - loss: 0.4717 - accuracy: 0.8313 - 47ms/epoch - 3ms/step\n",
      "Epoch 16/100\n",
      "15/15 - 0s - loss: 0.4474 - accuracy: 0.8292 - 54ms/epoch - 4ms/step\n",
      "Epoch 17/100\n",
      "15/15 - 0s - loss: 0.4780 - accuracy: 0.8083 - 44ms/epoch - 3ms/step\n",
      "Epoch 18/100\n",
      "15/15 - 0s - loss: 0.4279 - accuracy: 0.8396 - 38ms/epoch - 3ms/step\n",
      "Epoch 19/100\n",
      "15/15 - 0s - loss: 0.4100 - accuracy: 0.8500 - 35ms/epoch - 2ms/step\n",
      "Epoch 20/100\n",
      "15/15 - 0s - loss: 0.3811 - accuracy: 0.8667 - 33ms/epoch - 2ms/step\n",
      "Epoch 21/100\n",
      "15/15 - 0s - loss: 0.3424 - accuracy: 0.8750 - 34ms/epoch - 2ms/step\n",
      "Epoch 22/100\n",
      "15/15 - 0s - loss: 0.3413 - accuracy: 0.8833 - 34ms/epoch - 2ms/step\n",
      "Epoch 23/100\n",
      "15/15 - 0s - loss: 0.3451 - accuracy: 0.8729 - 34ms/epoch - 2ms/step\n",
      "Epoch 24/100\n",
      "15/15 - 0s - loss: 0.3308 - accuracy: 0.8792 - 60ms/epoch - 4ms/step\n",
      "Epoch 25/100\n",
      "15/15 - 0s - loss: 0.2904 - accuracy: 0.8938 - 34ms/epoch - 2ms/step\n",
      "Epoch 26/100\n",
      "15/15 - 0s - loss: 0.3273 - accuracy: 0.8729 - 44ms/epoch - 3ms/step\n",
      "Epoch 27/100\n",
      "15/15 - 0s - loss: 0.3216 - accuracy: 0.8750 - 35ms/epoch - 2ms/step\n",
      "Epoch 28/100\n",
      "15/15 - 0s - loss: 0.3248 - accuracy: 0.8771 - 36ms/epoch - 2ms/step\n",
      "Epoch 29/100\n",
      "15/15 - 0s - loss: 0.2630 - accuracy: 0.9083 - 39ms/epoch - 3ms/step\n",
      "Epoch 30/100\n",
      "15/15 - 0s - loss: 0.2782 - accuracy: 0.8917 - 38ms/epoch - 3ms/step\n",
      "Epoch 31/100\n",
      "15/15 - 0s - loss: 0.3410 - accuracy: 0.8708 - 36ms/epoch - 2ms/step\n",
      "Epoch 32/100\n",
      "15/15 - 0s - loss: 0.2572 - accuracy: 0.9042 - 37ms/epoch - 2ms/step\n",
      "Epoch 33/100\n",
      "15/15 - 0s - loss: 0.2607 - accuracy: 0.8979 - 39ms/epoch - 3ms/step\n",
      "Epoch 34/100\n",
      "15/15 - 0s - loss: 0.2435 - accuracy: 0.9146 - 34ms/epoch - 2ms/step\n",
      "Epoch 35/100\n",
      "15/15 - 0s - loss: 0.2600 - accuracy: 0.9042 - 33ms/epoch - 2ms/step\n",
      "Epoch 36/100\n",
      "15/15 - 0s - loss: 0.2434 - accuracy: 0.9146 - 34ms/epoch - 2ms/step\n",
      "Epoch 37/100\n",
      "15/15 - 0s - loss: 0.2436 - accuracy: 0.9125 - 34ms/epoch - 2ms/step\n",
      "Epoch 38/100\n",
      "15/15 - 0s - loss: 0.2195 - accuracy: 0.9271 - 32ms/epoch - 2ms/step\n",
      "Epoch 39/100\n",
      "15/15 - 0s - loss: 0.2586 - accuracy: 0.9104 - 33ms/epoch - 2ms/step\n",
      "Epoch 40/100\n",
      "15/15 - 0s - loss: 0.3220 - accuracy: 0.8708 - 43ms/epoch - 3ms/step\n",
      "Epoch 41/100\n",
      "15/15 - 0s - loss: 0.2496 - accuracy: 0.9083 - 32ms/epoch - 2ms/step\n",
      "Epoch 42/100\n",
      "15/15 - 0s - loss: 0.2270 - accuracy: 0.9146 - 35ms/epoch - 2ms/step\n",
      "Epoch 43/100\n",
      "15/15 - 0s - loss: 0.2361 - accuracy: 0.9104 - 35ms/epoch - 2ms/step\n",
      "Epoch 44/100\n",
      "15/15 - 0s - loss: 0.1878 - accuracy: 0.9312 - 37ms/epoch - 2ms/step\n",
      "Epoch 45/100\n",
      "15/15 - 0s - loss: 0.1774 - accuracy: 0.9354 - 63ms/epoch - 4ms/step\n",
      "Epoch 46/100\n",
      "15/15 - 0s - loss: 0.1867 - accuracy: 0.9312 - 50ms/epoch - 3ms/step\n",
      "Epoch 47/100\n",
      "15/15 - 0s - loss: 0.1791 - accuracy: 0.9438 - 41ms/epoch - 3ms/step\n",
      "Epoch 48/100\n",
      "15/15 - 0s - loss: 0.2274 - accuracy: 0.9083 - 39ms/epoch - 3ms/step\n",
      "Epoch 49/100\n",
      "15/15 - 0s - loss: 0.2110 - accuracy: 0.9208 - 36ms/epoch - 2ms/step\n",
      "Epoch 50/100\n",
      "15/15 - 0s - loss: 0.2192 - accuracy: 0.9146 - 33ms/epoch - 2ms/step\n",
      "Epoch 51/100\n",
      "15/15 - 0s - loss: 0.1596 - accuracy: 0.9438 - 45ms/epoch - 3ms/step\n",
      "Epoch 52/100\n",
      "15/15 - 0s - loss: 0.1944 - accuracy: 0.9125 - 32ms/epoch - 2ms/step\n",
      "Epoch 53/100\n",
      "15/15 - 0s - loss: 0.1757 - accuracy: 0.9292 - 33ms/epoch - 2ms/step\n",
      "Epoch 54/100\n",
      "15/15 - 0s - loss: 0.1704 - accuracy: 0.9396 - 36ms/epoch - 2ms/step\n",
      "Epoch 55/100\n",
      "15/15 - 0s - loss: 0.1549 - accuracy: 0.9417 - 34ms/epoch - 2ms/step\n",
      "Epoch 56/100\n",
      "15/15 - 0s - loss: 0.2200 - accuracy: 0.9042 - 33ms/epoch - 2ms/step\n",
      "Epoch 57/100\n",
      "15/15 - 0s - loss: 0.1623 - accuracy: 0.9521 - 33ms/epoch - 2ms/step\n",
      "Epoch 58/100\n",
      "15/15 - 0s - loss: 0.1575 - accuracy: 0.9354 - 55ms/epoch - 4ms/step\n",
      "Epoch 59/100\n",
      "15/15 - 0s - loss: 0.1364 - accuracy: 0.9563 - 47ms/epoch - 3ms/step\n",
      "Epoch 60/100\n",
      "15/15 - 0s - loss: 0.1452 - accuracy: 0.9458 - 48ms/epoch - 3ms/step\n",
      "Epoch 61/100\n",
      "15/15 - 0s - loss: 0.1459 - accuracy: 0.9417 - 42ms/epoch - 3ms/step\n",
      "Epoch 62/100\n",
      "15/15 - 0s - loss: 0.1751 - accuracy: 0.9375 - 39ms/epoch - 3ms/step\n",
      "Epoch 63/100\n",
      "15/15 - 0s - loss: 0.1566 - accuracy: 0.9354 - 39ms/epoch - 3ms/step\n",
      "Epoch 64/100\n",
      "15/15 - 0s - loss: 0.1579 - accuracy: 0.9354 - 36ms/epoch - 2ms/step\n",
      "Epoch 65/100\n",
      "15/15 - 0s - loss: 0.1508 - accuracy: 0.9500 - 34ms/epoch - 2ms/step\n",
      "Epoch 66/100\n",
      "15/15 - 0s - loss: 0.1995 - accuracy: 0.9167 - 35ms/epoch - 2ms/step\n",
      "Epoch 67/100\n",
      "15/15 - 0s - loss: 0.1713 - accuracy: 0.9229 - 45ms/epoch - 3ms/step\n",
      "Epoch 68/100\n",
      "15/15 - 0s - loss: 0.1551 - accuracy: 0.9292 - 33ms/epoch - 2ms/step\n",
      "Epoch 69/100\n",
      "15/15 - 0s - loss: 0.1285 - accuracy: 0.9583 - 35ms/epoch - 2ms/step\n",
      "Epoch 70/100\n",
      "15/15 - 0s - loss: 0.1572 - accuracy: 0.9438 - 34ms/epoch - 2ms/step\n",
      "Epoch 71/100\n",
      "15/15 - 0s - loss: 0.1685 - accuracy: 0.9333 - 34ms/epoch - 2ms/step\n",
      "Epoch 72/100\n",
      "15/15 - 0s - loss: 0.1344 - accuracy: 0.9563 - 35ms/epoch - 2ms/step\n",
      "Epoch 73/100\n",
      "15/15 - 0s - loss: 0.1548 - accuracy: 0.9417 - 36ms/epoch - 2ms/step\n",
      "Epoch 74/100\n",
      "15/15 - 0s - loss: 0.1597 - accuracy: 0.9250 - 36ms/epoch - 2ms/step\n",
      "Epoch 75/100\n",
      "15/15 - 0s - loss: 0.1607 - accuracy: 0.9396 - 37ms/epoch - 2ms/step\n",
      "Epoch 76/100\n",
      "15/15 - 0s - loss: 0.1488 - accuracy: 0.9312 - 34ms/epoch - 2ms/step\n",
      "Epoch 77/100\n",
      "15/15 - 0s - loss: 0.1395 - accuracy: 0.9438 - 38ms/epoch - 3ms/step\n",
      "Epoch 78/100\n",
      "15/15 - 0s - loss: 0.1190 - accuracy: 0.9542 - 38ms/epoch - 3ms/step\n",
      "Epoch 79/100\n",
      "15/15 - 0s - loss: 0.1247 - accuracy: 0.9458 - 34ms/epoch - 2ms/step\n",
      "Epoch 80/100\n",
      "15/15 - 0s - loss: 0.1408 - accuracy: 0.9500 - 36ms/epoch - 2ms/step\n",
      "Epoch 81/100\n",
      "15/15 - 0s - loss: 0.1326 - accuracy: 0.9500 - 42ms/epoch - 3ms/step\n",
      "Epoch 82/100\n",
      "15/15 - 0s - loss: 0.1162 - accuracy: 0.9583 - 31ms/epoch - 2ms/step\n",
      "Epoch 83/100\n",
      "15/15 - 0s - loss: 0.1252 - accuracy: 0.9521 - 52ms/epoch - 3ms/step\n",
      "Epoch 84/100\n",
      "15/15 - 0s - loss: 0.1210 - accuracy: 0.9521 - 38ms/epoch - 3ms/step\n",
      "Epoch 85/100\n",
      "15/15 - 0s - loss: 0.1266 - accuracy: 0.9500 - 36ms/epoch - 2ms/step\n",
      "Epoch 86/100\n",
      "15/15 - 0s - loss: 0.1175 - accuracy: 0.9521 - 37ms/epoch - 2ms/step\n",
      "Epoch 87/100\n",
      "15/15 - 0s - loss: 0.1108 - accuracy: 0.9563 - 41ms/epoch - 3ms/step\n",
      "Epoch 88/100\n",
      "15/15 - 0s - loss: 0.1238 - accuracy: 0.9500 - 39ms/epoch - 3ms/step\n",
      "Epoch 89/100\n",
      "15/15 - 0s - loss: 0.1294 - accuracy: 0.9479 - 33ms/epoch - 2ms/step\n",
      "Epoch 90/100\n",
      "15/15 - 0s - loss: 0.1129 - accuracy: 0.9646 - 39ms/epoch - 3ms/step\n",
      "Epoch 91/100\n",
      "15/15 - 0s - loss: 0.1127 - accuracy: 0.9563 - 37ms/epoch - 2ms/step\n",
      "Epoch 92/100\n",
      "15/15 - 0s - loss: 0.1648 - accuracy: 0.9354 - 39ms/epoch - 3ms/step\n",
      "Epoch 93/100\n",
      "15/15 - 0s - loss: 0.1401 - accuracy: 0.9375 - 49ms/epoch - 3ms/step\n",
      "Epoch 94/100\n",
      "15/15 - 0s - loss: 0.1456 - accuracy: 0.9417 - 43ms/epoch - 3ms/step\n",
      "Epoch 95/100\n",
      "15/15 - 0s - loss: 0.1888 - accuracy: 0.9146 - 38ms/epoch - 3ms/step\n",
      "Epoch 96/100\n",
      "15/15 - 0s - loss: 0.1242 - accuracy: 0.9542 - 34ms/epoch - 2ms/step\n",
      "Epoch 97/100\n",
      "15/15 - 0s - loss: 0.1410 - accuracy: 0.9333 - 34ms/epoch - 2ms/step\n",
      "Epoch 98/100\n",
      "15/15 - 0s - loss: 0.1257 - accuracy: 0.9542 - 35ms/epoch - 2ms/step\n",
      "Epoch 99/100\n",
      "15/15 - 0s - loss: 0.1362 - accuracy: 0.9396 - 40ms/epoch - 3ms/step\n",
      "Epoch 100/100\n",
      "15/15 - 0s - loss: 0.1108 - accuracy: 0.9542 - 39ms/epoch - 3ms/step\n"
     ]
    },
    {
     "data": {
      "text/plain": [
       "<keras.callbacks.History at 0x311591eb0>"
      ]
     },
     "execution_count": 81,
     "metadata": {},
     "output_type": "execute_result"
    }
   ],
   "source": [
    "# Experiment building a model with tensorflow\n",
    "import tensorflow as tf\n",
    "\n",
    "model = tf.keras.Sequential([\n",
    "     tf.keras.layers.Dense(512, activation='relu'),\n",
    "    tf.keras.layers.Dense(256, activation='sigmoid'),\n",
    "    tf.keras.layers.Dense(6, activation='sigmoid'),\n",
    "])\n",
    "\n",
    "model.compile(optimizer='adam',\n",
    "              loss=tf.keras.losses.SparseCategoricalCrossentropy(from_logits=True),\n",
    "              metrics=['accuracy'])\n",
    "\n",
    "model.fit(X_train, y_train, epochs=100, verbose=2)\n",
    "\n"
   ]
  },
  {
   "cell_type": "code",
   "execution_count": 76,
   "metadata": {},
   "outputs": [
    {
     "name": "stdout",
     "output_type": "stream",
     "text": [
      "WARNING:tensorflow:5 out of the last 7 calls to <function Model.make_test_function.<locals>.test_function at 0x31460c700> triggered tf.function retracing. Tracing is expensive and the excessive number of tracings could be due to (1) creating @tf.function repeatedly in a loop, (2) passing tensors with different shapes, (3) passing Python objects instead of tensors. For (1), please define your @tf.function outside of the loop. For (2), @tf.function has reduce_retracing=True option that can avoid unnecessary retracing. For (3), please refer to https://www.tensorflow.org/guide/function#controlling_retracing and https://www.tensorflow.org/api_docs/python/tf/function for  more details.\n",
      "4/4 - 0s - loss: 0.3269 - accuracy: 0.9250 - 66ms/epoch - 17ms/step\n"
     ]
    }
   ],
   "source": [
    "test_loss, test_acc = model.evaluate(X_test,  y_test, verbose=2)"
   ]
  },
  {
   "cell_type": "code",
   "execution_count": 94,
   "metadata": {},
   "outputs": [
    {
     "name": "stdout",
     "output_type": "stream",
     "text": [
      "2/2 [==============================] - 0s 2ms/step\n"
     ]
    }
   ],
   "source": [
    "preds = model.predict(X_test)"
   ]
  },
  {
   "cell_type": "code",
   "execution_count": 76,
   "metadata": {},
   "outputs": [
    {
     "ename": "ValueError",
     "evalue": "Classification metrics can't handle a mix of multiclass and continuous-multioutput targets",
     "output_type": "error",
     "traceback": [
      "\u001b[0;31m---------------------------------------------------------------------------\u001b[0m",
      "\u001b[0;31mValueError\u001b[0m                                Traceback (most recent call last)",
      "\u001b[1;32m/Users/andrewsimon/nlpmaps/downstream_testing/selection_algorithm/ELMO_demo.ipynb Cell 23\u001b[0m in \u001b[0;36m3\n\u001b[1;32m      <a href='vscode-notebook-cell:/Users/andrewsimon/nlpmaps/downstream_testing/selection_algorithm/ELMO_demo.ipynb#X34sZmlsZQ%3D%3D?line=0'>1</a>\u001b[0m \u001b[39mfrom\u001b[39;00m \u001b[39msklearn\u001b[39;00m\u001b[39m.\u001b[39;00m\u001b[39mmetrics\u001b[39;00m \u001b[39mimport\u001b[39;00m confusion_matrix, ConfusionMatrixDisplay\n\u001b[0;32m----> <a href='vscode-notebook-cell:/Users/andrewsimon/nlpmaps/downstream_testing/selection_algorithm/ELMO_demo.ipynb#X34sZmlsZQ%3D%3D?line=2'>3</a>\u001b[0m cm \u001b[39m=\u001b[39m confusion_matrix(y_test, preds)\n\u001b[1;32m      <a href='vscode-notebook-cell:/Users/andrewsimon/nlpmaps/downstream_testing/selection_algorithm/ELMO_demo.ipynb#X34sZmlsZQ%3D%3D?line=3'>4</a>\u001b[0m disp \u001b[39m=\u001b[39m ConfusionMatrixDisplay(confusion_matrix\u001b[39m=\u001b[39mcm, display_labels \u001b[39m=\u001b[39m [\u001b[39m1\u001b[39m,\u001b[39m2\u001b[39m,\u001b[39m3\u001b[39m,\u001b[39m4\u001b[39m,\u001b[39m5\u001b[39m])\n\u001b[1;32m      <a href='vscode-notebook-cell:/Users/andrewsimon/nlpmaps/downstream_testing/selection_algorithm/ELMO_demo.ipynb#X34sZmlsZQ%3D%3D?line=4'>5</a>\u001b[0m disp\u001b[39m.\u001b[39mplot()\n",
      "File \u001b[0;32m~/Library/Python/3.8/lib/python/site-packages/sklearn/metrics/_classification.py:307\u001b[0m, in \u001b[0;36mconfusion_matrix\u001b[0;34m(y_true, y_pred, labels, sample_weight, normalize)\u001b[0m\n\u001b[1;32m    222\u001b[0m \u001b[39mdef\u001b[39;00m \u001b[39mconfusion_matrix\u001b[39m(\n\u001b[1;32m    223\u001b[0m     y_true, y_pred, \u001b[39m*\u001b[39m, labels\u001b[39m=\u001b[39m\u001b[39mNone\u001b[39;00m, sample_weight\u001b[39m=\u001b[39m\u001b[39mNone\u001b[39;00m, normalize\u001b[39m=\u001b[39m\u001b[39mNone\u001b[39;00m\n\u001b[1;32m    224\u001b[0m ):\n\u001b[1;32m    225\u001b[0m     \u001b[39m\"\"\"Compute confusion matrix to evaluate the accuracy of a classification.\u001b[39;00m\n\u001b[1;32m    226\u001b[0m \n\u001b[1;32m    227\u001b[0m \u001b[39m    By definition a confusion matrix :math:`C` is such that :math:`C_{i, j}`\u001b[39;00m\n\u001b[0;32m   (...)\u001b[0m\n\u001b[1;32m    305\u001b[0m \u001b[39m    (0, 2, 1, 1)\u001b[39;00m\n\u001b[1;32m    306\u001b[0m \u001b[39m    \"\"\"\u001b[39;00m\n\u001b[0;32m--> 307\u001b[0m     y_type, y_true, y_pred \u001b[39m=\u001b[39m _check_targets(y_true, y_pred)\n\u001b[1;32m    308\u001b[0m     \u001b[39mif\u001b[39;00m y_type \u001b[39mnot\u001b[39;00m \u001b[39min\u001b[39;00m (\u001b[39m\"\u001b[39m\u001b[39mbinary\u001b[39m\u001b[39m\"\u001b[39m, \u001b[39m\"\u001b[39m\u001b[39mmulticlass\u001b[39m\u001b[39m\"\u001b[39m):\n\u001b[1;32m    309\u001b[0m         \u001b[39mraise\u001b[39;00m \u001b[39mValueError\u001b[39;00m(\u001b[39m\"\u001b[39m\u001b[39m%s\u001b[39;00m\u001b[39m is not supported\u001b[39m\u001b[39m\"\u001b[39m \u001b[39m%\u001b[39m y_type)\n",
      "File \u001b[0;32m~/Library/Python/3.8/lib/python/site-packages/sklearn/metrics/_classification.py:93\u001b[0m, in \u001b[0;36m_check_targets\u001b[0;34m(y_true, y_pred)\u001b[0m\n\u001b[1;32m     90\u001b[0m     y_type \u001b[39m=\u001b[39m {\u001b[39m\"\u001b[39m\u001b[39mmulticlass\u001b[39m\u001b[39m\"\u001b[39m}\n\u001b[1;32m     92\u001b[0m \u001b[39mif\u001b[39;00m \u001b[39mlen\u001b[39m(y_type) \u001b[39m>\u001b[39m \u001b[39m1\u001b[39m:\n\u001b[0;32m---> 93\u001b[0m     \u001b[39mraise\u001b[39;00m \u001b[39mValueError\u001b[39;00m(\n\u001b[1;32m     94\u001b[0m         \u001b[39m\"\u001b[39m\u001b[39mClassification metrics can\u001b[39m\u001b[39m'\u001b[39m\u001b[39mt handle a mix of \u001b[39m\u001b[39m{0}\u001b[39;00m\u001b[39m and \u001b[39m\u001b[39m{1}\u001b[39;00m\u001b[39m targets\u001b[39m\u001b[39m\"\u001b[39m\u001b[39m.\u001b[39mformat(\n\u001b[1;32m     95\u001b[0m             type_true, type_pred\n\u001b[1;32m     96\u001b[0m         )\n\u001b[1;32m     97\u001b[0m     )\n\u001b[1;32m     99\u001b[0m \u001b[39m# We can't have more than one value on y_type => The set is no more needed\u001b[39;00m\n\u001b[1;32m    100\u001b[0m y_type \u001b[39m=\u001b[39m y_type\u001b[39m.\u001b[39mpop()\n",
      "\u001b[0;31mValueError\u001b[0m: Classification metrics can't handle a mix of multiclass and continuous-multioutput targets"
     ]
    }
   ],
   "source": [
    "from sklearn.metrics import confusion_matrix, ConfusionMatrixDisplay\n",
    "\n",
    "cm = confusion_matrix(y_test, preds)\n",
    "disp = ConfusionMatrixDisplay(confusion_matrix=cm, display_labels = [1,2,3,4,5])\n",
    "disp.plot()"
   ]
  },
  {
   "cell_type": "code",
   "execution_count": 99,
   "metadata": {},
   "outputs": [
    {
     "data": {
      "text/plain": [
       "<sklearn.metrics._plot.confusion_matrix.ConfusionMatrixDisplay at 0x31688e6a0>"
      ]
     },
     "execution_count": 99,
     "metadata": {},
     "output_type": "execute_result"
    },
    {
     "data": {
      "image/png": "[encoded data removed]",
      "text/plain": [
       "<Figure size 640x480 with 2 Axes>"
      ]
     },
     "metadata": {},
     "output_type": "display_data"
    }
   ],
   "source": [
    "from sklearn.metrics import confusion_matrix, ConfusionMatrixDisplay\n",
    "\n",
    "len(y_test)\n",
    "cm = confusion_matrix(y_test, predictions)\n",
    "disp = ConfusionMatrixDisplay(confusion_matrix=cm, display_labels = [1,2,3,4,5])\n",
    "disp.plot()"
   ]
  },
  {
   "cell_type": "code",
   "execution_count": null,
   "metadata": {},
   "outputs": [],
   "source": [
    "from sklearn import svm\n",
    "\n",
    "clf = svm.SVC()\n",
    "clf.fit(X_train, y_train)\n",
    "SVM_predict = clf.predict(X_test)\n",
    "score = clf.score(X_test, y_test)\n",
    "score"
   ]
  },
  {
   "cell_type": "code",
   "execution_count": null,
   "metadata": {},
   "outputs": [],
   "source": [
    "len(y_test)\n",
    "cm = confusion_matrix(y_test, SVM_predict)\n",
    "disp = ConfusionMatrixDisplay(confusion_matrix=cm, display_labels = [1,2,3,4,5])\n",
    "disp.plot()"
   ]
  }
 ],
 "metadata": {
  "kernelspec": {
   "display_name": "Python 3",
   "language": "python",
   "name": "python3"
  },
  "language_info": {
   "codemirror_mode": {
    "name": "ipython",
    "version": 3
   },
   "file_extension": ".py",
   "mimetype": "text/x-python",
   "name": "python",
   "nbconvert_exporter": "python",
   "pygments_lexer": "ipython3",
   "version": "3.8.9"
  },
  "orig_nbformat": 4
 },
 "nbformat": 4,
 "nbformat_minor": 2
}
