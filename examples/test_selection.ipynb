{
 "cells": [
  {
   "cell_type": "code",
   "execution_count": 69,
   "metadata": {},
   "outputs": [],
   "source": [
    "import pandas as pd\n",
    "from sklearn.model_selection import train_test_split"
   ]
  },
  {
   "cell_type": "code",
   "execution_count": 70,
   "metadata": {},
   "outputs": [],
   "source": [
    "import tf_idf\n",
    "import ELMo\n",
    "import bag_of_words\n",
    "import BERT_updated\n",
    "import fasttext\n",
    "import wget\n",
    "import glove\n",
    "import Word2Vec\n",
    "\n",
    "from sklearn.ensemble import RandomForestClassifier\n",
    "from sklearn.tree import DecisionTreeClassifier\n",
    "from sklearn.linear_model import LogisticRegression\n",
    "from sklearn import svm\n",
    "\n",
    "from sklearn.metrics import accuracy_score\n",
    "from sklearn.metrics import precision_score\n",
    "from sklearn.metrics import recall_score\n",
    "from sklearn.metrics import roc_curve\n",
    "from sklearn.metrics import auc\n",
    "\n"
   ]
  },
  {
   "cell_type": "code",
   "execution_count": 71,
   "metadata": {},
   "outputs": [],
   "source": [
    "main_data = pd.read_csv('/Users/andrewsimon/Desktop/Dow_dat.csv')"
   ]
  },
  {
   "cell_type": "code",
   "execution_count": 72,
   "metadata": {},
   "outputs": [],
   "source": [
    "def get_tfidf_embeddings(data, text, labels):\n",
    "    return tf_idf.generate_tfidf_embeddings(data, text, labels).drop(columns=labels).values"
   ]
  },
  {
   "cell_type": "code",
   "execution_count": 73,
   "metadata": {},
   "outputs": [],
   "source": [
    "def get_BoW_embeddings(data, text, labels):\n",
    "    return bag_of_words.generate_bow_embeddings(data, text, labels).drop(columns=labels).values"
   ]
  },
  {
   "cell_type": "code",
   "execution_count": 74,
   "metadata": {},
   "outputs": [],
   "source": [
    "def get_bert_embeddings(data, text, labels):\n",
    "    return BERT_updated.generate_bert_embeddings(data, text, labels)"
   ]
  },
  {
   "cell_type": "code",
   "execution_count": 75,
   "metadata": {},
   "outputs": [],
   "source": [
    "def get_Word2Vec_embeddings(data, text):\n",
    "    return Word2Vec.get_embeddings(data, text)"
   ]
  },
  {
   "cell_type": "code",
   "execution_count": 76,
   "metadata": {},
   "outputs": [],
   "source": [
    "def get_elmo_embeddings(data, text):\n",
    "    return ELMo.get_embeddings(data, text)"
   ]
  },
  {
   "cell_type": "code",
   "execution_count": 77,
   "metadata": {},
   "outputs": [],
   "source": [
    "def get_fasttext_embeddings(data, text, labels):\n",
    "    return fasttext.fasttext_embedding(data, text, labels)"
   ]
  },
  {
   "cell_type": "code",
   "execution_count": 78,
   "metadata": {},
   "outputs": [],
   "source": [
    "def get_glove_embeddings(data, text, labels):\n",
    "    return glove.glove_embedding(data, text, labels)"
   ]
  },
  {
   "cell_type": "code",
   "execution_count": 79,
   "metadata": {},
   "outputs": [],
   "source": [
    "def train_test_split_downstream(features, labels, test_size, random_state):\n",
    "    X_train, X_test, y_train, y_test = train_test_split(features,\n",
    "                                                    labels, test_size=test_size, random_state=random_state)\n",
    "    \n",
    "    return X_train, X_test, y_train, y_test"
   ]
  },
  {
   "cell_type": "code",
   "execution_count": 80,
   "metadata": {},
   "outputs": [],
   "source": [
    "def random_forest_model(X_train, X_test, y_train, y_test, n_estimators=1100, scoring_metric='accuracy'):\n",
    "    \n",
    "    rf = RandomForestClassifier(n_estimators=n_estimators).fit(X_train, y_train)\n",
    "\n",
    "    predictions = rf.predict(X_test)\n",
    "\n",
    "    if scoring_metric == 'accuracy':\n",
    "        score = rf.score(X_test, y_test)\n",
    "        return score\n",
    "    elif scoring_metric == 'precision':\n",
    "        precision = precision_score(y_test, predictions)\n",
    "        return precision\n",
    "    elif scoring_metric == 'recall':\n",
    "        recall = recall_score(y_test, predictions)\n",
    "        return recall\n",
    "    elif scoring_metric == 'auc':\n",
    "        fpr, tpr, thresholds = roc_curve(y_test, predictions)\n",
    "        auc_score = auc(fpr, tpr)\n",
    "        return auc_score\n",
    "\n",
    "        "
   ]
  },
  {
   "cell_type": "code",
   "execution_count": 81,
   "metadata": {},
   "outputs": [],
   "source": [
    "def decision_tree_model(X_train, X_test, y_train, y_test, scoring_metric='accuracy'):\n",
    "    \n",
    "    clf_decision_tree = DecisionTreeClassifier()\n",
    "    clf_decision_tree.fit(X_train, y_train)\n",
    "\n",
    "    predictions = clf_decision_tree.predict(X_test)\n",
    "\n",
    "    if scoring_metric == 'accuracy':\n",
    "        score = accuracy_score(y_test, predictions)\n",
    "        return score\n",
    "    elif scoring_metric == 'precision':\n",
    "        precision = precision_score(y_test, predictions)\n",
    "        return precision\n",
    "    elif scoring_metric == 'recall':\n",
    "        recall = recall_score(y_test, predictions)\n",
    "        return recall\n",
    "    elif scoring_metric == 'auc':\n",
    "        fpr, tpr, thresholds = roc_curve(y_test, predictions)\n",
    "        auc_score = auc(fpr, tpr)\n",
    "        return auc_score"
   ]
  },
  {
   "cell_type": "code",
   "execution_count": 82,
   "metadata": {},
   "outputs": [],
   "source": [
    "def logistic_regression_model(X_train, X_test, y_train, y_test, scoring_metric='accuracy'):\n",
    "    \n",
    "    classifier = LogisticRegression( max_iter = 100000)\n",
    "    classifier.fit(X_train, y_train)\n",
    "\n",
    "    predictions = classifier.predict(X_test)\n",
    "\n",
    "    if scoring_metric == 'accuracy':\n",
    "        score = accuracy_score(y_test, predictions)\n",
    "        return score\n",
    "    elif scoring_metric == 'precision':\n",
    "        precision = precision_score(y_test, predictions)\n",
    "        return precision\n",
    "    elif scoring_metric == 'recall':\n",
    "        recall = recall_score(y_test, predictions)\n",
    "        return recall\n",
    "    elif scoring_metric == 'auc':\n",
    "        fpr, tpr, thresholds = roc_curve(y_test, predictions)\n",
    "        auc_score = auc(fpr, tpr)\n",
    "        return auc_score"
   ]
  },
  {
   "cell_type": "code",
   "execution_count": 83,
   "metadata": {},
   "outputs": [],
   "source": [
    "def svm_model(X_train, X_test, y_train, y_test, scoring_metric='accuracy'):\n",
    "    \n",
    "    clf = svm.SVC()\n",
    "    clf.fit(X_train, y_train)\n",
    "\n",
    "    predictions = clf.predict(X_test)\n",
    "\n",
    "    if scoring_metric == 'accuracy':\n",
    "        score = accuracy_score(y_test, predictions)\n",
    "        return score\n",
    "    elif scoring_metric == 'precision':\n",
    "        precision = precision_score(y_test, predictions)\n",
    "        return precision\n",
    "    elif scoring_metric == 'recall':\n",
    "        recall = recall_score(y_test, predictions)\n",
    "        return recall\n",
    "    elif scoring_metric == 'auc':\n",
    "        fpr, tpr, thresholds = roc_curve(y_test, predictions)\n",
    "        auc_score = auc(fpr, tpr)\n",
    "        return auc_score"
   ]
  },
  {
   "cell_type": "code",
   "execution_count": 84,
   "metadata": {},
   "outputs": [],
   "source": [
    "def find_optimal_method(data, features, labels, test_size=0.2, random_state=42):\n",
    "    \n",
    "    bow_embeddings = get_BoW_embeddings(data, features, labels)\n",
    "    tf_idf_embeddings = get_tfidf_embeddings(data,features,labels)\n",
    "    bert_embeddings = get_bert_embeddings(data, features, labels)\n",
    "    word2vec_embeddings = get_Word2Vec_embeddings(data,features)\n",
    "    elmo_embeddings = get_elmo_embeddings(data,features)\n",
    "    fasttext_embeddings = get_fasttext_embeddings(data,features, labels)\n",
    "    glove_embeddings = get_glove_embeddings(data,features,labels)\n",
    "\n",
    "    X_train_bow, X_test_bow, y_train, y_test = train_test_split_downstream(bow_embeddings, data[labels], test_size=test_size, random_state=random_state)\n",
    "    X_train_tfidf, X_test_tfidf, y_train, y_test = train_test_split_downstream(tf_idf_embeddings, data[labels], test_size=test_size, random_state=random_state)\n",
    "    X_train_bert, X_test_bert, y_train, y_test = train_test_split_downstream(bert_embeddings, data[labels], test_size=test_size, random_state=random_state)\n",
    "    X_train_w2v, X_test_w2v, y_train, y_test = train_test_split_downstream(word2vec_embeddings, data[labels], test_size=test_size, random_state=random_state)\n",
    "    X_train_elmo, X_test_elmo, y_train, y_test = train_test_split_downstream(elmo_embeddings, data[labels], test_size=test_size, random_state=random_state)\n",
    "    X_train_fasttext, X_test_fasttext, y_train, y_test = train_test_split_downstream(fasttext_embeddings, data[labels], test_size=test_size, random_state=random_state)\n",
    "    X_train_glove, X_test_glove, y_train, y_test = train_test_split_downstream(glove_embeddings, data[labels], test_size=test_size, random_state=random_state)\n",
    "\n",
    "    bow_embeddings_values = [\n",
    "        random_forest_model(X_train_bow,X_test_bow, y_train, y_test),\n",
    "        decision_tree_model(X_train_bow,X_test_bow, y_train, y_test),\n",
    "        logistic_regression_model(X_train_bow,X_test_bow, y_train, y_test),\n",
    "        svm_model(X_train_bow,X_test_bow, y_train, y_test)\n",
    "    ]\n",
    "\n",
    "    tf_idf_embeddings_values = [\n",
    "        random_forest_model(X_train_tfidf,X_test_tfidf, y_train, y_test),\n",
    "        decision_tree_model(X_train_tfidf,X_test_tfidf, y_train, y_test),\n",
    "        logistic_regression_model(X_train_tfidf,X_test_tfidf, y_train, y_test),\n",
    "        svm_model(X_train_tfidf,X_test_tfidf, y_train, y_test)\n",
    "    ]\n",
    "\n",
    "    bert_embeddings_values = [\n",
    "        random_forest_model(X_train_bert,X_test_bert, y_train, y_test),\n",
    "        decision_tree_model(X_train_bert,X_test_bert, y_train, y_test),\n",
    "        logistic_regression_model(X_train_bert,X_test_bert, y_train, y_test),\n",
    "        svm_model(X_train_bert,X_test_bert, y_train, y_test)\n",
    "    ]\n",
    "\n",
    "    w2v_embeddings_values = [\n",
    "        random_forest_model(X_train_w2v,X_test_w2v, y_train, y_test),\n",
    "        decision_tree_model(X_train_w2v,X_test_w2v, y_train, y_test),\n",
    "        logistic_regression_model(X_train_w2v,X_test_w2v, y_train, y_test),\n",
    "        svm_model(X_train_w2v,X_test_w2v, y_train, y_test)\n",
    "    ]\n",
    "\n",
    "    elmo_embeddings_values = [\n",
    "        random_forest_model(X_train_elmo ,X_test_elmo, y_train, y_test),\n",
    "        decision_tree_model(X_train_elmo ,X_test_elmo, y_train, y_test),\n",
    "        logistic_regression_model(X_train_elmo ,X_test_elmo, y_train, y_test),\n",
    "        svm_model(X_train_elmo ,X_test_elmo, y_train, y_test)\n",
    "    ]\n",
    "\n",
    "    fasttext_embeddings_values = [\n",
    "        random_forest_model(X_train_fasttext ,X_test_fasttext, y_train, y_test),\n",
    "        decision_tree_model(X_train_fasttext ,X_test_fasttext, y_train, y_test),\n",
    "        logistic_regression_model(X_train_fasttext ,X_test_fasttext, y_train, y_test),\n",
    "        svm_model(X_train_fasttext ,X_test_fasttext, y_train, y_test)\n",
    "    ]\n",
    "\n",
    "    glove_embeddings_values = [\n",
    "        random_forest_model(X_train_glove ,X_test_glove, y_train, y_test),\n",
    "        decision_tree_model(X_train_glove ,X_test_glove, y_train, y_test),\n",
    "        logistic_regression_model(X_train_glove ,X_test_glove, y_train, y_test),\n",
    "        svm_model(X_train_glove ,X_test_glove, y_train, y_test)\n",
    "    ]\n",
    "\n",
    "    score_pd = { \"Classifier\" : ['Random Forest',' Decision Tree','Logistic Regression', 'SVM'],\n",
    "                'Bag of Words': bow_embeddings_values, 'tf idf': tf_idf_embeddings_values, 'BERT': bert_embeddings_values,\n",
    "                'Word2Vec': w2v_embeddings_values, 'ELMo': elmo_embeddings_values, 'FastText': fasttext_embeddings_values,\n",
    "                'GLoVE': glove_embeddings_values}\n",
    "    \n",
    "    return pd.DataFrame(data=score_pd)"
   ]
  }
 ],
 "metadata": {
  "kernelspec": {
   "display_name": "Python 3",
   "language": "python",
   "name": "python3"
  },
  "language_info": {
   "codemirror_mode": {
    "name": "ipython",
    "version": 3
   },
   "file_extension": ".py",
   "mimetype": "text/x-python",
   "name": "python",
   "nbconvert_exporter": "python",
   "pygments_lexer": "ipython3",
   "version": "3.8.9"
  },
  "orig_nbformat": 4
 },
 "nbformat": 4,
 "nbformat_minor": 2
}
