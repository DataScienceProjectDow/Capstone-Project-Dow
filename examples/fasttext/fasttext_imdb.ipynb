{
 "cells": [
  {
   "cell_type": "code",
   "execution_count": null,
   "id": "36933582",
   "metadata": {},
   "outputs": [],
   "source": [
    "# Import packages\n",
    "import zipfile\n",
    "import urllib.request\n",
    "\n",
    "import numpy as np\n",
    "import sklearn.metrics\n",
    "import sklearn.ensemble\n",
    "\n",
    "from datasets import load_dataset\n",
    "\n",
    "import fasttext\n",
    "\n",
    "import seaborn as sns\n",
    "sns.set_style('whitegrid')\n",
    "sns.set_context('talk')"
   ]
  },
  {
   "cell_type": "code",
   "execution_count": null,
   "id": "ebab2b7f",
   "metadata": {},
   "outputs": [],
   "source": [
    "# Load IMDB dataset\n",
    "df = load_dataset('imdb')"
   ]
  },
  {
   "cell_type": "code",
   "execution_count": null,
   "id": "1203e607",
   "metadata": {},
   "outputs": [],
   "source": [
    "# Preprocess the data\n",
    "with open('train.txt', 'w') as f:\n",
    "    for text, label in zip(df['train']['text'], df['train']['label']):\n",
    "        f.write(f'__label__{label} {text}\\n')\n",
    "\n",
    "with open('test.txt', 'w') as f:\n",
    "    for text, label in zip(df['test']['text'], df['test']['label']):\n",
    "        f.write(f'__label__{label} {text}\\n')"
   ]
  },
  {
   "cell_type": "code",
   "execution_count": null,
   "id": "28d437d9",
   "metadata": {
    "scrolled": true
   },
   "outputs": [],
   "source": [
    "# Model training\n",
    "model = fasttext.train_supervised('train.txt')"
   ]
  },
  {
   "cell_type": "code",
   "execution_count": null,
   "id": "3b7e9c5e",
   "metadata": {},
   "outputs": [],
   "source": [
    "# Evaluate the model\n",
    "def print_results(N, p, r):\n",
    "    print(\"N\\t\" + str(N))\n",
    "    print(\"P@{}\\t{:.3f}\".format(1, p))\n",
    "    print(\"R@{}\\t{:.3f}\".format(1, r))\n",
    "\n",
    "print_results(*model.test('test.txt'))"
   ]
  },
  {
   "cell_type": "code",
   "execution_count": null,
   "id": "ed6772d5",
   "metadata": {},
   "outputs": [],
   "source": [
    "# Predict labels for test data\n",
    "pred_labels = []\n",
    "true_labels = df['test']['label']\n",
    "\n",
    "for text in df['test']['text']:\n",
    "    pred = model.predict(text)\n",
    "    pred_label = int(pred[0][0].replace('__label__', ''))\n",
    "    pred_labels.append(pred_label)\n",
    "\n",
    "# Generate classification report\n",
    "print(sklearn.metrics.classification_report(true_labels, pred_labels, target_names=['negative', 'positive']))"
   ]
  }
 ],
 "metadata": {
  "kernelspec": {
   "display_name": "Python 3 (ipykernel)",
   "language": "python",
   "name": "python3"
  },
  "language_info": {
   "codemirror_mode": {
    "name": "ipython",
    "version": 3
   },
   "file_extension": ".py",
   "mimetype": "text/x-python",
   "name": "python",
   "nbconvert_exporter": "python",
   "pygments_lexer": "ipython3",
   "version": "3.10.11"
  }
 },
 "nbformat": 4,
 "nbformat_minor": 5
}
