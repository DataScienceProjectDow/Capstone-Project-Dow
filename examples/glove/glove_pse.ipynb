{
 "cells": [
  {
   "cell_type": "code",
   "execution_count": 1,
   "id": "fec1b168",
   "metadata": {},
   "outputs": [],
   "source": [
    "# import packages\n",
    "import zipfile\n",
    "import urllib.request\n",
    "\n",
    "import pandas as pd\n",
    "import numpy as np\n",
    "import sklearn.metrics\n",
    "import sklearn.ensemble\n",
    "import sklearn.model_selection\n",
    "\n",
    "from gensim.scripts.glove2word2vec import glove2word2vec\n",
    "from gensim.models import KeyedVectors\n",
    "\n",
    "import seaborn as sns\n",
    "sns.set_style('whitegrid')\n",
    "sns.set_context('talk')\n",
    "\n",
    "import optuna"
   ]
  },
  {
   "cell_type": "code",
   "execution_count": 2,
   "id": "3fd2c93b",
   "metadata": {},
   "outputs": [
    {
     "name": "stderr",
     "output_type": "stream",
     "text": [
      "/var/folders/gy/5v8v142s4fz6nz5xwllrz4b40000gn/T/ipykernel_14900/779987310.py:12: DeprecationWarning: Call to deprecated `glove2word2vec` (KeyedVectors.load_word2vec_format(.., binary=False, no_header=True) loads GLoVE text vectors.).\n",
      "  glove2word2vec(GLOVE_FILE, WORD2VEC_FILE)\n"
     ]
    }
   ],
   "source": [
    "# download pre-trained GloVe vectors from the website\n",
    "URL = 'https://nlp.stanford.edu/data/glove.6B.zip'\n",
    "FILE_NAME = 'glove.6B.zip'\n",
    "urllib.request.urlretrieve(URL, FILE_NAME)\n",
    "\n",
    "with zipfile.ZipFile(FILE_NAME, 'r') as zip_ref:\n",
    "    zip_ref.extractall()\n",
    "\n",
    "# transfer pre-trained GloVe vectors into word2vec format\n",
    "GLOVE_FILE = 'glove.6B.100d.txt'\n",
    "WORD2VEC_FILE = GLOVE_FILE + '.word2vec'\n",
    "glove2word2vec(GLOVE_FILE, WORD2VEC_FILE)\n",
    "\n",
    "# load pre-trained GloVe vectors\n",
    "glove_model = KeyedVectors.load_word2vec_format(WORD2VEC_FILE, binary=False)"
   ]
  },
  {
   "cell_type": "code",
   "execution_count": 3,
   "id": "9b271006",
   "metadata": {},
   "outputs": [],
   "source": [
    "# load dataset\n",
    "df1 = pd.read_excel('../../Downloads/CHEME DIRECT/NLP Project/PSE Dataset.xlsx', sheet_name='SamePerson Report')\n",
    "df2 = pd.read_excel('../../Downloads/CHEME DIRECT/NLP Project/PSE Dataset.xlsx', sheet_name='Multiple People Report')\n",
    "df3 = pd.read_excel('../../Downloads/CHEME DIRECT/NLP Project/PSE Dataset.xlsx', sheet_name='Multiple People Less Details')"
   ]
  },
  {
   "cell_type": "code",
   "execution_count": 4,
   "id": "3b70a561",
   "metadata": {},
   "outputs": [],
   "source": [
    "dev_1, test_1 = sklearn.model_selection.train_test_split(df1, test_size=0.2, random_state=26)\n",
    "dev_2, test_2 = sklearn.model_selection.train_test_split(df2, test_size=0.2, random_state=26)\n",
    "dev_3, test_3 = sklearn.model_selection.train_test_split(df3, test_size=0.2, random_state=26)"
   ]
  },
  {
   "cell_type": "code",
   "execution_count": 5,
   "id": "87867133",
   "metadata": {},
   "outputs": [],
   "source": [
    "dev_1_text = dev_1['Report'].values.reshape(-1,1)\n",
    "test_1_text = test_1['Report'].values.reshape(-1,1)\n",
    "\n",
    "dev_1_label = dev_1['Level'].values.reshape(-1,1)\n",
    "test_1_label = test_1['Level'].values.reshape(-1,1)\n",
    "\n",
    "dev_2_text = dev_2['Report'].values.reshape(-1,1)\n",
    "test_2_text = test_2['Report'].values.reshape(-1,1)\n",
    "\n",
    "dev_2_label = dev_2['Level'].values.reshape(-1,1)\n",
    "test_2_label = test_2['Level'].values.reshape(-1,1)\n",
    "\n",
    "dev_3_text = dev_3['Report'].values.reshape(-1,1)\n",
    "test_3_text = test_3['Report'].values.reshape(-1,1)\n",
    "\n",
    "dev_3_label = dev_3['Level'].values.reshape(-1,1)\n",
    "test_3_label = test_3['Level'].values.reshape(-1,1)"
   ]
  },
  {
   "cell_type": "code",
   "execution_count": 6,
   "id": "419f154e",
   "metadata": {},
   "outputs": [],
   "source": [
    "# define functions for tokenizing the text data\n",
    "class Word2VecVectorizer:\n",
    "    def __init__(self, model_vec):\n",
    "        print(\"Loading in word vectors...\")\n",
    "        self.word_vectors = model_vec\n",
    "        print(\"Finished loading in word vectors\")\n",
    "\n",
    "    def fit(self, data):\n",
    "        \"\"\"fit data\"\"\"\n",
    "\n",
    "    def transform(self, data):\n",
    "        \"\"\"determine the dimensionality of vectors\"\"\"\n",
    "        v_get = self.word_vectors.get_vector('king')\n",
    "        self.D = v_get.shape[0]\n",
    "\n",
    "        x_vec = np.zeros((len(data), self.D))\n",
    "        n_count = 0\n",
    "        emptycount = 0\n",
    "\n",
    "        for sentence in data:\n",
    "            tokens = sentence.split()\n",
    "            vecs = []\n",
    "            m_count = 0\n",
    "            for word in tokens:\n",
    "                try:\n",
    "                    # throws KeyError if word not found\n",
    "                    vec = self.word_vectors.get_vector(word)\n",
    "                    vecs.append(vec)\n",
    "                    m_count += 1\n",
    "                except KeyError:\n",
    "                    pass\n",
    "\n",
    "            if len(vecs) > 0:\n",
    "                vecs = np.array(vecs)\n",
    "                x_vec[n_count] = vecs.mean(axis=0)\n",
    "            else:\n",
    "                emptycount += 1\n",
    "            n_count += 1\n",
    "\n",
    "        print(\"Numer of samples with no words found: %s / %s\" % (emptycount,\n",
    "        \tlen(data)))\n",
    "        return x_vec\n",
    "\n",
    "    def fit_transform(self, data):\n",
    "        \"\"\"transform the strings to vectors\"\"\"\n",
    "        self.fit(data)\n",
    "\n",
    "        return self.transform(data)"
   ]
  },
  {
   "cell_type": "code",
   "execution_count": 7,
   "id": "00d7fd51",
   "metadata": {},
   "outputs": [],
   "source": [
    "dev_1_text_list = dev_1_text.tolist()\n",
    "dev_1_text_str = [item for sublist in dev_1_text_list for item in sublist]\n",
    "\n",
    "test_1_text_list = test_1_text.tolist()\n",
    "test_1_text_str = [item for sublist in test_1_text_list for item in sublist]\n",
    "\n",
    "dev_1_label_list = dev_1_label.tolist()\n",
    "dev_1_label_str = [item for sublist in dev_1_label_list for item in sublist]\n",
    "\n",
    "test_1_label_list = test_1_label.tolist()\n",
    "test_1_label_str = [item for sublist in test_1_label_list for item in sublist]"
   ]
  },
  {
   "cell_type": "code",
   "execution_count": 24,
   "id": "8e11cc2e",
   "metadata": {},
   "outputs": [],
   "source": [
    "dev_2_text_list = dev_2_text.tolist()\n",
    "dev_2_text_str = [item for sublist in dev_2_text_list for item in sublist]\n",
    "\n",
    "test_2_text_list = test_2_text.tolist()\n",
    "test_2_text_str = [item for sublist in test_2_text_list for item in sublist]\n",
    "\n",
    "dev_2_label_list = dev_2_label.tolist()\n",
    "dev_2_label_str = [item for sublist in dev_2_label_list for item in sublist]\n",
    "\n",
    "test_2_label_list = test_2_label.tolist()\n",
    "test_2_label_str = [item for sublist in test_2_label_list for item in sublist]"
   ]
  },
  {
   "cell_type": "code",
   "execution_count": 25,
   "id": "89d22cbb",
   "metadata": {},
   "outputs": [],
   "source": [
    "dev_3_text_list = dev_3_text.tolist()\n",
    "dev_3_text_str = [item for sublist in dev_3_text_list for item in sublist]\n",
    "\n",
    "test_3_text_list = test_3_text.tolist()\n",
    "test_3_text_str = [item for sublist in test_3_text_list for item in sublist]\n",
    "\n",
    "dev_3_label_list = dev_3_label.tolist()\n",
    "dev_3_label_str = [item for sublist in dev_3_label_list for item in sublist]\n",
    "\n",
    "test_3_label_list = test_3_label.tolist()\n",
    "test_3_label_str = [item for sublist in test_3_label_list for item in sublist]"
   ]
  },
  {
   "cell_type": "code",
   "execution_count": 26,
   "id": "ef13234b",
   "metadata": {},
   "outputs": [],
   "source": [
    "dev_text = dev_1_text_str + dev_2_text_str + dev_3_text_str\n",
    "test_text = test_1_text_str + test_2_text_str + test_3_text_str\n",
    "\n",
    "dev_label = dev_1_label_str + dev_2_label_str + dev_3_label_str\n",
    "test_label = test_1_label_str + test_2_label_str + test_3_label_str"
   ]
  },
  {
   "cell_type": "code",
   "execution_count": 27,
   "id": "b14cd949",
   "metadata": {
    "scrolled": true
   },
   "outputs": [
    {
     "name": "stdout",
     "output_type": "stream",
     "text": [
      "Loading in word vectors...\n",
      "Finished loading in word vectors\n",
      "Numer of samples with no words found: 0 / 240\n",
      "Numer of samples with no words found: 0 / 60\n"
     ]
    }
   ],
   "source": [
    "# set a word vectorizer\n",
    "vectorizer = Word2VecVectorizer(glove_model)\n",
    "\n",
    "# get the sentence embeddings for the train dataset\n",
    "dev_x = vectorizer.fit_transform(dev_text)\n",
    "dev_y = dev_label\n",
    "\n",
    "# get the sentence embeddings for the test dataset\n",
    "test_x = vectorizer.transform(test_text)\n",
    "test_y = test_label"
   ]
  },
  {
   "cell_type": "code",
   "execution_count": 28,
   "id": "b36978b6",
   "metadata": {},
   "outputs": [],
   "source": [
    "train_x, val_x, train_y, val_y = sklearn.model_selection.train_test_split(\n",
    "    dev_x, dev_y, test_size=0.2, random_state=26)"
   ]
  },
  {
   "cell_type": "code",
   "execution_count": 29,
   "id": "bff76f8c",
   "metadata": {},
   "outputs": [],
   "source": [
    "def train_evaluate_hyperparameters(n_estimators, max_depth, min_weight_fraction_leaf):\n",
    "    # create model\n",
    "    model = sklearn.ensemble.RandomForestClassifier(\n",
    "        n_estimators=n_estimators, max_depth=max_depth, min_weight_fraction_leaf=min_weight_fraction_leaf)\n",
    "    # train the model on the training set\n",
    "    model.fit(train_x, train_y)\n",
    "    # evaluate the model on the validation set\n",
    "    score = model.score(val_x, val_y)\n",
    "    return score"
   ]
  },
  {
   "cell_type": "code",
   "execution_count": 30,
   "id": "cc0d9671",
   "metadata": {},
   "outputs": [
    {
     "name": "stderr",
     "output_type": "stream",
     "text": [
      "[I 2023-06-04 23:00:10,526] A new study created in memory with name: no-name-ab58661e-55da-4978-a88d-424f115f6400\n",
      "/var/folders/gy/5v8v142s4fz6nz5xwllrz4b40000gn/T/ipykernel_14900/1728467643.py:5: FutureWarning: suggest_uniform has been deprecated in v3.0.0. This feature will be removed in v6.0.0. See https://github.com/optuna/optuna/releases/tag/v3.0.0. Use suggest_float instead.\n",
      "  min_weight_fraction_leaf = trial.suggest_uniform(\n",
      "[I 2023-06-04 23:00:12,872] Trial 0 finished with value: 0.4583333333333333 and parameters: {'n_estimators': 3737, 'max_depth': 237, 'min_weight_fraction_leaf': 0.12819436665541983}. Best is trial 0 with value: 0.4583333333333333.\n",
      "/var/folders/gy/5v8v142s4fz6nz5xwllrz4b40000gn/T/ipykernel_14900/1728467643.py:5: FutureWarning: suggest_uniform has been deprecated in v3.0.0. This feature will be removed in v6.0.0. See https://github.com/optuna/optuna/releases/tag/v3.0.0. Use suggest_float instead.\n",
      "  min_weight_fraction_leaf = trial.suggest_uniform(\n",
      "[I 2023-06-04 23:00:14,307] Trial 1 finished with value: 0.25 and parameters: {'n_estimators': 2938, 'max_depth': 563, 'min_weight_fraction_leaf': 0.4848951738198753}. Best is trial 0 with value: 0.4583333333333333.\n",
      "/var/folders/gy/5v8v142s4fz6nz5xwllrz4b40000gn/T/ipykernel_14900/1728467643.py:5: FutureWarning: suggest_uniform has been deprecated in v3.0.0. This feature will be removed in v6.0.0. See https://github.com/optuna/optuna/releases/tag/v3.0.0. Use suggest_float instead.\n",
      "  min_weight_fraction_leaf = trial.suggest_uniform(\n",
      "[I 2023-06-04 23:00:16,846] Trial 2 finished with value: 0.3958333333333333 and parameters: {'n_estimators': 4353, 'max_depth': 125, 'min_weight_fraction_leaf': 0.1704771792297678}. Best is trial 0 with value: 0.4583333333333333.\n",
      "/var/folders/gy/5v8v142s4fz6nz5xwllrz4b40000gn/T/ipykernel_14900/1728467643.py:5: FutureWarning: suggest_uniform has been deprecated in v3.0.0. This feature will be removed in v6.0.0. See https://github.com/optuna/optuna/releases/tag/v3.0.0. Use suggest_float instead.\n",
      "  min_weight_fraction_leaf = trial.suggest_uniform(\n",
      "[I 2023-06-04 23:00:18,616] Trial 3 finished with value: 0.2708333333333333 and parameters: {'n_estimators': 3633, 'max_depth': 493, 'min_weight_fraction_leaf': 0.4182687129834258}. Best is trial 0 with value: 0.4583333333333333.\n",
      "/var/folders/gy/5v8v142s4fz6nz5xwllrz4b40000gn/T/ipykernel_14900/1728467643.py:5: FutureWarning: suggest_uniform has been deprecated in v3.0.0. This feature will be removed in v6.0.0. See https://github.com/optuna/optuna/releases/tag/v3.0.0. Use suggest_float instead.\n",
      "  min_weight_fraction_leaf = trial.suggest_uniform(\n",
      "[I 2023-06-04 23:00:19,543] Trial 4 finished with value: 0.4166666666666667 and parameters: {'n_estimators': 1564, 'max_depth': 587, 'min_weight_fraction_leaf': 0.15716957803949366}. Best is trial 0 with value: 0.4583333333333333.\n",
      "/var/folders/gy/5v8v142s4fz6nz5xwllrz4b40000gn/T/ipykernel_14900/1728467643.py:5: FutureWarning: suggest_uniform has been deprecated in v3.0.0. This feature will be removed in v6.0.0. See https://github.com/optuna/optuna/releases/tag/v3.0.0. Use suggest_float instead.\n",
      "  min_weight_fraction_leaf = trial.suggest_uniform(\n",
      "[I 2023-06-04 23:00:20,162] Trial 5 finished with value: 0.3958333333333333 and parameters: {'n_estimators': 996, 'max_depth': 447, 'min_weight_fraction_leaf': 0.19791233657030244}. Best is trial 0 with value: 0.4583333333333333.\n",
      "/var/folders/gy/5v8v142s4fz6nz5xwllrz4b40000gn/T/ipykernel_14900/1728467643.py:5: FutureWarning: suggest_uniform has been deprecated in v3.0.0. This feature will be removed in v6.0.0. See https://github.com/optuna/optuna/releases/tag/v3.0.0. Use suggest_float instead.\n",
      "  min_weight_fraction_leaf = trial.suggest_uniform(\n",
      "[I 2023-06-04 23:00:23,528] Trial 6 finished with value: 0.625 and parameters: {'n_estimators': 4048, 'max_depth': 539, 'min_weight_fraction_leaf': 0.006622484852892019}. Best is trial 6 with value: 0.625.\n",
      "/var/folders/gy/5v8v142s4fz6nz5xwllrz4b40000gn/T/ipykernel_14900/1728467643.py:5: FutureWarning: suggest_uniform has been deprecated in v3.0.0. This feature will be removed in v6.0.0. See https://github.com/optuna/optuna/releases/tag/v3.0.0. Use suggest_float instead.\n",
      "  min_weight_fraction_leaf = trial.suggest_uniform(\n",
      "[I 2023-06-04 23:00:25,387] Trial 7 finished with value: 0.4166666666666667 and parameters: {'n_estimators': 3228, 'max_depth': 312, 'min_weight_fraction_leaf': 0.17456566084039138}. Best is trial 6 with value: 0.625.\n",
      "/var/folders/gy/5v8v142s4fz6nz5xwllrz4b40000gn/T/ipykernel_14900/1728467643.py:5: FutureWarning: suggest_uniform has been deprecated in v3.0.0. This feature will be removed in v6.0.0. See https://github.com/optuna/optuna/releases/tag/v3.0.0. Use suggest_float instead.\n",
      "  min_weight_fraction_leaf = trial.suggest_uniform(\n",
      "[I 2023-06-04 23:00:26,806] Trial 8 finished with value: 0.5208333333333334 and parameters: {'n_estimators': 2055, 'max_depth': 482, 'min_weight_fraction_leaf': 0.07112485824612769}. Best is trial 6 with value: 0.625.\n",
      "/var/folders/gy/5v8v142s4fz6nz5xwllrz4b40000gn/T/ipykernel_14900/1728467643.py:5: FutureWarning: suggest_uniform has been deprecated in v3.0.0. This feature will be removed in v6.0.0. See https://github.com/optuna/optuna/releases/tag/v3.0.0. Use suggest_float instead.\n",
      "  min_weight_fraction_leaf = trial.suggest_uniform(\n",
      "[I 2023-06-04 23:00:28,844] Trial 9 finished with value: 0.3958333333333333 and parameters: {'n_estimators': 3339, 'max_depth': 341, 'min_weight_fraction_leaf': 0.1335785189880589}. Best is trial 6 with value: 0.625.\n",
      "/var/folders/gy/5v8v142s4fz6nz5xwllrz4b40000gn/T/ipykernel_14900/1728467643.py:5: FutureWarning: suggest_uniform has been deprecated in v3.0.0. This feature will be removed in v6.0.0. See https://github.com/optuna/optuna/releases/tag/v3.0.0. Use suggest_float instead.\n",
      "  min_weight_fraction_leaf = trial.suggest_uniform(\n",
      "[I 2023-06-04 23:00:32,856] Trial 10 finished with value: 0.6458333333333334 and parameters: {'n_estimators': 4866, 'max_depth': 43, 'min_weight_fraction_leaf': 0.014014013172702067}. Best is trial 10 with value: 0.6458333333333334.\n",
      "/var/folders/gy/5v8v142s4fz6nz5xwllrz4b40000gn/T/ipykernel_14900/1728467643.py:5: FutureWarning: suggest_uniform has been deprecated in v3.0.0. This feature will be removed in v6.0.0. See https://github.com/optuna/optuna/releases/tag/v3.0.0. Use suggest_float instead.\n",
      "  min_weight_fraction_leaf = trial.suggest_uniform(\n",
      "[I 2023-06-04 23:00:36,487] Trial 11 finished with value: 0.625 and parameters: {'n_estimators': 4679, 'max_depth': 9, 'min_weight_fraction_leaf': 0.02605094682797484}. Best is trial 10 with value: 0.6458333333333334.\n",
      "/var/folders/gy/5v8v142s4fz6nz5xwllrz4b40000gn/T/ipykernel_14900/1728467643.py:5: FutureWarning: suggest_uniform has been deprecated in v3.0.0. This feature will be removed in v6.0.0. See https://github.com/optuna/optuna/releases/tag/v3.0.0. Use suggest_float instead.\n",
      "  min_weight_fraction_leaf = trial.suggest_uniform(\n",
      "[I 2023-06-04 23:00:40,617] Trial 12 finished with value: 0.6458333333333334 and parameters: {'n_estimators': 4861, 'max_depth': 177, 'min_weight_fraction_leaf': 0.0012695137652452022}. Best is trial 10 with value: 0.6458333333333334.\n",
      "/var/folders/gy/5v8v142s4fz6nz5xwllrz4b40000gn/T/ipykernel_14900/1728467643.py:5: FutureWarning: suggest_uniform has been deprecated in v3.0.0. This feature will be removed in v6.0.0. See https://github.com/optuna/optuna/releases/tag/v3.0.0. Use suggest_float instead.\n",
      "  min_weight_fraction_leaf = trial.suggest_uniform(\n",
      "[I 2023-06-04 23:00:44,012] Trial 13 finished with value: 0.5416666666666666 and parameters: {'n_estimators': 4925, 'max_depth': 74, 'min_weight_fraction_leaf': 0.07101377282843196}. Best is trial 10 with value: 0.6458333333333334.\n",
      "/var/folders/gy/5v8v142s4fz6nz5xwllrz4b40000gn/T/ipykernel_14900/1728467643.py:5: FutureWarning: suggest_uniform has been deprecated in v3.0.0. This feature will be removed in v6.0.0. See https://github.com/optuna/optuna/releases/tag/v3.0.0. Use suggest_float instead.\n",
      "  min_weight_fraction_leaf = trial.suggest_uniform(\n",
      "[I 2023-06-04 23:00:44,244] Trial 14 finished with value: 0.3333333333333333 and parameters: {'n_estimators': 416, 'max_depth': 184, 'min_weight_fraction_leaf': 0.2789077969236563}. Best is trial 10 with value: 0.6458333333333334.\n"
     ]
    },
    {
     "name": "stderr",
     "output_type": "stream",
     "text": [
      "/var/folders/gy/5v8v142s4fz6nz5xwllrz4b40000gn/T/ipykernel_14900/1728467643.py:5: FutureWarning: suggest_uniform has been deprecated in v3.0.0. This feature will be removed in v6.0.0. See https://github.com/optuna/optuna/releases/tag/v3.0.0. Use suggest_float instead.\n",
      "  min_weight_fraction_leaf = trial.suggest_uniform(\n",
      "[I 2023-06-04 23:00:48,466] Trial 15 finished with value: 0.6666666666666666 and parameters: {'n_estimators': 4974, 'max_depth': 18, 'min_weight_fraction_leaf': 0.008440029412940517}. Best is trial 15 with value: 0.6666666666666666.\n",
      "/var/folders/gy/5v8v142s4fz6nz5xwllrz4b40000gn/T/ipykernel_14900/1728467643.py:5: FutureWarning: suggest_uniform has been deprecated in v3.0.0. This feature will be removed in v6.0.0. See https://github.com/optuna/optuna/releases/tag/v3.0.0. Use suggest_float instead.\n",
      "  min_weight_fraction_leaf = trial.suggest_uniform(\n",
      "[I 2023-06-04 23:00:49,757] Trial 16 finished with value: 0.2708333333333333 and parameters: {'n_estimators': 2569, 'max_depth': 1, 'min_weight_fraction_leaf': 0.07478163350783842}. Best is trial 15 with value: 0.6666666666666666.\n",
      "/var/folders/gy/5v8v142s4fz6nz5xwllrz4b40000gn/T/ipykernel_14900/1728467643.py:5: FutureWarning: suggest_uniform has been deprecated in v3.0.0. This feature will be removed in v6.0.0. See https://github.com/optuna/optuna/releases/tag/v3.0.0. Use suggest_float instead.\n",
      "  min_weight_fraction_leaf = trial.suggest_uniform(\n",
      "[I 2023-06-04 23:00:51,999] Trial 17 finished with value: 0.3541666666666667 and parameters: {'n_estimators': 4156, 'max_depth': 79, 'min_weight_fraction_leaf': 0.2565498960075564}. Best is trial 15 with value: 0.6666666666666666.\n",
      "/var/folders/gy/5v8v142s4fz6nz5xwllrz4b40000gn/T/ipykernel_14900/1728467643.py:5: FutureWarning: suggest_uniform has been deprecated in v3.0.0. This feature will be removed in v6.0.0. See https://github.com/optuna/optuna/releases/tag/v3.0.0. Use suggest_float instead.\n",
      "  min_weight_fraction_leaf = trial.suggest_uniform(\n",
      "[I 2023-06-04 23:00:55,072] Trial 18 finished with value: 0.5208333333333334 and parameters: {'n_estimators': 4345, 'max_depth': 385, 'min_weight_fraction_leaf': 0.06285421362191937}. Best is trial 15 with value: 0.6666666666666666.\n",
      "/var/folders/gy/5v8v142s4fz6nz5xwllrz4b40000gn/T/ipykernel_14900/1728467643.py:5: FutureWarning: suggest_uniform has been deprecated in v3.0.0. This feature will be removed in v6.0.0. See https://github.com/optuna/optuna/releases/tag/v3.0.0. Use suggest_float instead.\n",
      "  min_weight_fraction_leaf = trial.suggest_uniform(\n",
      "[I 2023-06-04 23:00:59,329] Trial 19 finished with value: 0.6458333333333334 and parameters: {'n_estimators': 4997, 'max_depth': 232, 'min_weight_fraction_leaf': 0.005830998125718776}. Best is trial 15 with value: 0.6666666666666666.\n",
      "/var/folders/gy/5v8v142s4fz6nz5xwllrz4b40000gn/T/ipykernel_14900/1728467643.py:5: FutureWarning: suggest_uniform has been deprecated in v3.0.0. This feature will be removed in v6.0.0. See https://github.com/optuna/optuna/releases/tag/v3.0.0. Use suggest_float instead.\n",
      "  min_weight_fraction_leaf = trial.suggest_uniform(\n",
      "[I 2023-06-04 23:01:00,765] Trial 20 finished with value: 0.5 and parameters: {'n_estimators': 2155, 'max_depth': 61, 'min_weight_fraction_leaf': 0.10379162751122294}. Best is trial 15 with value: 0.6666666666666666.\n",
      "/var/folders/gy/5v8v142s4fz6nz5xwllrz4b40000gn/T/ipykernel_14900/1728467643.py:5: FutureWarning: suggest_uniform has been deprecated in v3.0.0. This feature will be removed in v6.0.0. See https://github.com/optuna/optuna/releases/tag/v3.0.0. Use suggest_float instead.\n",
      "  min_weight_fraction_leaf = trial.suggest_uniform(\n",
      "[I 2023-06-04 23:01:04,641] Trial 21 finished with value: 0.625 and parameters: {'n_estimators': 4587, 'max_depth': 163, 'min_weight_fraction_leaf': 0.009866035273384144}. Best is trial 15 with value: 0.6666666666666666.\n",
      "/var/folders/gy/5v8v142s4fz6nz5xwllrz4b40000gn/T/ipykernel_14900/1728467643.py:5: FutureWarning: suggest_uniform has been deprecated in v3.0.0. This feature will be removed in v6.0.0. See https://github.com/optuna/optuna/releases/tag/v3.0.0. Use suggest_float instead.\n",
      "  min_weight_fraction_leaf = trial.suggest_uniform(\n",
      "[I 2023-06-04 23:01:07,552] Trial 22 finished with value: 0.5625 and parameters: {'n_estimators': 3874, 'max_depth': 118, 'min_weight_fraction_leaf': 0.0409179633760744}. Best is trial 15 with value: 0.6666666666666666.\n",
      "/var/folders/gy/5v8v142s4fz6nz5xwllrz4b40000gn/T/ipykernel_14900/1728467643.py:5: FutureWarning: suggest_uniform has been deprecated in v3.0.0. This feature will be removed in v6.0.0. See https://github.com/optuna/optuna/releases/tag/v3.0.0. Use suggest_float instead.\n",
      "  min_weight_fraction_leaf = trial.suggest_uniform(\n",
      "[I 2023-06-04 23:01:11,697] Trial 23 finished with value: 0.6458333333333334 and parameters: {'n_estimators': 4928, 'max_depth': 213, 'min_weight_fraction_leaf': 0.005911693805836826}. Best is trial 15 with value: 0.6666666666666666.\n",
      "/var/folders/gy/5v8v142s4fz6nz5xwllrz4b40000gn/T/ipykernel_14900/1728467643.py:5: FutureWarning: suggest_uniform has been deprecated in v3.0.0. This feature will be removed in v6.0.0. See https://github.com/optuna/optuna/releases/tag/v3.0.0. Use suggest_float instead.\n",
      "  min_weight_fraction_leaf = trial.suggest_uniform(\n",
      "[I 2023-06-04 23:01:14,505] Trial 24 finished with value: 0.5 and parameters: {'n_estimators': 4240, 'max_depth': 41, 'min_weight_fraction_leaf': 0.09766217683295197}. Best is trial 15 with value: 0.6666666666666666.\n",
      "/var/folders/gy/5v8v142s4fz6nz5xwllrz4b40000gn/T/ipykernel_14900/1728467643.py:5: FutureWarning: suggest_uniform has been deprecated in v3.0.0. This feature will be removed in v6.0.0. See https://github.com/optuna/optuna/releases/tag/v3.0.0. Use suggest_float instead.\n",
      "  min_weight_fraction_leaf = trial.suggest_uniform(\n",
      "[I 2023-06-04 23:01:17,876] Trial 25 finished with value: 0.5625 and parameters: {'n_estimators': 4515, 'max_depth': 142, 'min_weight_fraction_leaf': 0.04634757884829387}. Best is trial 15 with value: 0.6666666666666666.\n",
      "/var/folders/gy/5v8v142s4fz6nz5xwllrz4b40000gn/T/ipykernel_14900/1728467643.py:5: FutureWarning: suggest_uniform has been deprecated in v3.0.0. This feature will be removed in v6.0.0. See https://github.com/optuna/optuna/releases/tag/v3.0.0. Use suggest_float instead.\n",
      "  min_weight_fraction_leaf = trial.suggest_uniform(\n",
      "[I 2023-06-04 23:01:20,603] Trial 26 finished with value: 0.6041666666666666 and parameters: {'n_estimators': 3615, 'max_depth': 276, 'min_weight_fraction_leaf': 0.045198844040317605}. Best is trial 15 with value: 0.6666666666666666.\n",
      "/var/folders/gy/5v8v142s4fz6nz5xwllrz4b40000gn/T/ipykernel_14900/1728467643.py:5: FutureWarning: suggest_uniform has been deprecated in v3.0.0. This feature will be removed in v6.0.0. See https://github.com/optuna/optuna/releases/tag/v3.0.0. Use suggest_float instead.\n",
      "  min_weight_fraction_leaf = trial.suggest_uniform(\n",
      "[I 2023-06-04 23:01:23,640] Trial 27 finished with value: 0.4375 and parameters: {'n_estimators': 4605, 'max_depth': 93, 'min_weight_fraction_leaf': 0.11082734194858587}. Best is trial 15 with value: 0.6666666666666666.\n",
      "/var/folders/gy/5v8v142s4fz6nz5xwllrz4b40000gn/T/ipykernel_14900/1728467643.py:5: FutureWarning: suggest_uniform has been deprecated in v3.0.0. This feature will be removed in v6.0.0. See https://github.com/optuna/optuna/releases/tag/v3.0.0. Use suggest_float instead.\n",
      "  min_weight_fraction_leaf = trial.suggest_uniform(\n",
      "[I 2023-06-04 23:01:23,800] Trial 28 finished with value: 0.6041666666666666 and parameters: {'n_estimators': 114, 'max_depth': 180, 'min_weight_fraction_leaf': 0.0021801484878165023}. Best is trial 15 with value: 0.6666666666666666.\n",
      "/var/folders/gy/5v8v142s4fz6nz5xwllrz4b40000gn/T/ipykernel_14900/1728467643.py:5: FutureWarning: suggest_uniform has been deprecated in v3.0.0. This feature will be removed in v6.0.0. See https://github.com/optuna/optuna/releases/tag/v3.0.0. Use suggest_float instead.\n",
      "  min_weight_fraction_leaf = trial.suggest_uniform(\n",
      "[I 2023-06-04 23:01:27,496] Trial 29 finished with value: 0.5833333333333334 and parameters: {'n_estimators': 3947, 'max_depth': 37, 'min_weight_fraction_leaf': 0.0460897060068155}. Best is trial 15 with value: 0.6666666666666666.\n"
     ]
    },
    {
     "name": "stderr",
     "output_type": "stream",
     "text": [
      "/var/folders/gy/5v8v142s4fz6nz5xwllrz4b40000gn/T/ipykernel_14900/1728467643.py:5: FutureWarning: suggest_uniform has been deprecated in v3.0.0. This feature will be removed in v6.0.0. See https://github.com/optuna/optuna/releases/tag/v3.0.0. Use suggest_float instead.\n",
      "  min_weight_fraction_leaf = trial.suggest_uniform(\n",
      "[I 2023-06-04 23:01:29,625] Trial 30 finished with value: 0.4791666666666667 and parameters: {'n_estimators': 2932, 'max_depth': 252, 'min_weight_fraction_leaf': 0.08674805571547699}. Best is trial 15 with value: 0.6666666666666666.\n",
      "/var/folders/gy/5v8v142s4fz6nz5xwllrz4b40000gn/T/ipykernel_14900/1728467643.py:5: FutureWarning: suggest_uniform has been deprecated in v3.0.0. This feature will be removed in v6.0.0. See https://github.com/optuna/optuna/releases/tag/v3.0.0. Use suggest_float instead.\n",
      "  min_weight_fraction_leaf = trial.suggest_uniform(\n",
      "[I 2023-06-04 23:01:33,774] Trial 31 finished with value: 0.625 and parameters: {'n_estimators': 4956, 'max_depth': 228, 'min_weight_fraction_leaf': 0.029493381691611968}. Best is trial 15 with value: 0.6666666666666666.\n",
      "/var/folders/gy/5v8v142s4fz6nz5xwllrz4b40000gn/T/ipykernel_14900/1728467643.py:5: FutureWarning: suggest_uniform has been deprecated in v3.0.0. This feature will be removed in v6.0.0. See https://github.com/optuna/optuna/releases/tag/v3.0.0. Use suggest_float instead.\n",
      "  min_weight_fraction_leaf = trial.suggest_uniform(\n",
      "[I 2023-06-04 23:01:38,994] Trial 32 finished with value: 0.6666666666666666 and parameters: {'n_estimators': 4954, 'max_depth': 202, 'min_weight_fraction_leaf': 0.0020240879379154393}. Best is trial 15 with value: 0.6666666666666666.\n",
      "/var/folders/gy/5v8v142s4fz6nz5xwllrz4b40000gn/T/ipykernel_14900/1728467643.py:5: FutureWarning: suggest_uniform has been deprecated in v3.0.0. This feature will be removed in v6.0.0. See https://github.com/optuna/optuna/releases/tag/v3.0.0. Use suggest_float instead.\n",
      "  min_weight_fraction_leaf = trial.suggest_uniform(\n",
      "[I 2023-06-04 23:01:42,694] Trial 33 finished with value: 0.6041666666666666 and parameters: {'n_estimators': 4659, 'max_depth': 106, 'min_weight_fraction_leaf': 0.03635603203072074}. Best is trial 15 with value: 0.6666666666666666.\n",
      "/var/folders/gy/5v8v142s4fz6nz5xwllrz4b40000gn/T/ipykernel_14900/1728467643.py:5: FutureWarning: suggest_uniform has been deprecated in v3.0.0. This feature will be removed in v6.0.0. See https://github.com/optuna/optuna/releases/tag/v3.0.0. Use suggest_float instead.\n",
      "  min_weight_fraction_leaf = trial.suggest_uniform(\n",
      "[I 2023-06-04 23:01:45,483] Trial 34 finished with value: 0.4375 and parameters: {'n_estimators': 4359, 'max_depth': 149, 'min_weight_fraction_leaf': 0.12688735281294317}. Best is trial 15 with value: 0.6666666666666666.\n",
      "/var/folders/gy/5v8v142s4fz6nz5xwllrz4b40000gn/T/ipykernel_14900/1728467643.py:5: FutureWarning: suggest_uniform has been deprecated in v3.0.0. This feature will be removed in v6.0.0. See https://github.com/optuna/optuna/releases/tag/v3.0.0. Use suggest_float instead.\n",
      "  min_weight_fraction_leaf = trial.suggest_uniform(\n",
      "[I 2023-06-04 23:01:48,071] Trial 35 finished with value: 0.5416666666666666 and parameters: {'n_estimators': 3602, 'max_depth': 202, 'min_weight_fraction_leaf': 0.06669151870157938}. Best is trial 15 with value: 0.6666666666666666.\n",
      "/var/folders/gy/5v8v142s4fz6nz5xwllrz4b40000gn/T/ipykernel_14900/1728467643.py:5: FutureWarning: suggest_uniform has been deprecated in v3.0.0. This feature will be removed in v6.0.0. See https://github.com/optuna/optuna/releases/tag/v3.0.0. Use suggest_float instead.\n",
      "  min_weight_fraction_leaf = trial.suggest_uniform(\n",
      "[I 2023-06-04 23:01:52,149] Trial 36 finished with value: 0.6458333333333334 and parameters: {'n_estimators': 4655, 'max_depth': 39, 'min_weight_fraction_leaf': 0.0006197827819184876}. Best is trial 15 with value: 0.6666666666666666.\n",
      "/var/folders/gy/5v8v142s4fz6nz5xwllrz4b40000gn/T/ipykernel_14900/1728467643.py:5: FutureWarning: suggest_uniform has been deprecated in v3.0.0. This feature will be removed in v6.0.0. See https://github.com/optuna/optuna/releases/tag/v3.0.0. Use suggest_float instead.\n",
      "  min_weight_fraction_leaf = trial.suggest_uniform(\n",
      "[I 2023-06-04 23:01:54,953] Trial 37 finished with value: 0.5 and parameters: {'n_estimators': 4128, 'max_depth': 287, 'min_weight_fraction_leaf': 0.09054749570283932}. Best is trial 15 with value: 0.6666666666666666.\n",
      "/var/folders/gy/5v8v142s4fz6nz5xwllrz4b40000gn/T/ipykernel_14900/1728467643.py:5: FutureWarning: suggest_uniform has been deprecated in v3.0.0. This feature will be removed in v6.0.0. See https://github.com/optuna/optuna/releases/tag/v3.0.0. Use suggest_float instead.\n",
      "  min_weight_fraction_leaf = trial.suggest_uniform(\n",
      "[I 2023-06-04 23:01:58,809] Trial 38 finished with value: 0.6041666666666666 and parameters: {'n_estimators': 4797, 'max_depth': 354, 'min_weight_fraction_leaf': 0.025720652798680597}. Best is trial 15 with value: 0.6666666666666666.\n",
      "/var/folders/gy/5v8v142s4fz6nz5xwllrz4b40000gn/T/ipykernel_14900/1728467643.py:5: FutureWarning: suggest_uniform has been deprecated in v3.0.0. This feature will be removed in v6.0.0. See https://github.com/optuna/optuna/releases/tag/v3.0.0. Use suggest_float instead.\n",
      "  min_weight_fraction_leaf = trial.suggest_uniform(\n",
      "[I 2023-06-04 23:02:02,091] Trial 39 finished with value: 0.5625 and parameters: {'n_estimators': 4412, 'max_depth': 125, 'min_weight_fraction_leaf': 0.052274287633942075}. Best is trial 15 with value: 0.6666666666666666.\n",
      "/var/folders/gy/5v8v142s4fz6nz5xwllrz4b40000gn/T/ipykernel_14900/1728467643.py:5: FutureWarning: suggest_uniform has been deprecated in v3.0.0. This feature will be removed in v6.0.0. See https://github.com/optuna/optuna/releases/tag/v3.0.0. Use suggest_float instead.\n",
      "  min_weight_fraction_leaf = trial.suggest_uniform(\n",
      "[I 2023-06-04 23:02:04,144] Trial 40 finished with value: 0.3958333333333333 and parameters: {'n_estimators': 3237, 'max_depth': 404, 'min_weight_fraction_leaf': 0.1415994833459811}. Best is trial 15 with value: 0.6666666666666666.\n",
      "/var/folders/gy/5v8v142s4fz6nz5xwllrz4b40000gn/T/ipykernel_14900/1728467643.py:5: FutureWarning: suggest_uniform has been deprecated in v3.0.0. This feature will be removed in v6.0.0. See https://github.com/optuna/optuna/releases/tag/v3.0.0. Use suggest_float instead.\n",
      "  min_weight_fraction_leaf = trial.suggest_uniform(\n",
      "[I 2023-06-04 23:02:08,095] Trial 41 finished with value: 0.6041666666666666 and parameters: {'n_estimators': 4901, 'max_depth': 258, 'min_weight_fraction_leaf': 0.025520703617392563}. Best is trial 15 with value: 0.6666666666666666.\n",
      "/var/folders/gy/5v8v142s4fz6nz5xwllrz4b40000gn/T/ipykernel_14900/1728467643.py:5: FutureWarning: suggest_uniform has been deprecated in v3.0.0. This feature will be removed in v6.0.0. See https://github.com/optuna/optuna/releases/tag/v3.0.0. Use suggest_float instead.\n",
      "  min_weight_fraction_leaf = trial.suggest_uniform(\n",
      "[I 2023-06-04 23:02:12,376] Trial 42 finished with value: 0.625 and parameters: {'n_estimators': 4990, 'max_depth': 320, 'min_weight_fraction_leaf': 0.0027526083668343703}. Best is trial 15 with value: 0.6666666666666666.\n",
      "/var/folders/gy/5v8v142s4fz6nz5xwllrz4b40000gn/T/ipykernel_14900/1728467643.py:5: FutureWarning: suggest_uniform has been deprecated in v3.0.0. This feature will be removed in v6.0.0. See https://github.com/optuna/optuna/releases/tag/v3.0.0. Use suggest_float instead.\n",
      "  min_weight_fraction_leaf = trial.suggest_uniform(\n",
      "[I 2023-06-04 23:02:13,419] Trial 43 finished with value: 0.625 and parameters: {'n_estimators': 1287, 'max_depth': 191, 'min_weight_fraction_leaf': 0.02758671801174075}. Best is trial 15 with value: 0.6666666666666666.\n",
      "/var/folders/gy/5v8v142s4fz6nz5xwllrz4b40000gn/T/ipykernel_14900/1728467643.py:5: FutureWarning: suggest_uniform has been deprecated in v3.0.0. This feature will be removed in v6.0.0. See https://github.com/optuna/optuna/releases/tag/v3.0.0. Use suggest_float instead.\n",
      "  min_weight_fraction_leaf = trial.suggest_uniform(\n",
      "[I 2023-06-04 23:02:16,834] Trial 44 finished with value: 0.5 and parameters: {'n_estimators': 4733, 'max_depth': 237, 'min_weight_fraction_leaf': 0.07377382438774288}. Best is trial 15 with value: 0.6666666666666666.\n"
     ]
    },
    {
     "name": "stderr",
     "output_type": "stream",
     "text": [
      "/var/folders/gy/5v8v142s4fz6nz5xwllrz4b40000gn/T/ipykernel_14900/1728467643.py:5: FutureWarning: suggest_uniform has been deprecated in v3.0.0. This feature will be removed in v6.0.0. See https://github.com/optuna/optuna/releases/tag/v3.0.0. Use suggest_float instead.\n",
      "  min_weight_fraction_leaf = trial.suggest_uniform(\n",
      "[I 2023-06-04 23:02:20,097] Trial 45 finished with value: 0.5208333333333334 and parameters: {'n_estimators': 4438, 'max_depth': 26, 'min_weight_fraction_leaf': 0.05900845885564565}. Best is trial 15 with value: 0.6666666666666666.\n",
      "/var/folders/gy/5v8v142s4fz6nz5xwllrz4b40000gn/T/ipykernel_14900/1728467643.py:5: FutureWarning: suggest_uniform has been deprecated in v3.0.0. This feature will be removed in v6.0.0. See https://github.com/optuna/optuna/releases/tag/v3.0.0. Use suggest_float instead.\n",
      "  min_weight_fraction_leaf = trial.suggest_uniform(\n",
      "[I 2023-06-04 23:02:23,106] Trial 46 finished with value: 0.6458333333333334 and parameters: {'n_estimators': 3765, 'max_depth': 68, 'min_weight_fraction_leaf': 0.02724258143665057}. Best is trial 15 with value: 0.6666666666666666.\n",
      "/var/folders/gy/5v8v142s4fz6nz5xwllrz4b40000gn/T/ipykernel_14900/1728467643.py:5: FutureWarning: suggest_uniform has been deprecated in v3.0.0. This feature will be removed in v6.0.0. See https://github.com/optuna/optuna/releases/tag/v3.0.0. Use suggest_float instead.\n",
      "  min_weight_fraction_leaf = trial.suggest_uniform(\n",
      "[I 2023-06-04 23:02:25,425] Trial 47 finished with value: 0.3958333333333333 and parameters: {'n_estimators': 4042, 'max_depth': 158, 'min_weight_fraction_leaf': 0.2004464303880236}. Best is trial 15 with value: 0.6666666666666666.\n",
      "/var/folders/gy/5v8v142s4fz6nz5xwllrz4b40000gn/T/ipykernel_14900/1728467643.py:5: FutureWarning: suggest_uniform has been deprecated in v3.0.0. This feature will be removed in v6.0.0. See https://github.com/optuna/optuna/releases/tag/v3.0.0. Use suggest_float instead.\n",
      "  min_weight_fraction_leaf = trial.suggest_uniform(\n",
      "[I 2023-06-04 23:02:29,572] Trial 48 finished with value: 0.6458333333333334 and parameters: {'n_estimators': 4753, 'max_depth': 133, 'min_weight_fraction_leaf': 0.0006088472353333379}. Best is trial 15 with value: 0.6666666666666666.\n",
      "/var/folders/gy/5v8v142s4fz6nz5xwllrz4b40000gn/T/ipykernel_14900/1728467643.py:5: FutureWarning: suggest_uniform has been deprecated in v3.0.0. This feature will be removed in v6.0.0. See https://github.com/optuna/optuna/releases/tag/v3.0.0. Use suggest_float instead.\n",
      "  min_weight_fraction_leaf = trial.suggest_uniform(\n",
      "[I 2023-06-04 23:02:32,495] Trial 49 finished with value: 0.5208333333333334 and parameters: {'n_estimators': 4248, 'max_depth': 99, 'min_weight_fraction_leaf': 0.08201721983020062}. Best is trial 15 with value: 0.6666666666666666.\n"
     ]
    },
    {
     "name": "stdout",
     "output_type": "stream",
     "text": [
      "Best params:  {'n_estimators': 4974, 'max_depth': 18, 'min_weight_fraction_leaf': 0.008440029412940517}\n"
     ]
    }
   ],
   "source": [
    "def objective(trial):\n",
    "    # define hyperparameter space\n",
    "    n_estimators = trial.suggest_int('n_estimators', 100, 5000)\n",
    "    max_depth = trial.suggest_int('max_depth', 1, 600)\n",
    "    min_weight_fraction_leaf = trial.suggest_uniform(\n",
    "        'min_weight_fraction_leaf', 0.0, 0.5)\n",
    "    \n",
    "    # get the score for the hyperparameters chosen\n",
    "    score = train_evaluate_hyperparameters(n_estimators, max_depth, min_weight_fraction_leaf)\n",
    "    return score\n",
    "\n",
    "study = optuna.create_study(sampler=optuna.samplers.TPESampler(), direction='maximize')\n",
    "study.optimize(objective, n_trials=50)\n",
    "print('Best params: ', study.best_params)"
   ]
  },
  {
   "cell_type": "code",
   "execution_count": 31,
   "id": "5bf3069e",
   "metadata": {},
   "outputs": [
    {
     "data": {
      "text/html": [
       "<style>#sk-container-id-2 {color: black;background-color: white;}#sk-container-id-2 pre{padding: 0;}#sk-container-id-2 div.sk-toggleable {background-color: white;}#sk-container-id-2 label.sk-toggleable__label {cursor: pointer;display: block;width: 100%;margin-bottom: 0;padding: 0.3em;box-sizing: border-box;text-align: center;}#sk-container-id-2 label.sk-toggleable__label-arrow:before {content: \"▸\";float: left;margin-right: 0.25em;color: #696969;}#sk-container-id-2 label.sk-toggleable__label-arrow:hover:before {color: black;}#sk-container-id-2 div.sk-estimator:hover label.sk-toggleable__label-arrow:before {color: black;}#sk-container-id-2 div.sk-toggleable__content {max-height: 0;max-width: 0;overflow: hidden;text-align: left;background-color: #f0f8ff;}#sk-container-id-2 div.sk-toggleable__content pre {margin: 0.2em;color: black;border-radius: 0.25em;background-color: #f0f8ff;}#sk-container-id-2 input.sk-toggleable__control:checked~div.sk-toggleable__content {max-height: 200px;max-width: 100%;overflow: auto;}#sk-container-id-2 input.sk-toggleable__control:checked~label.sk-toggleable__label-arrow:before {content: \"▾\";}#sk-container-id-2 div.sk-estimator input.sk-toggleable__control:checked~label.sk-toggleable__label {background-color: #d4ebff;}#sk-container-id-2 div.sk-label input.sk-toggleable__control:checked~label.sk-toggleable__label {background-color: #d4ebff;}#sk-container-id-2 input.sk-hidden--visually {border: 0;clip: rect(1px 1px 1px 1px);clip: rect(1px, 1px, 1px, 1px);height: 1px;margin: -1px;overflow: hidden;padding: 0;position: absolute;width: 1px;}#sk-container-id-2 div.sk-estimator {font-family: monospace;background-color: #f0f8ff;border: 1px dotted black;border-radius: 0.25em;box-sizing: border-box;margin-bottom: 0.5em;}#sk-container-id-2 div.sk-estimator:hover {background-color: #d4ebff;}#sk-container-id-2 div.sk-parallel-item::after {content: \"\";width: 100%;border-bottom: 1px solid gray;flex-grow: 1;}#sk-container-id-2 div.sk-label:hover label.sk-toggleable__label {background-color: #d4ebff;}#sk-container-id-2 div.sk-serial::before {content: \"\";position: absolute;border-left: 1px solid gray;box-sizing: border-box;top: 0;bottom: 0;left: 50%;z-index: 0;}#sk-container-id-2 div.sk-serial {display: flex;flex-direction: column;align-items: center;background-color: white;padding-right: 0.2em;padding-left: 0.2em;position: relative;}#sk-container-id-2 div.sk-item {position: relative;z-index: 1;}#sk-container-id-2 div.sk-parallel {display: flex;align-items: stretch;justify-content: center;background-color: white;position: relative;}#sk-container-id-2 div.sk-item::before, #sk-container-id-2 div.sk-parallel-item::before {content: \"\";position: absolute;border-left: 1px solid gray;box-sizing: border-box;top: 0;bottom: 0;left: 50%;z-index: -1;}#sk-container-id-2 div.sk-parallel-item {display: flex;flex-direction: column;z-index: 1;position: relative;background-color: white;}#sk-container-id-2 div.sk-parallel-item:first-child::after {align-self: flex-end;width: 50%;}#sk-container-id-2 div.sk-parallel-item:last-child::after {align-self: flex-start;width: 50%;}#sk-container-id-2 div.sk-parallel-item:only-child::after {width: 0;}#sk-container-id-2 div.sk-dashed-wrapped {border: 1px dashed gray;margin: 0 0.4em 0.5em 0.4em;box-sizing: border-box;padding-bottom: 0.4em;background-color: white;}#sk-container-id-2 div.sk-label label {font-family: monospace;font-weight: bold;display: inline-block;line-height: 1.2em;}#sk-container-id-2 div.sk-label-container {text-align: center;}#sk-container-id-2 div.sk-container {/* jupyter's `normalize.less` sets `[hidden] { display: none; }` but bootstrap.min.css set `[hidden] { display: none !important; }` so we also need the `!important` here to be able to override the default hidden behavior on the sphinx rendered scikit-learn.org. See: https://github.com/scikit-learn/scikit-learn/issues/21755 */display: inline-block !important;position: relative;}#sk-container-id-2 div.sk-text-repr-fallback {display: none;}</style><div id=\"sk-container-id-2\" class=\"sk-top-container\"><div class=\"sk-text-repr-fallback\"><pre>RandomForestClassifier(max_depth=18,\n",
       "                       min_weight_fraction_leaf=0.008440029412940517,\n",
       "                       n_estimators=4974)</pre><b>In a Jupyter environment, please rerun this cell to show the HTML representation or trust the notebook. <br />On GitHub, the HTML representation is unable to render, please try loading this page with nbviewer.org.</b></div><div class=\"sk-container\" hidden><div class=\"sk-item\"><div class=\"sk-estimator sk-toggleable\"><input class=\"sk-toggleable__control sk-hidden--visually\" id=\"sk-estimator-id-2\" type=\"checkbox\" checked><label for=\"sk-estimator-id-2\" class=\"sk-toggleable__label sk-toggleable__label-arrow\">RandomForestClassifier</label><div class=\"sk-toggleable__content\"><pre>RandomForestClassifier(max_depth=18,\n",
       "                       min_weight_fraction_leaf=0.008440029412940517,\n",
       "                       n_estimators=4974)</pre></div></div></div></div></div>"
      ],
      "text/plain": [
       "RandomForestClassifier(max_depth=18,\n",
       "                       min_weight_fraction_leaf=0.008440029412940517,\n",
       "                       n_estimators=4974)"
      ]
     },
     "execution_count": 31,
     "metadata": {},
     "output_type": "execute_result"
    }
   ],
   "source": [
    "# train a Random Forest model\n",
    "model = sklearn.ensemble.RandomForestClassifier(\n",
    "    n_estimators=4974, min_weight_fraction_leaf=0.008440029412940517, max_depth=18)\n",
    "\n",
    "model.fit(dev_x, dev_y)"
   ]
  },
  {
   "cell_type": "code",
   "execution_count": 32,
   "id": "108758c9",
   "metadata": {},
   "outputs": [
    {
     "name": "stdout",
     "output_type": "stream",
     "text": [
      "model accuracy: 0.6833333333333333\n",
      "              precision    recall  f1-score   support\n",
      "\n",
      "           1     0.9286    1.0000    0.9630        13\n",
      "           2     0.5625    0.8182    0.6667        11\n",
      "           3     0.6250    0.2778    0.3846        18\n",
      "           4     0.5000    0.5556    0.5263         9\n",
      "           5     0.7500    1.0000    0.8571         9\n",
      "\n",
      "    accuracy                         0.6833        60\n",
      "   macro avg     0.6732    0.7303    0.6795        60\n",
      "weighted avg     0.6793    0.6833    0.6538        60\n",
      "\n"
     ]
    }
   ],
   "source": [
    "# accuracy report\n",
    "print(\"model accuracy:\", model.score(test_x, test_y))\n",
    "\n",
    "predict_y = model.predict(test_x)\n",
    "\n",
    "print(sklearn.metrics.classification_report(test_y, predict_y, digits=4))"
   ]
  },
  {
   "cell_type": "code",
   "execution_count": 33,
   "id": "724d323e",
   "metadata": {},
   "outputs": [
    {
     "data": {
      "text/plain": [
       "<sklearn.metrics._plot.confusion_matrix.ConfusionMatrixDisplay at 0x167d89cc0>"
      ]
     },
     "execution_count": 33,
     "metadata": {},
     "output_type": "execute_result"
    },
    {
     "data": {
      "image/png": "[encoded data removed]",
      "text/plain": [
       "<Figure size 640x480 with 2 Axes>"
      ]
     },
     "metadata": {},
     "output_type": "display_data"
    }
   ],
   "source": [
    "# plot a confusion matrix\n",
    "sklearn.metrics.ConfusionMatrixDisplay.from_estimator(model, test_x, test_y)"
   ]
  },
  {
   "cell_type": "code",
   "execution_count": null,
   "id": "54ddff79",
   "metadata": {},
   "outputs": [],
   "source": []
  }
 ],
 "metadata": {
  "kernelspec": {
   "display_name": "Python 3 (ipykernel)",
   "language": "python",
   "name": "python3"
  },
  "language_info": {
   "codemirror_mode": {
    "name": "ipython",
    "version": 3
   },
   "file_extension": ".py",
   "mimetype": "text/x-python",
   "name": "python",
   "nbconvert_exporter": "python",
   "pygments_lexer": "ipython3",
   "version": "3.10.11"
  }
 },
 "nbformat": 4,
 "nbformat_minor": 5
}
