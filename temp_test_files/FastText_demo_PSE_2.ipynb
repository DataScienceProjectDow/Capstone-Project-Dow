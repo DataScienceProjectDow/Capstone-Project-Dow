{
 "cells": [
  {
   "cell_type": "code",
   "execution_count": 26,
   "id": "3a64d74a",
   "metadata": {},
   "outputs": [],
   "source": [
    "from gensim.models.fasttext import load_facebook_model\n",
    "from gensim.models.fasttext import load_facebook_vectors\n",
    "from sklearn.feature_extraction.text import TfidfVectorizer\n",
    "from sklearn.linear_model import LogisticRegression\n",
    "from sklearn.pipeline import make_pipeline\n",
    "from sklearn.model_selection import train_test_split\n",
    "from sklearn.metrics import classification_report\n",
    "import numpy as np\n",
    "import pandas as pd\n",
    "import sklearn.ensemble\n",
    "import sklearn"
   ]
  },
  {
   "cell_type": "code",
   "execution_count": 5,
   "id": "d7b6c551",
   "metadata": {},
   "outputs": [],
   "source": [
    "# load FastText model\n",
    "fasttext_model = load_facebook_vectors('../../Downloads/CHEME DIRECT/NLP Project/cc.en.300.bin')"
   ]
  },
  {
   "cell_type": "code",
   "execution_count": 37,
   "id": "95d81c75",
   "metadata": {},
   "outputs": [],
   "source": [
    "class FastTextVectorizer:\n",
    "    def __init__(self, fasttext_model):\n",
    "        self.fasttext_model = fasttext_model\n",
    "\n",
    "    def transform(self, X):\n",
    "        return np.array([\n",
    "            np.mean([self.fasttext_model[w] for w in words.split() if w in self.fasttext_model]\n",
    "                    or [np.zeros(self.fasttext_model.vector_size)], axis=0)\n",
    "            for words in X\n",
    "        ])"
   ]
  },
  {
   "cell_type": "code",
   "execution_count": 9,
   "id": "857ef2e1",
   "metadata": {},
   "outputs": [],
   "source": [
    "# load dataset\n",
    "df1 = pd.read_excel('../../Downloads/CHEME DIRECT/NLP Project/PSE Dataset.xlsx', sheet_name='SamePerson Report')\n",
    "df2 = pd.read_excel('../../Downloads/CHEME DIRECT/NLP Project/PSE Dataset.xlsx', sheet_name='Multiple People Report')\n",
    "df3 = pd.read_excel('../../Downloads/CHEME DIRECT/NLP Project/PSE Dataset.xlsx', sheet_name='Multiple People Less Details')"
   ]
  },
  {
   "cell_type": "code",
   "execution_count": 12,
   "id": "ffdc311b",
   "metadata": {},
   "outputs": [],
   "source": [
    "train_1, test_1 = sklearn.model_selection.train_test_split(df1, test_size=0.2, random_state=206)\n",
    "train_2, test_2 = sklearn.model_selection.train_test_split(df2, test_size=0.2, random_state=206)\n",
    "train_3, test_3 = sklearn.model_selection.train_test_split(df3, test_size=0.2, random_state=206)"
   ]
  },
  {
   "cell_type": "code",
   "execution_count": 13,
   "id": "3e1efdca",
   "metadata": {},
   "outputs": [],
   "source": [
    "train_1_text = train_1['Report'].values.reshape(-1,1)\n",
    "test_1_text = test_1['Report'].values.reshape(-1,1)\n",
    "\n",
    "train_1_label = train_1['Level'].values.reshape(-1,1)\n",
    "test_1_label = test_1['Level'].values.reshape(-1,1)\n",
    "\n",
    "train_2_text = train_2['Report'].values.reshape(-1,1)\n",
    "test_2_text = test_2['Report'].values.reshape(-1,1)\n",
    "\n",
    "train_2_label = train_2['Level'].values.reshape(-1,1)\n",
    "test_2_label = test_2['Level'].values.reshape(-1,1)\n",
    "\n",
    "train_3_text = train_3['Report'].values.reshape(-1,1)\n",
    "test_3_text = test_3['Report'].values.reshape(-1,1)\n",
    "\n",
    "train_3_label = train_3['Level'].values.reshape(-1,1)\n",
    "test_3_label = test_3['Level'].values.reshape(-1,1)"
   ]
  },
  {
   "cell_type": "code",
   "execution_count": 14,
   "id": "7bd516fb",
   "metadata": {},
   "outputs": [],
   "source": [
    "train_1_text_list = train_1_text.tolist()\n",
    "train_1_text_str = [item for sublist in train_1_text_list for item in sublist]\n",
    "\n",
    "test_1_text_list = test_1_text.tolist()\n",
    "test_1_text_str = [item for sublist in test_1_text_list for item in sublist]\n",
    "\n",
    "train_1_label_list = train_1_label.tolist()\n",
    "train_1_label_str = [item for sublist in train_1_label_list for item in sublist]\n",
    "\n",
    "test_1_label_list = test_1_label.tolist()\n",
    "test_1_label_str = [item for sublist in test_1_label_list for item in sublist]"
   ]
  },
  {
   "cell_type": "code",
   "execution_count": 15,
   "id": "e7fc28e7",
   "metadata": {},
   "outputs": [],
   "source": [
    "train_2_text_list = train_2_text.tolist()\n",
    "train_2_text_str = [item for sublist in train_2_text_list for item in sublist]\n",
    "\n",
    "test_2_text_list = test_2_text.tolist()\n",
    "test_2_text_str = [item for sublist in test_2_text_list for item in sublist]\n",
    "\n",
    "train_2_label_list = train_2_label.tolist()\n",
    "train_2_label_str = [item for sublist in train_2_label_list for item in sublist]\n",
    "\n",
    "test_2_label_list = test_2_label.tolist()\n",
    "test_2_label_str = [item for sublist in test_2_label_list for item in sublist]"
   ]
  },
  {
   "cell_type": "code",
   "execution_count": 16,
   "id": "30eada72",
   "metadata": {},
   "outputs": [],
   "source": [
    "train_3_text_list = train_3_text.tolist()\n",
    "train_3_text_str = [item for sublist in train_3_text_list for item in sublist]\n",
    "\n",
    "test_3_text_list = test_3_text.tolist()\n",
    "test_3_text_str = [item for sublist in test_3_text_list for item in sublist]\n",
    "\n",
    "train_3_label_list = train_3_label.tolist()\n",
    "train_3_label_str = [item for sublist in train_3_label_list for item in sublist]\n",
    "\n",
    "test_3_label_list = test_3_label.tolist()\n",
    "test_3_label_str = [item for sublist in test_3_label_list for item in sublist]"
   ]
  },
  {
   "cell_type": "code",
   "execution_count": 17,
   "id": "7608f8d3",
   "metadata": {},
   "outputs": [],
   "source": [
    "train_text = train_1_text_str + train_2_text_str + train_3_text_str\n",
    "test_text = test_1_text_str + test_2_text_str + test_3_text_str\n",
    "\n",
    "train_label = train_1_label_str + train_2_label_str + train_3_label_str\n",
    "test_label = test_1_label_str + test_2_label_str + test_3_label_str"
   ]
  },
  {
   "cell_type": "code",
   "execution_count": 38,
   "id": "8331298c",
   "metadata": {},
   "outputs": [],
   "source": [
    "# Transform raw text data to vectors\n",
    "vectorizer = FastTextVectorizer(fasttext_model)\n",
    "train_text_ft = vectorizer.transform(train_text)\n",
    "test_text_ft = vectorizer.transform(test_text)"
   ]
  },
  {
   "cell_type": "code",
   "execution_count": 40,
   "id": "fc281e4b",
   "metadata": {},
   "outputs": [
    {
     "data": {
      "text/html": [
       "<style>#sk-container-id-5 {color: black;background-color: white;}#sk-container-id-5 pre{padding: 0;}#sk-container-id-5 div.sk-toggleable {background-color: white;}#sk-container-id-5 label.sk-toggleable__label {cursor: pointer;display: block;width: 100%;margin-bottom: 0;padding: 0.3em;box-sizing: border-box;text-align: center;}#sk-container-id-5 label.sk-toggleable__label-arrow:before {content: \"▸\";float: left;margin-right: 0.25em;color: #696969;}#sk-container-id-5 label.sk-toggleable__label-arrow:hover:before {color: black;}#sk-container-id-5 div.sk-estimator:hover label.sk-toggleable__label-arrow:before {color: black;}#sk-container-id-5 div.sk-toggleable__content {max-height: 0;max-width: 0;overflow: hidden;text-align: left;background-color: #f0f8ff;}#sk-container-id-5 div.sk-toggleable__content pre {margin: 0.2em;color: black;border-radius: 0.25em;background-color: #f0f8ff;}#sk-container-id-5 input.sk-toggleable__control:checked~div.sk-toggleable__content {max-height: 200px;max-width: 100%;overflow: auto;}#sk-container-id-5 input.sk-toggleable__control:checked~label.sk-toggleable__label-arrow:before {content: \"▾\";}#sk-container-id-5 div.sk-estimator input.sk-toggleable__control:checked~label.sk-toggleable__label {background-color: #d4ebff;}#sk-container-id-5 div.sk-label input.sk-toggleable__control:checked~label.sk-toggleable__label {background-color: #d4ebff;}#sk-container-id-5 input.sk-hidden--visually {border: 0;clip: rect(1px 1px 1px 1px);clip: rect(1px, 1px, 1px, 1px);height: 1px;margin: -1px;overflow: hidden;padding: 0;position: absolute;width: 1px;}#sk-container-id-5 div.sk-estimator {font-family: monospace;background-color: #f0f8ff;border: 1px dotted black;border-radius: 0.25em;box-sizing: border-box;margin-bottom: 0.5em;}#sk-container-id-5 div.sk-estimator:hover {background-color: #d4ebff;}#sk-container-id-5 div.sk-parallel-item::after {content: \"\";width: 100%;border-bottom: 1px solid gray;flex-grow: 1;}#sk-container-id-5 div.sk-label:hover label.sk-toggleable__label {background-color: #d4ebff;}#sk-container-id-5 div.sk-serial::before {content: \"\";position: absolute;border-left: 1px solid gray;box-sizing: border-box;top: 0;bottom: 0;left: 50%;z-index: 0;}#sk-container-id-5 div.sk-serial {display: flex;flex-direction: column;align-items: center;background-color: white;padding-right: 0.2em;padding-left: 0.2em;position: relative;}#sk-container-id-5 div.sk-item {position: relative;z-index: 1;}#sk-container-id-5 div.sk-parallel {display: flex;align-items: stretch;justify-content: center;background-color: white;position: relative;}#sk-container-id-5 div.sk-item::before, #sk-container-id-5 div.sk-parallel-item::before {content: \"\";position: absolute;border-left: 1px solid gray;box-sizing: border-box;top: 0;bottom: 0;left: 50%;z-index: -1;}#sk-container-id-5 div.sk-parallel-item {display: flex;flex-direction: column;z-index: 1;position: relative;background-color: white;}#sk-container-id-5 div.sk-parallel-item:first-child::after {align-self: flex-end;width: 50%;}#sk-container-id-5 div.sk-parallel-item:last-child::after {align-self: flex-start;width: 50%;}#sk-container-id-5 div.sk-parallel-item:only-child::after {width: 0;}#sk-container-id-5 div.sk-dashed-wrapped {border: 1px dashed gray;margin: 0 0.4em 0.5em 0.4em;box-sizing: border-box;padding-bottom: 0.4em;background-color: white;}#sk-container-id-5 div.sk-label label {font-family: monospace;font-weight: bold;display: inline-block;line-height: 1.2em;}#sk-container-id-5 div.sk-label-container {text-align: center;}#sk-container-id-5 div.sk-container {/* jupyter's `normalize.less` sets `[hidden] { display: none; }` but bootstrap.min.css set `[hidden] { display: none !important; }` so we also need the `!important` here to be able to override the default hidden behavior on the sphinx rendered scikit-learn.org. See: https://github.com/scikit-learn/scikit-learn/issues/21755 */display: inline-block !important;position: relative;}#sk-container-id-5 div.sk-text-repr-fallback {display: none;}</style><div id=\"sk-container-id-5\" class=\"sk-top-container\"><div class=\"sk-text-repr-fallback\"><pre>RandomForestClassifier(random_state=42)</pre><b>In a Jupyter environment, please rerun this cell to show the HTML representation or trust the notebook. <br />On GitHub, the HTML representation is unable to render, please try loading this page with nbviewer.org.</b></div><div class=\"sk-container\" hidden><div class=\"sk-item\"><div class=\"sk-estimator sk-toggleable\"><input class=\"sk-toggleable__control sk-hidden--visually\" id=\"sk-estimator-id-13\" type=\"checkbox\" checked><label for=\"sk-estimator-id-13\" class=\"sk-toggleable__label sk-toggleable__label-arrow\">RandomForestClassifier</label><div class=\"sk-toggleable__content\"><pre>RandomForestClassifier(random_state=42)</pre></div></div></div></div></div>"
      ],
      "text/plain": [
       "RandomForestClassifier(random_state=42)"
      ]
     },
     "execution_count": 40,
     "metadata": {},
     "output_type": "execute_result"
    }
   ],
   "source": [
    "# Train the classifier\n",
    "clf = sklearn.ensemble.RandomForestClassifier(n_estimators=100, random_state=42)\n",
    "clf.fit(train_text_ft, train_label)"
   ]
  },
  {
   "cell_type": "code",
   "execution_count": 41,
   "id": "810c3877",
   "metadata": {},
   "outputs": [
    {
     "name": "stdout",
     "output_type": "stream",
     "text": [
      "model accuracy: 0.6\n",
      "              precision    recall  f1-score   support\n",
      "\n",
      "           1     0.8182    1.0000    0.9000         9\n",
      "           2     0.2727    0.5000    0.3529         6\n",
      "           3     0.4615    0.4286    0.4444        14\n",
      "           4     0.5714    0.5333    0.5517        15\n",
      "           5     0.9091    0.6250    0.7407        16\n",
      "\n",
      "    accuracy                         0.6000        60\n",
      "   macro avg     0.6066    0.6174    0.5980        60\n",
      "weighted avg     0.6430    0.6000    0.6095        60\n",
      "\n"
     ]
    }
   ],
   "source": [
    "# accuracy report\n",
    "print(\"model accuracy:\", clf.score(test_text_ft, test_label))\n",
    "\n",
    "predict_label = clf.predict(test_text_ft)\n",
    "\n",
    "print(sklearn.metrics.classification_report(test_label, predict_label, digits=4))"
   ]
  },
  {
   "cell_type": "code",
   "execution_count": 42,
   "id": "93cab270",
   "metadata": {},
   "outputs": [
    {
     "data": {
      "text/plain": [
       "<sklearn.metrics._plot.confusion_matrix.ConfusionMatrixDisplay at 0x16600b1f0>"
      ]
     },
     "execution_count": 42,
     "metadata": {},
     "output_type": "execute_result"
    },
    {
     "data": {
      "image/png": "[encoded data removed]",
      "text/plain": [
       "<Figure size 640x480 with 2 Axes>"
      ]
     },
     "metadata": {},
     "output_type": "display_data"
    }
   ],
   "source": [
    "# plot a confusion matrix\n",
    "sklearn.metrics.ConfusionMatrixDisplay.from_estimator(clf, test_text_ft, test_label)"
   ]
  },
  {
   "cell_type": "code",
   "execution_count": null,
   "id": "f017323f",
   "metadata": {},
   "outputs": [],
   "source": []
  }
 ],
 "metadata": {
  "kernelspec": {
   "display_name": "Python 3 (ipykernel)",
   "language": "python",
   "name": "python3"
  },
  "language_info": {
   "codemirror_mode": {
    "name": "ipython",
    "version": 3
   },
   "file_extension": ".py",
   "mimetype": "text/x-python",
   "name": "python",
   "nbconvert_exporter": "python",
   "pygments_lexer": "ipython3",
   "version": "3.10.9"
  }
 },
 "nbformat": 4,
 "nbformat_minor": 5
}
