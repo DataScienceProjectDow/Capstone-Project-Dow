{
 "cells": [
  {
   "attachments": {},
   "cell_type": "markdown",
   "metadata": {},
   "source": [
    "## This is a juptyer notebook detailing the various methods I used to train a W2v model on the Dow chemical dataset. Results summarized at the end"
   ]
  },
  {
   "cell_type": "code",
   "execution_count": 1518,
   "metadata": {},
   "outputs": [],
   "source": [
    "# Library Imports\n",
    "\n",
    "import pandas as pd # provide sql-like data manipulation tools. very handy.\n",
    "pd.options.mode.chained_assignment = None\n",
    "import numpy as np # high dimensional vector computing library.\n",
    "from copy import deepcopy\n",
    "from string import punctuation\n",
    "from random import shuffle\n",
    "\n",
    "import gensim\n",
    "from gensim.models.word2vec import Word2Vec # the word2vec model gensim class\n",
    "\n",
    "from tqdm import tqdm\n",
    "tqdm.pandas(desc=\"progress-bar\")\n",
    "\n",
    "from nltk.tokenize import TweetTokenizer # a tweet tokenizer from nltk.\n",
    "tokenizer = TweetTokenizer()\n",
    "from gensim.models.doc2vec import TaggedDocument\n",
    "\n",
    "\n",
    "\n",
    "from sklearn.model_selection import train_test_split\n",
    "from sklearn.feature_extraction.text import TfidfVectorizer\n",
    "\n",
    "import tensorflow as tf\n",
    "from tensorflow import keras\n",
    "from tensorflow.keras.preprocessing.sequence import pad_sequences\n",
    "import gensim.downloader\n",
    "\n",
    "from sklearn.model_selection import train_test_split\n",
    "from sklearn.tree import DecisionTreeClassifier\n",
    "from sklearn.metrics import accuracy_score\n",
    "from sklearn.linear_model import LogisticRegression"
   ]
  },
  {
   "cell_type": "code",
   "execution_count": 1519,
   "metadata": {},
   "outputs": [
    {
     "data": {
      "text/html": [
       "<div>\n",
       "<style scoped>\n",
       "    .dataframe tbody tr th:only-of-type {\n",
       "        vertical-align: middle;\n",
       "    }\n",
       "\n",
       "    .dataframe tbody tr th {\n",
       "        vertical-align: top;\n",
       "    }\n",
       "\n",
       "    .dataframe thead th {\n",
       "        text-align: right;\n",
       "    }\n",
       "</style>\n",
       "<table border=\"1\" class=\"dataframe\">\n",
       "  <thead>\n",
       "    <tr style=\"text-align: right;\">\n",
       "      <th></th>\n",
       "      <th>Level</th>\n",
       "      <th>Report</th>\n",
       "    </tr>\n",
       "  </thead>\n",
       "  <tbody>\n",
       "    <tr>\n",
       "      <th>0</th>\n",
       "      <td>2</td>\n",
       "      <td>On April 10th at 12:30 PM, there was an incide...</td>\n",
       "    </tr>\n",
       "    <tr>\n",
       "      <th>1</th>\n",
       "      <td>3</td>\n",
       "      <td>On April 8th at 9:00 PM, a fire broke out in t...</td>\n",
       "    </tr>\n",
       "    <tr>\n",
       "      <th>2</th>\n",
       "      <td>4</td>\n",
       "      <td>On April 6th at 2:45 AM, there was an incident...</td>\n",
       "    </tr>\n",
       "    <tr>\n",
       "      <th>3</th>\n",
       "      <td>1</td>\n",
       "      <td>On April 5th at 7:15 PM, there was an unplanne...</td>\n",
       "    </tr>\n",
       "    <tr>\n",
       "      <th>4</th>\n",
       "      <td>5</td>\n",
       "      <td>On April 2nd at 11:30 AM, there was a minor in...</td>\n",
       "    </tr>\n",
       "    <tr>\n",
       "      <th>...</th>\n",
       "      <td>...</td>\n",
       "      <td>...</td>\n",
       "    </tr>\n",
       "    <tr>\n",
       "      <th>295</th>\n",
       "      <td>3</td>\n",
       "      <td>At 9:45 AM, a worker reported a small leak of ...</td>\n",
       "    </tr>\n",
       "    <tr>\n",
       "      <th>296</th>\n",
       "      <td>5</td>\n",
       "      <td>At 2:30 PM, a worker reported a small spill of...</td>\n",
       "    </tr>\n",
       "    <tr>\n",
       "      <th>297</th>\n",
       "      <td>4</td>\n",
       "      <td>At 6:15 AM, a worker reported an unusual odor ...</td>\n",
       "    </tr>\n",
       "    <tr>\n",
       "      <th>298</th>\n",
       "      <td>2</td>\n",
       "      <td>At 11:00 AM, a worker reported a small fire in...</td>\n",
       "    </tr>\n",
       "    <tr>\n",
       "      <th>299</th>\n",
       "      <td>1</td>\n",
       "      <td>At 4:00 PM, an unplanned event occurred in the...</td>\n",
       "    </tr>\n",
       "  </tbody>\n",
       "</table>\n",
       "<p>300 rows × 2 columns</p>\n",
       "</div>"
      ],
      "text/plain": [
       "     Level                                             Report\n",
       "0        2  On April 10th at 12:30 PM, there was an incide...\n",
       "1        3  On April 8th at 9:00 PM, a fire broke out in t...\n",
       "2        4  On April 6th at 2:45 AM, there was an incident...\n",
       "3        1  On April 5th at 7:15 PM, there was an unplanne...\n",
       "4        5  On April 2nd at 11:30 AM, there was a minor in...\n",
       "..     ...                                                ...\n",
       "295      3  At 9:45 AM, a worker reported a small leak of ...\n",
       "296      5  At 2:30 PM, a worker reported a small spill of...\n",
       "297      4  At 6:15 AM, a worker reported an unusual odor ...\n",
       "298      2  At 11:00 AM, a worker reported a small fire in...\n",
       "299      1  At 4:00 PM, an unplanned event occurred in the...\n",
       "\n",
       "[300 rows x 2 columns]"
      ]
     },
     "execution_count": 1519,
     "metadata": {},
     "output_type": "execute_result"
    }
   ],
   "source": [
    "# Loading the data into a pandas dataframe\n",
    "\n",
    "main_data = pd.read_csv('/Users/andrewsimon/Desktop/Dow_dat.csv')\n",
    "main_data"
   ]
  },
  {
   "cell_type": "code",
   "execution_count": 1520,
   "metadata": {},
   "outputs": [
    {
     "name": "stdout",
     "output_type": "stream",
     "text": [
      "Number of rows per safety level rating:\n",
      "3    66\n",
      "2    62\n",
      "4    62\n",
      "5    62\n",
      "1    48\n",
      "Name: Level, dtype: int64\n"
     ]
    }
   ],
   "source": [
    "# Exploring the distribution of values in safety levels:\n",
    "print(\"Number of rows per safety level rating:\")\n",
    "print(main_data['Level'].value_counts())"
   ]
  },
  {
   "attachments": {},
   "cell_type": "markdown",
   "metadata": {},
   "source": [
    "### Tokenizing the data with the NTLK tokenizer and fitting the data to a Keras Sequential model. "
   ]
  },
  {
   "cell_type": "code",
   "execution_count": 1521,
   "metadata": {},
   "outputs": [],
   "source": [
    "# Tokenizer helper function\n",
    "def tokenize(report):\n",
    "    try:\n",
    "        tokens = tokenizer.tokenize(report)\n",
    "        return tokens\n",
    "    except:\n",
    "        return \"NC\""
   ]
  },
  {
   "cell_type": "code",
   "execution_count": 1522,
   "metadata": {},
   "outputs": [],
   "source": [
    "# Tokenizer wrapping function\n",
    "def postprocess(data):\n",
    "    data['tokens'] = data['Report'].progress_map(tokenize)\n",
    "    data = data[data.tokens != 'NC']\n",
    "    data.reset_index(inplace=True)\n",
    "    data.drop('index', inplace=True, axis=1)\n",
    "    return data"
   ]
  },
  {
   "cell_type": "code",
   "execution_count": 1523,
   "metadata": {},
   "outputs": [
    {
     "name": "stderr",
     "output_type": "stream",
     "text": [
      "progress-bar: 100%|██████████| 300/300 [00:00<00:00, 6221.99it/s]\n"
     ]
    }
   ],
   "source": [
    "# Tokenize the data with wrapping functions\n",
    "data = main_data.copy()\n",
    "data = postprocess(data)"
   ]
  },
  {
   "cell_type": "code",
   "execution_count": 1524,
   "metadata": {},
   "outputs": [],
   "source": [
    "# Train test split \n",
    "X_train, X_test, y_train, y_test = train_test_split(np.array(data.tokens),\n",
    "                                                    np.array(data.Level), test_size=0.2, random_state=42)"
   ]
  },
  {
   "cell_type": "code",
   "execution_count": 1525,
   "metadata": {},
   "outputs": [
    {
     "name": "stderr",
     "output_type": "stream",
     "text": [
      "240it [00:00, 1371434.55it/s]\n",
      "60it [00:00, 121927.44it/s]\n"
     ]
    }
   ],
   "source": [
    "# Attach Doc2vec labels to each of our tokens\n",
    "def labelizeReports(reports, label_type):\n",
    "    labelized = []\n",
    "    for i,v in tqdm(enumerate(reports)):\n",
    "        label = '%s_%s'%(label_type,i)\n",
    "        labelized.append(TaggedDocument(v, [label]))\n",
    "    return labelized\n",
    "\n",
    "X_train = labelizeReports(X_train, 'TRAIN')\n",
    "X_test = labelizeReports(X_test, 'TEST')\n"
   ]
  },
  {
   "cell_type": "code",
   "execution_count": 1526,
   "metadata": {},
   "outputs": [
    {
     "name": "stderr",
     "output_type": "stream",
     "text": [
      "100%|██████████| 240/240 [00:00<00:00, 2884335.13it/s]\n",
      "100%|██████████| 240/240 [00:00<00:00, 3471148.14it/s]\n"
     ]
    },
    {
     "data": {
      "text/plain": [
       "(39106, 90025)"
      ]
     },
     "execution_count": 1526,
     "metadata": {},
     "output_type": "execute_result"
    }
   ],
   "source": [
    "# Fit train model\n",
    "tweet_w2v = Word2Vec(vector_size=300, min_count=10)\n",
    "tweet_w2v.build_vocab([x.words for x in tqdm(X_train)])\n",
    "tweet_w2v.train([x.words for x in tqdm(X_train)], total_examples=tweet_w2v.corpus_count, epochs=tweet_w2v.epochs)"
   ]
  },
  {
   "cell_type": "code",
   "execution_count": 1527,
   "metadata": {},
   "outputs": [
    {
     "name": "stderr",
     "output_type": "stream",
     "text": [
      "/Users/andrewsimon/Library/Python/3.8/lib/python/site-packages/sklearn/utils/deprecation.py:87: FutureWarning: Function get_feature_names is deprecated; get_feature_names is deprecated in 1.0 and will be removed in 1.2. Please use get_feature_names_out instead.\n",
      "  warnings.warn(msg, category=FutureWarning)\n"
     ]
    }
   ],
   "source": [
    "# Extract word embeddings\n",
    "vectorizer = TfidfVectorizer(analyzer=lambda x: x, min_df=10)\n",
    "matrix = vectorizer.fit_transform([x.words for x in X_train])\n",
    "tfidf = dict(zip(vectorizer.get_feature_names(), vectorizer.idf_))\n"
   ]
  },
  {
   "cell_type": "code",
   "execution_count": 1528,
   "metadata": {},
   "outputs": [],
   "source": [
    "# Build word vectors from embeddings\n",
    "def buildWordVector(tokens, size):\n",
    "    vec = np.zeros(size).reshape((1, size))\n",
    "    count = 0.\n",
    "    for word in tokens:\n",
    "        try:\n",
    "            vec += google_vectors[word].reshape((1, size)) * tfidf[word]\n",
    "            count += 1.\n",
    "        except KeyError: # handling the case where the token is not\n",
    "                         # in the corpus. useful for testing.\n",
    "            continue\n",
    "    if count != 0:\n",
    "        vec /= count\n",
    "    return vec"
   ]
  },
  {
   "cell_type": "code",
   "execution_count": 1529,
   "metadata": {},
   "outputs": [
    {
     "name": "stderr",
     "output_type": "stream",
     "text": [
      "240it [00:00, 5753.63it/s]\n",
      "60it [00:00, 5597.51it/s]\n"
     ]
    }
   ],
   "source": [
    "# Data postprocessing with sklearn, creating unit standard deviation\n",
    "from sklearn.preprocessing import scale\n",
    "train_vecs_w2v = np.concatenate([buildWordVector(z, 300) for z in tqdm(map(lambda x: x.words, X_train))])\n",
    "train_vecs_w2v = scale(train_vecs_w2v)\n",
    "\n",
    "test_vecs_w2v = np.concatenate([buildWordVector(z, 300) for z in tqdm(map(lambda x: x.words, X_test))])\n",
    "test_vecs_w2v = scale(test_vecs_w2v)"
   ]
  },
  {
   "cell_type": "code",
   "execution_count": 1530,
   "metadata": {},
   "outputs": [
    {
     "name": "stdout",
     "output_type": "stream",
     "text": [
      "Epoch 1/9\n",
      "8/8 - 0s - loss: 0.8034 - accuracy: 0.0042 - val_loss: -2.5347e+00 - val_accuracy: 0.0000e+00 - 315ms/epoch - 39ms/step\n",
      "Epoch 2/9\n",
      "8/8 - 0s - loss: -2.9687e+00 - accuracy: 0.0083 - val_loss: -5.3913e+00 - val_accuracy: 0.0000e+00 - 26ms/epoch - 3ms/step\n",
      "Epoch 3/9\n",
      "8/8 - 0s - loss: -5.5191e+00 - accuracy: 0.0125 - val_loss: -8.0628e+00 - val_accuracy: 0.0167 - 39ms/epoch - 5ms/step\n",
      "Epoch 4/9\n",
      "8/8 - 0s - loss: -7.9084e+00 - accuracy: 0.0125 - val_loss: -1.0688e+01 - val_accuracy: 0.0333 - 45ms/epoch - 6ms/step\n",
      "Epoch 5/9\n",
      "8/8 - 0s - loss: -1.0437e+01 - accuracy: 0.0208 - val_loss: -1.3523e+01 - val_accuracy: 0.0333 - 24ms/epoch - 3ms/step\n",
      "Epoch 6/9\n",
      "8/8 - 0s - loss: -1.3086e+01 - accuracy: 0.0250 - val_loss: -1.6275e+01 - val_accuracy: 0.0333 - 19ms/epoch - 2ms/step\n",
      "Epoch 7/9\n",
      "8/8 - 0s - loss: -1.5735e+01 - accuracy: 0.0333 - val_loss: -1.9181e+01 - val_accuracy: 0.0333 - 19ms/epoch - 2ms/step\n",
      "Epoch 8/9\n",
      "8/8 - 0s - loss: -1.8526e+01 - accuracy: 0.0458 - val_loss: -2.2269e+01 - val_accuracy: 0.0500 - 19ms/epoch - 2ms/step\n",
      "Epoch 9/9\n",
      "8/8 - 0s - loss: -2.1507e+01 - accuracy: 0.0458 - val_loss: -2.5465e+01 - val_accuracy: 0.0500 - 19ms/epoch - 2ms/step\n"
     ]
    },
    {
     "data": {
      "text/plain": [
       "<keras.src.callbacks.History at 0x49935f910>"
      ]
     },
     "execution_count": 1530,
     "metadata": {},
     "output_type": "execute_result"
    }
   ],
   "source": [
    "# Training model\n",
    "model = keras.Sequential()\n",
    "model.add(keras.layers.Dense(32, activation='relu', input_dim=300))\n",
    "model.add(keras.layers.Dense(1, activation='sigmoid'))\n",
    "\n",
    "\n",
    "model.compile(optimizer='rmsprop',\n",
    "              loss='binary_crossentropy',\n",
    "              metrics=['accuracy'])\n",
    "\n",
    "\n",
    "model.fit(train_vecs_w2v, y_train, epochs=9, batch_size=32, verbose=2, validation_data = (test_vecs_w2v, y_test))"
   ]
  },
  {
   "attachments": {},
   "cell_type": "markdown",
   "metadata": {},
   "source": [
    "The model is performing worse than a random guess at this point. The tokenization leaves a large amount of stop words in the corpus, which can be solved using Gensim.preprocess."
   ]
  },
  {
   "attachments": {},
   "cell_type": "markdown",
   "metadata": {},
   "source": [
    "### Using Gensim tokenization and preprocessing"
   ]
  },
  {
   "cell_type": "code",
   "execution_count": 1531,
   "metadata": {},
   "outputs": [
    {
     "data": {
      "text/html": [
       "<div>\n",
       "<style scoped>\n",
       "    .dataframe tbody tr th:only-of-type {\n",
       "        vertical-align: middle;\n",
       "    }\n",
       "\n",
       "    .dataframe tbody tr th {\n",
       "        vertical-align: top;\n",
       "    }\n",
       "\n",
       "    .dataframe thead th {\n",
       "        text-align: right;\n",
       "    }\n",
       "</style>\n",
       "<table border=\"1\" class=\"dataframe\">\n",
       "  <thead>\n",
       "    <tr style=\"text-align: right;\">\n",
       "      <th></th>\n",
       "      <th>Level</th>\n",
       "      <th>Report</th>\n",
       "      <th>tokens</th>\n",
       "    </tr>\n",
       "  </thead>\n",
       "  <tbody>\n",
       "    <tr>\n",
       "      <th>0</th>\n",
       "      <td>2</td>\n",
       "      <td>On April 10th at 12:30 PM, there was an incide...</td>\n",
       "      <td>[on, april, th, at, pm, there, was, an, incide...</td>\n",
       "    </tr>\n",
       "    <tr>\n",
       "      <th>1</th>\n",
       "      <td>3</td>\n",
       "      <td>On April 8th at 9:00 PM, a fire broke out in t...</td>\n",
       "      <td>[on, april, th, at, pm, fire, broke, out, in, ...</td>\n",
       "    </tr>\n",
       "    <tr>\n",
       "      <th>2</th>\n",
       "      <td>4</td>\n",
       "      <td>On April 6th at 2:45 AM, there was an incident...</td>\n",
       "      <td>[on, april, th, at, am, there, was, an, incide...</td>\n",
       "    </tr>\n",
       "    <tr>\n",
       "      <th>3</th>\n",
       "      <td>1</td>\n",
       "      <td>On April 5th at 7:15 PM, there was an unplanne...</td>\n",
       "      <td>[on, april, th, at, pm, there, was, an, unplan...</td>\n",
       "    </tr>\n",
       "    <tr>\n",
       "      <th>4</th>\n",
       "      <td>5</td>\n",
       "      <td>On April 2nd at 11:30 AM, there was a minor in...</td>\n",
       "      <td>[on, april, nd, at, am, there, was, minor, inc...</td>\n",
       "    </tr>\n",
       "  </tbody>\n",
       "</table>\n",
       "</div>"
      ],
      "text/plain": [
       "   Level                                             Report  \\\n",
       "0      2  On April 10th at 12:30 PM, there was an incide...   \n",
       "1      3  On April 8th at 9:00 PM, a fire broke out in t...   \n",
       "2      4  On April 6th at 2:45 AM, there was an incident...   \n",
       "3      1  On April 5th at 7:15 PM, there was an unplanne...   \n",
       "4      5  On April 2nd at 11:30 AM, there was a minor in...   \n",
       "\n",
       "                                              tokens  \n",
       "0  [on, april, th, at, pm, there, was, an, incide...  \n",
       "1  [on, april, th, at, pm, fire, broke, out, in, ...  \n",
       "2  [on, april, th, at, am, there, was, an, incide...  \n",
       "3  [on, april, th, at, pm, there, was, an, unplan...  \n",
       "4  [on, april, nd, at, am, there, was, minor, inc...  "
      ]
     },
     "execution_count": 1531,
     "metadata": {},
     "output_type": "execute_result"
    }
   ],
   "source": [
    "data_gensim = main_data.copy()\n",
    "\n",
    "data_gensim['tokens'] = data_gensim['Report'].apply(lambda x: gensim.utils.simple_preprocess(x))\n",
    "data_gensim.head()"
   ]
  },
  {
   "cell_type": "code",
   "execution_count": 1532,
   "metadata": {},
   "outputs": [],
   "source": [
    "# Train test split \n",
    "X_train, X_test, y_train, y_test = train_test_split(np.array(data_gensim.tokens),\n",
    "                                                    np.array(data_gensim.Level), test_size=0.2, random_state=42)"
   ]
  },
  {
   "cell_type": "code",
   "execution_count": 1533,
   "metadata": {},
   "outputs": [
    {
     "name": "stderr",
     "output_type": "stream",
     "text": [
      "240it [00:00, 354573.08it/s]\n",
      "60it [00:00, 1052963.35it/s]\n",
      "100%|██████████| 240/240 [00:00<00:00, 2728002.60it/s]\n",
      "100%|██████████| 240/240 [00:00<00:00, 3756093.13it/s]\n",
      "/Users/andrewsimon/Library/Python/3.8/lib/python/site-packages/sklearn/utils/deprecation.py:87: FutureWarning: Function get_feature_names is deprecated; get_feature_names is deprecated in 1.0 and will be removed in 1.2. Please use get_feature_names_out instead.\n",
      "  warnings.warn(msg, category=FutureWarning)\n",
      "0it [00:00, ?it/s]"
     ]
    },
    {
     "ename": "ValueError",
     "evalue": "cannot reshape array of size 300 into shape (1,200)",
     "output_type": "error",
     "traceback": [
      "\u001b[0;31m---------------------------------------------------------------------------\u001b[0m",
      "\u001b[0;31mValueError\u001b[0m                                Traceback (most recent call last)",
      "\u001b[1;32m/Users/andrewsimon/nlpmaps/temp_test_files/Word2Vec_test.ipynb Cell 20\u001b[0m in \u001b[0;36m1\n\u001b[1;32m     <a href='vscode-notebook-cell:/Users/andrewsimon/nlpmaps/temp_test_files/Word2Vec_test.ipynb#X36sZmlsZQ%3D%3D?line=14'>15</a>\u001b[0m \u001b[39m# Data postprocessing with sklearn, creating unit standard deviation\u001b[39;00m\n\u001b[1;32m     <a href='vscode-notebook-cell:/Users/andrewsimon/nlpmaps/temp_test_files/Word2Vec_test.ipynb#X36sZmlsZQ%3D%3D?line=15'>16</a>\u001b[0m \u001b[39mfrom\u001b[39;00m \u001b[39msklearn\u001b[39;00m\u001b[39m.\u001b[39;00m\u001b[39mpreprocessing\u001b[39;00m \u001b[39mimport\u001b[39;00m scale\n\u001b[0;32m---> <a href='vscode-notebook-cell:/Users/andrewsimon/nlpmaps/temp_test_files/Word2Vec_test.ipynb#X36sZmlsZQ%3D%3D?line=16'>17</a>\u001b[0m train_vecs_w2v \u001b[39m=\u001b[39m np\u001b[39m.\u001b[39mconcatenate([buildWordVector(z, \u001b[39m200\u001b[39m) \u001b[39mfor\u001b[39;00m z \u001b[39min\u001b[39;00m tqdm(\u001b[39mmap\u001b[39m(\u001b[39mlambda\u001b[39;00m x: x\u001b[39m.\u001b[39mwords, X_train))])\n\u001b[1;32m     <a href='vscode-notebook-cell:/Users/andrewsimon/nlpmaps/temp_test_files/Word2Vec_test.ipynb#X36sZmlsZQ%3D%3D?line=17'>18</a>\u001b[0m train_vecs_w2v \u001b[39m=\u001b[39m scale(train_vecs_w2v)\n\u001b[1;32m     <a href='vscode-notebook-cell:/Users/andrewsimon/nlpmaps/temp_test_files/Word2Vec_test.ipynb#X36sZmlsZQ%3D%3D?line=19'>20</a>\u001b[0m test_vecs_w2v \u001b[39m=\u001b[39m np\u001b[39m.\u001b[39mconcatenate([buildWordVector(z, \u001b[39m200\u001b[39m) \u001b[39mfor\u001b[39;00m z \u001b[39min\u001b[39;00m tqdm(\u001b[39mmap\u001b[39m(\u001b[39mlambda\u001b[39;00m x: x\u001b[39m.\u001b[39mwords, X_test))])\n",
      "\u001b[1;32m/Users/andrewsimon/nlpmaps/temp_test_files/Word2Vec_test.ipynb Cell 20\u001b[0m in \u001b[0;36m1\n\u001b[1;32m     <a href='vscode-notebook-cell:/Users/andrewsimon/nlpmaps/temp_test_files/Word2Vec_test.ipynb#X36sZmlsZQ%3D%3D?line=14'>15</a>\u001b[0m \u001b[39m# Data postprocessing with sklearn, creating unit standard deviation\u001b[39;00m\n\u001b[1;32m     <a href='vscode-notebook-cell:/Users/andrewsimon/nlpmaps/temp_test_files/Word2Vec_test.ipynb#X36sZmlsZQ%3D%3D?line=15'>16</a>\u001b[0m \u001b[39mfrom\u001b[39;00m \u001b[39msklearn\u001b[39;00m\u001b[39m.\u001b[39;00m\u001b[39mpreprocessing\u001b[39;00m \u001b[39mimport\u001b[39;00m scale\n\u001b[0;32m---> <a href='vscode-notebook-cell:/Users/andrewsimon/nlpmaps/temp_test_files/Word2Vec_test.ipynb#X36sZmlsZQ%3D%3D?line=16'>17</a>\u001b[0m train_vecs_w2v \u001b[39m=\u001b[39m np\u001b[39m.\u001b[39mconcatenate([buildWordVector(z, \u001b[39m200\u001b[39;49m) \u001b[39mfor\u001b[39;00m z \u001b[39min\u001b[39;00m tqdm(\u001b[39mmap\u001b[39m(\u001b[39mlambda\u001b[39;00m x: x\u001b[39m.\u001b[39mwords, X_train))])\n\u001b[1;32m     <a href='vscode-notebook-cell:/Users/andrewsimon/nlpmaps/temp_test_files/Word2Vec_test.ipynb#X36sZmlsZQ%3D%3D?line=17'>18</a>\u001b[0m train_vecs_w2v \u001b[39m=\u001b[39m scale(train_vecs_w2v)\n\u001b[1;32m     <a href='vscode-notebook-cell:/Users/andrewsimon/nlpmaps/temp_test_files/Word2Vec_test.ipynb#X36sZmlsZQ%3D%3D?line=19'>20</a>\u001b[0m test_vecs_w2v \u001b[39m=\u001b[39m np\u001b[39m.\u001b[39mconcatenate([buildWordVector(z, \u001b[39m200\u001b[39m) \u001b[39mfor\u001b[39;00m z \u001b[39min\u001b[39;00m tqdm(\u001b[39mmap\u001b[39m(\u001b[39mlambda\u001b[39;00m x: x\u001b[39m.\u001b[39mwords, X_test))])\n",
      "\u001b[1;32m/Users/andrewsimon/nlpmaps/temp_test_files/Word2Vec_test.ipynb Cell 20\u001b[0m in \u001b[0;36m7\n\u001b[1;32m      <a href='vscode-notebook-cell:/Users/andrewsimon/nlpmaps/temp_test_files/Word2Vec_test.ipynb#X36sZmlsZQ%3D%3D?line=4'>5</a>\u001b[0m \u001b[39mfor\u001b[39;00m word \u001b[39min\u001b[39;00m tokens:\n\u001b[1;32m      <a href='vscode-notebook-cell:/Users/andrewsimon/nlpmaps/temp_test_files/Word2Vec_test.ipynb#X36sZmlsZQ%3D%3D?line=5'>6</a>\u001b[0m     \u001b[39mtry\u001b[39;00m:\n\u001b[0;32m----> <a href='vscode-notebook-cell:/Users/andrewsimon/nlpmaps/temp_test_files/Word2Vec_test.ipynb#X36sZmlsZQ%3D%3D?line=6'>7</a>\u001b[0m         vec \u001b[39m+\u001b[39m\u001b[39m=\u001b[39m google_vectors[word]\u001b[39m.\u001b[39;49mreshape((\u001b[39m1\u001b[39;49m, size)) \u001b[39m*\u001b[39m tfidf[word]\n\u001b[1;32m      <a href='vscode-notebook-cell:/Users/andrewsimon/nlpmaps/temp_test_files/Word2Vec_test.ipynb#X36sZmlsZQ%3D%3D?line=7'>8</a>\u001b[0m         count \u001b[39m+\u001b[39m\u001b[39m=\u001b[39m \u001b[39m1.\u001b[39m\n\u001b[1;32m      <a href='vscode-notebook-cell:/Users/andrewsimon/nlpmaps/temp_test_files/Word2Vec_test.ipynb#X36sZmlsZQ%3D%3D?line=8'>9</a>\u001b[0m     \u001b[39mexcept\u001b[39;00m \u001b[39mKeyError\u001b[39;00m: \u001b[39m# handling the case where the token is not\u001b[39;00m\n\u001b[1;32m     <a href='vscode-notebook-cell:/Users/andrewsimon/nlpmaps/temp_test_files/Word2Vec_test.ipynb#X36sZmlsZQ%3D%3D?line=9'>10</a>\u001b[0m                      \u001b[39m# in the corpus. useful for testing.\u001b[39;00m\n",
      "\u001b[0;31mValueError\u001b[0m: cannot reshape array of size 300 into shape (1,200)"
     ]
    }
   ],
   "source": [
    "X_train = labelizeReports(X_train, 'TRAIN')\n",
    "X_test = labelizeReports(X_test, 'TEST')\n",
    "\n",
    "# Fit train model\n",
    "tweet_w2v = Word2Vec(vector_size=200, min_count=10)\n",
    "tweet_w2v.build_vocab([x.words for x in tqdm(X_train)])\n",
    "tweet_w2v.train([x.words for x in tqdm(X_train)], total_examples=tweet_w2v.corpus_count, epochs=tweet_w2v.epochs)\n",
    "\n",
    "# Extract word embeddings\n",
    "vectorizer = TfidfVectorizer(analyzer=lambda x: x, min_df=10)\n",
    "matrix = vectorizer.fit_transform([x.words for x in X_train])\n",
    "tfidf = dict(zip(vectorizer.get_feature_names(), vectorizer.idf_))\n",
    "\n",
    "\n",
    "# Data postprocessing with sklearn, creating unit standard deviation\n",
    "from sklearn.preprocessing import scale\n",
    "train_vecs_w2v = np.concatenate([buildWordVector(z, 200) for z in tqdm(map(lambda x: x.words, X_train))])\n",
    "train_vecs_w2v = scale(train_vecs_w2v)\n",
    "\n",
    "test_vecs_w2v = np.concatenate([buildWordVector(z, 200) for z in tqdm(map(lambda x: x.words, X_test))])\n",
    "test_vecs_w2v = scale(test_vecs_w2v)\n",
    "\n",
    "# Training model\n",
    "model_gensim = keras.Sequential()\n",
    "model_gensim.add(keras.layers.Dense(32, activation='relu', input_dim=200))\n",
    "model_gensim.add(keras.layers.Dense(1, activation='sigmoid'))\n",
    "model_gensim.compile(optimizer='rmsprop',\n",
    "              loss='binary_crossentropy',\n",
    "              metrics=['accuracy'])\n",
    "\n",
    "model_gensim.fit(train_vecs_w2v, y_train, epochs=9, batch_size=32, verbose=2, validation_data=(test_vecs_w2v, y_test))"
   ]
  },
  {
   "attachments": {},
   "cell_type": "markdown",
   "metadata": {},
   "source": [
    "Gensim preprocessing boosted our score to 0.17, slightly better but still worse performance than a random guess"
   ]
  },
  {
   "attachments": {},
   "cell_type": "markdown",
   "metadata": {},
   "source": [
    "### Using Padded Sequence Embeddings as labels"
   ]
  },
  {
   "attachments": {},
   "cell_type": "markdown",
   "metadata": {},
   "source": [
    "To remove the ragged arrays, Keras sequence padding can be used rather than taking a weighted average"
   ]
  },
  {
   "cell_type": "code",
   "execution_count": null,
   "metadata": {},
   "outputs": [
    {
     "name": "stderr",
     "output_type": "stream",
     "text": [
      "progress-bar: 100%|██████████| 300/300 [00:00<00:00, 6266.86it/s]\n"
     ]
    }
   ],
   "source": [
    "# Since tokenization did better for our model, use that for preprocessing\n",
    "data_padded = main_data.copy()\n",
    "data_padded = postprocess(data_padded)"
   ]
  },
  {
   "cell_type": "code",
   "execution_count": null,
   "metadata": {},
   "outputs": [],
   "source": [
    "# Embedding vectors to an array from trained model, if out of vocabulary (oov) error occurs just add empty numpy array of all zeros\n",
    "\n",
    "for i in range(len(data_padded['tokens'])):\n",
    "    sub_list = []\n",
    "    for j in data_padded['tokens'][i]:\n",
    "        try:\n",
    "            sub_list.append(tweet_w2v.wv.get_vector(j))\n",
    "        except KeyError:\n",
    "            sub_list.append(np.zeros(200,))\n",
    "    data_padded['tokens'][i] = sub_list\n"
   ]
  },
  {
   "cell_type": "code",
   "execution_count": null,
   "metadata": {},
   "outputs": [],
   "source": [
    "X_train, X_test, y_train, y_test = train_test_split(data_padded['tokens'], data_padded['Level'], test_size=0.2, random_state=42)"
   ]
  },
  {
   "cell_type": "code",
   "execution_count": null,
   "metadata": {},
   "outputs": [],
   "source": [
    "training_padded = pad_sequences(X_train, maxlen=120, truncating='post')\n",
    "testing_padded = pad_sequences(X_test, maxlen=120, truncating='post')"
   ]
  },
  {
   "cell_type": "code",
   "execution_count": null,
   "metadata": {},
   "outputs": [],
   "source": [
    "X_train = X_train.to_numpy()\n",
    "X_test = X_test.to_numpy()\n",
    "y_train = y_train.to_numpy()\n",
    "y_test = y_test.to_numpy()"
   ]
  },
  {
   "cell_type": "code",
   "execution_count": null,
   "metadata": {},
   "outputs": [
    {
     "name": "stdout",
     "output_type": "stream",
     "text": [
      "Epoch 1/10\n",
      "8/8 [==============================] - 0s 12ms/step - loss: 0.6851 - accuracy: 0.1417 - val_loss: 0.6710 - val_accuracy: 0.1333\n",
      "Epoch 2/10\n",
      "8/8 [==============================] - 0s 4ms/step - loss: 0.6650 - accuracy: 0.1667 - val_loss: 0.6487 - val_accuracy: 0.1333\n",
      "Epoch 3/10\n",
      "8/8 [==============================] - 0s 4ms/step - loss: 0.6449 - accuracy: 0.1667 - val_loss: 0.6264 - val_accuracy: 0.1333\n",
      "Epoch 4/10\n",
      "8/8 [==============================] - 0s 4ms/step - loss: 0.6247 - accuracy: 0.1667 - val_loss: 0.6041 - val_accuracy: 0.1333\n",
      "Epoch 5/10\n",
      "8/8 [==============================] - 0s 4ms/step - loss: 0.6049 - accuracy: 0.1667 - val_loss: 0.5816 - val_accuracy: 0.1333\n",
      "Epoch 6/10\n",
      "8/8 [==============================] - 0s 4ms/step - loss: 0.5845 - accuracy: 0.1667 - val_loss: 0.5595 - val_accuracy: 0.1333\n",
      "Epoch 7/10\n",
      "8/8 [==============================] - 0s 4ms/step - loss: 0.5647 - accuracy: 0.1667 - val_loss: 0.5375 - val_accuracy: 0.1333\n",
      "Epoch 8/10\n",
      "8/8 [==============================] - 0s 4ms/step - loss: 0.5450 - accuracy: 0.1667 - val_loss: 0.5153 - val_accuracy: 0.1333\n",
      "Epoch 9/10\n",
      "8/8 [==============================] - 0s 4ms/step - loss: 0.5248 - accuracy: 0.1667 - val_loss: 0.4933 - val_accuracy: 0.1333\n",
      "Epoch 10/10\n",
      "8/8 [==============================] - 0s 4ms/step - loss: 0.5051 - accuracy: 0.1667 - val_loss: 0.4711 - val_accuracy: 0.1333\n"
     ]
    },
    {
     "data": {
      "text/plain": [
       "<keras.src.callbacks.History at 0x4ae890790>"
      ]
     },
     "execution_count": 1404,
     "metadata": {},
     "output_type": "execute_result"
    }
   ],
   "source": [
    "# Create model, evaluate\n",
    "\n",
    "batch = 32\n",
    "\n",
    "model = tf.keras.Sequential([\n",
    "    tf.keras.layers.Flatten(),\n",
    "    tf.keras.layers.Dense(6, activation='relu'),\n",
    "    tf.keras.layers.Dense(1, activation='sigmoid')\n",
    "])\n",
    "model.compile(loss='binary_crossentropy',optimizer='adam',metrics=['accuracy'])\n",
    "    \n",
    "num_epochs = 10\n",
    "model.fit(training_padded, y_train, epochs=num_epochs,batch_size=batch, validation_data=(testing_padded, y_test))"
   ]
  },
  {
   "attachments": {},
   "cell_type": "markdown",
   "metadata": {},
   "source": [
    "### Using pre-trained word corpus on data"
   ]
  },
  {
   "attachments": {},
   "cell_type": "markdown",
   "metadata": {},
   "source": [
    "Rather than building our own model, use embeddings generated from a pretrained corpus on Gensim"
   ]
  },
  {
   "cell_type": "code",
   "execution_count": null,
   "metadata": {},
   "outputs": [],
   "source": [
    "# Since tokenization did better for our model, use that for preprocessing\n",
    "data_pre_trained = main_data.copy()\n",
    "data_pre_trained['tokens'] = data_pre_trained['Report'].apply(lambda x: gensim.utils.simple_preprocess(x))"
   ]
  },
  {
   "cell_type": "code",
   "execution_count": 1547,
   "metadata": {},
   "outputs": [],
   "source": [
    " google_vectors = gensim.downloader.load('word2vec-google-news-300')"
   ]
  },
  {
   "cell_type": "code",
   "execution_count": 1548,
   "metadata": {},
   "outputs": [],
   "source": [
    "# Embedding vectors to an array from trained model, if out of vocabulary (oov) error occurs just add empty numpy array of all zeros\n",
    "\n",
    "for i in range(len(data_pre_trained['tokens'])):\n",
    "    sub_list = []\n",
    "    for j in data_pre_trained['tokens'][i]:\n",
    "        try:\n",
    "            sub_list.append(google_vectors[j])\n",
    "        except KeyError:\n",
    "            sub_list.append(np.zeros(200,))\n",
    "    data_pre_trained['tokens'][i] = sub_list\n"
   ]
  },
  {
   "cell_type": "code",
   "execution_count": null,
   "metadata": {},
   "outputs": [],
   "source": [
    "X_train, X_test, y_train, y_test = train_test_split(data_pre_trained['tokens'], data_pre_trained['Level'], test_size=0.2, random_state=42)"
   ]
  },
  {
   "cell_type": "code",
   "execution_count": null,
   "metadata": {},
   "outputs": [],
   "source": [
    "X_train = X_train.to_numpy()\n",
    "X_test = X_test.to_numpy()\n",
    "y_train = y_train.to_numpy()\n",
    "y_test = y_test.to_numpy()\n",
    "\n",
    "training_padded = pad_sequences(X_train, maxlen=60, truncating='post')\n",
    "testing_padded = pad_sequences(X_test, maxlen=60, truncating='post')"
   ]
  },
  {
   "cell_type": "code",
   "execution_count": null,
   "metadata": {},
   "outputs": [
    {
     "name": "stdout",
     "output_type": "stream",
     "text": [
      "Epoch 1/10\n",
      "8/8 [==============================] - 0s 12ms/step - loss: -1.4055 - accuracy: 0.1667 - val_loss: -4.0929 - val_accuracy: 0.1333\n",
      "Epoch 2/10\n",
      "8/8 [==============================] - 0s 4ms/step - loss: -5.2354 - accuracy: 0.1667 - val_loss: -8.4463 - val_accuracy: 0.1333\n",
      "Epoch 3/10\n",
      "8/8 [==============================] - 0s 3ms/step - loss: -9.1619 - accuracy: 0.1667 - val_loss: -12.9220 - val_accuracy: 0.1333\n",
      "Epoch 4/10\n",
      "8/8 [==============================] - 0s 4ms/step - loss: -13.1349 - accuracy: 0.1667 - val_loss: -17.5737 - val_accuracy: 0.1333\n",
      "Epoch 5/10\n",
      "8/8 [==============================] - 0s 3ms/step - loss: -17.3283 - accuracy: 0.1667 - val_loss: -22.3251 - val_accuracy: 0.1333\n",
      "Epoch 6/10\n",
      "8/8 [==============================] - 0s 4ms/step - loss: -21.6444 - accuracy: 0.1667 - val_loss: -27.3446 - val_accuracy: 0.1333\n",
      "Epoch 7/10\n",
      "8/8 [==============================] - 0s 4ms/step - loss: -26.2398 - accuracy: 0.1667 - val_loss: -32.5498 - val_accuracy: 0.1333\n",
      "Epoch 8/10\n",
      "8/8 [==============================] - 0s 3ms/step - loss: -30.9078 - accuracy: 0.1667 - val_loss: -38.0786 - val_accuracy: 0.1333\n",
      "Epoch 9/10\n",
      "8/8 [==============================] - 0s 5ms/step - loss: -35.9510 - accuracy: 0.1667 - val_loss: -43.7113 - val_accuracy: 0.1333\n",
      "Epoch 10/10\n",
      "8/8 [==============================] - 0s 6ms/step - loss: -40.9934 - accuracy: 0.1667 - val_loss: -49.6887 - val_accuracy: 0.1333\n"
     ]
    },
    {
     "data": {
      "text/plain": [
       "<keras.src.callbacks.History at 0x4bfdcda30>"
      ]
     },
     "execution_count": 1410,
     "metadata": {},
     "output_type": "execute_result"
    }
   ],
   "source": [
    "# Create model, evaluate\n",
    "\n",
    "batch = 32\n",
    "\n",
    "model = tf.keras.Sequential([\n",
    "    tf.keras.layers.Flatten(),\n",
    "    tf.keras.layers.Dense(6, activation='relu'),\n",
    "    tf.keras.layers.Dense(1, activation='sigmoid')\n",
    "])\n",
    "model.compile(loss='binary_crossentropy',optimizer='adam',metrics=['accuracy'])\n",
    "    \n",
    "num_epochs = 10\n",
    "model.fit(training_padded, y_train, epochs=num_epochs,batch_size=batch, validation_data=(testing_padded, y_test))"
   ]
  },
  {
   "attachments": {},
   "cell_type": "markdown",
   "metadata": {},
   "source": [
    "### Vectorization with SKLearn"
   ]
  },
  {
   "cell_type": "code",
   "execution_count": 1549,
   "metadata": {},
   "outputs": [
    {
     "name": "stderr",
     "output_type": "stream",
     "text": [
      "\n",
      "progress-bar: 100%|██████████| 300/300 [00:00<00:00, 5242.46it/s]\n"
     ]
    }
   ],
   "source": [
    "# Since tokenization did better for our model, use that for preprocessing\n",
    "data_SkLearn= main_data.copy()\n",
    "data_SKLearn = postprocess(data_SkLearn)"
   ]
  },
  {
   "cell_type": "code",
   "execution_count": 1550,
   "metadata": {},
   "outputs": [],
   "source": [
    "X_train, X_test, y_train, y_test = train_test_split(data_SkLearn['tokens'], data_SkLearn['Level'], test_size=0.2, random_state=42)"
   ]
  },
  {
   "cell_type": "code",
   "execution_count": 1551,
   "metadata": {},
   "outputs": [
    {
     "name": "stderr",
     "output_type": "stream",
     "text": [
      "\n",
      "240it [00:00, 444625.87it/s]\n",
      "\n",
      "60it [00:00, 600616.32it/s]\n",
      "\n",
      "100%|██████████| 240/240 [00:00<00:00, 1921055.27it/s]\n",
      "\n",
      "100%|██████████| 240/240 [00:00<00:00, 1981560.94it/s]\n",
      "/Users/andrewsimon/Library/Python/3.8/lib/python/site-packages/sklearn/utils/deprecation.py:87: FutureWarning: Function get_feature_names is deprecated; get_feature_names is deprecated in 1.0 and will be removed in 1.2. Please use get_feature_names_out instead.\n",
      "  warnings.warn(msg, category=FutureWarning)\n",
      "\n",
      "240it [00:00, 5914.27it/s]\n",
      "\n",
      "60it [00:00, 5805.93it/s]\n"
     ]
    }
   ],
   "source": [
    "X_train = labelizeReports(X_train, 'TRAIN')\n",
    "X_test = labelizeReports(X_test, 'TEST')\n",
    "\n",
    "# Fit train model\n",
    "tweet_w2v = Word2Vec(vector_size=200, min_count=10)\n",
    "tweet_w2v.build_vocab([x.words for x in tqdm(X_train)])\n",
    "tweet_w2v.train([x.words for x in tqdm(X_train)], total_examples=tweet_w2v.corpus_count, epochs=tweet_w2v.epochs)\n",
    "\n",
    "# Extract word embeddings\n",
    "vectorizer = TfidfVectorizer(analyzer=lambda x: x, min_df=10)\n",
    "matrix = vectorizer.fit_transform([x.words for x in X_train])\n",
    "tfidf = dict(zip(vectorizer.get_feature_names(), vectorizer.idf_))\n",
    "\n",
    "\n",
    "# Data postprocessing with sklearn, creating unit standard deviation\n",
    "from sklearn.preprocessing import scale\n",
    "train_vecs_w2v = np.concatenate([buildWordVector(z, 300) for z in tqdm(map(lambda x: x.words, X_train))])\n",
    "train_vecs_w2v = scale(train_vecs_w2v)\n",
    "\n",
    "test_vecs_w2v = np.concatenate([buildWordVector(z, 300) for z in tqdm(map(lambda x: x.words, X_test))])\n",
    "test_vecs_w2v = scale(test_vecs_w2v)"
   ]
  },
  {
   "cell_type": "code",
   "execution_count": null,
   "metadata": {},
   "outputs": [
    {
     "data": {
      "text/plain": [
       "0.45"
      ]
     },
     "execution_count": 1414,
     "metadata": {},
     "output_type": "execute_result"
    }
   ],
   "source": [
    "clf_decision_tree = DecisionTreeClassifier()\n",
    "\n",
    "clf_decision_tree.fit(train_vecs_w2v, y_train)\n",
    "\n",
    "predictions = clf_decision_tree.predict(test_vecs_w2v)\n",
    "\n",
    "acc_score = accuracy_score(y_test, predictions)\n",
    "\n",
    "acc_score"
   ]
  },
  {
   "cell_type": "code",
   "execution_count": 1554,
   "metadata": {},
   "outputs": [
    {
     "ename": "ValueError",
     "evalue": "Expected 2D array, got 1D array instead:\narray=[1 4 5 5 2 4 4 3 3 3 4 3 3 4 5 3 1 3 3 5 5 5 1 4 4 4 3 3 2 2 5 2 2 2 2 1 4\n 2 3 5 4 2 5 3 2 5 5 4 2 2 1 1 5 2 2 5 5 2 4 3].\nReshape your data either using array.reshape(-1, 1) if your data has a single feature or array.reshape(1, -1) if it contains a single sample.",
     "output_type": "error",
     "traceback": [
      "\u001b[0;31m---------------------------------------------------------------------------\u001b[0m",
      "\u001b[0;31mValueError\u001b[0m                                Traceback (most recent call last)",
      "\u001b[1;32m/Users/andrewsimon/nlpmaps/temp_test_files/Word2Vec_test.ipynb Cell 43\u001b[0m in \u001b[0;36m4\n\u001b[1;32m      <a href='vscode-notebook-cell:/Users/andrewsimon/nlpmaps/temp_test_files/Word2Vec_test.ipynb#Y135sZmlsZQ%3D%3D?line=1'>2</a>\u001b[0m classifier\u001b[39m.\u001b[39mfit(train_vecs_w2v, y_train)\n\u001b[1;32m      <a href='vscode-notebook-cell:/Users/andrewsimon/nlpmaps/temp_test_files/Word2Vec_test.ipynb#Y135sZmlsZQ%3D%3D?line=2'>3</a>\u001b[0m predictions_LR \u001b[39m=\u001b[39m classifier\u001b[39m.\u001b[39mpredict(test_vecs_w2v)\n\u001b[0;32m----> <a href='vscode-notebook-cell:/Users/andrewsimon/nlpmaps/temp_test_files/Word2Vec_test.ipynb#Y135sZmlsZQ%3D%3D?line=3'>4</a>\u001b[0m score \u001b[39m=\u001b[39m classifier\u001b[39m.\u001b[39;49mscore(predictions_LR, y_test)\n\u001b[1;32m      <a href='vscode-notebook-cell:/Users/andrewsimon/nlpmaps/temp_test_files/Word2Vec_test.ipynb#Y135sZmlsZQ%3D%3D?line=4'>5</a>\u001b[0m score\n",
      "File \u001b[0;32m~/Library/Python/3.8/lib/python/site-packages/sklearn/base.py:666\u001b[0m, in \u001b[0;36mClassifierMixin.score\u001b[0;34m(self, X, y, sample_weight)\u001b[0m\n\u001b[1;32m    641\u001b[0m \u001b[39m\"\"\"\u001b[39;00m\n\u001b[1;32m    642\u001b[0m \u001b[39mReturn the mean accuracy on the given test data and labels.\u001b[39;00m\n\u001b[1;32m    643\u001b[0m \n\u001b[0;32m   (...)\u001b[0m\n\u001b[1;32m    662\u001b[0m \u001b[39m    Mean accuracy of ``self.predict(X)`` wrt. `y`.\u001b[39;00m\n\u001b[1;32m    663\u001b[0m \u001b[39m\"\"\"\u001b[39;00m\n\u001b[1;32m    664\u001b[0m \u001b[39mfrom\u001b[39;00m \u001b[39m.\u001b[39;00m\u001b[39mmetrics\u001b[39;00m \u001b[39mimport\u001b[39;00m accuracy_score\n\u001b[0;32m--> 666\u001b[0m \u001b[39mreturn\u001b[39;00m accuracy_score(y, \u001b[39mself\u001b[39;49m\u001b[39m.\u001b[39;49mpredict(X), sample_weight\u001b[39m=\u001b[39msample_weight)\n",
      "File \u001b[0;32m~/Library/Python/3.8/lib/python/site-packages/sklearn/linear_model/_base.py:447\u001b[0m, in \u001b[0;36mLinearClassifierMixin.predict\u001b[0;34m(self, X)\u001b[0m\n\u001b[1;32m    433\u001b[0m \u001b[39mdef\u001b[39;00m \u001b[39mpredict\u001b[39m(\u001b[39mself\u001b[39m, X):\n\u001b[1;32m    434\u001b[0m     \u001b[39m\"\"\"\u001b[39;00m\n\u001b[1;32m    435\u001b[0m \u001b[39m    Predict class labels for samples in X.\u001b[39;00m\n\u001b[1;32m    436\u001b[0m \n\u001b[0;32m   (...)\u001b[0m\n\u001b[1;32m    445\u001b[0m \u001b[39m        Vector containing the class labels for each sample.\u001b[39;00m\n\u001b[1;32m    446\u001b[0m \u001b[39m    \"\"\"\u001b[39;00m\n\u001b[0;32m--> 447\u001b[0m     scores \u001b[39m=\u001b[39m \u001b[39mself\u001b[39;49m\u001b[39m.\u001b[39;49mdecision_function(X)\n\u001b[1;32m    448\u001b[0m     \u001b[39mif\u001b[39;00m \u001b[39mlen\u001b[39m(scores\u001b[39m.\u001b[39mshape) \u001b[39m==\u001b[39m \u001b[39m1\u001b[39m:\n\u001b[1;32m    449\u001b[0m         indices \u001b[39m=\u001b[39m (scores \u001b[39m>\u001b[39m \u001b[39m0\u001b[39m)\u001b[39m.\u001b[39mastype(\u001b[39mint\u001b[39m)\n",
      "File \u001b[0;32m~/Library/Python/3.8/lib/python/site-packages/sklearn/linear_model/_base.py:429\u001b[0m, in \u001b[0;36mLinearClassifierMixin.decision_function\u001b[0;34m(self, X)\u001b[0m\n\u001b[1;32m    409\u001b[0m \u001b[39m\"\"\"\u001b[39;00m\n\u001b[1;32m    410\u001b[0m \u001b[39mPredict confidence scores for samples.\u001b[39;00m\n\u001b[1;32m    411\u001b[0m \n\u001b[0;32m   (...)\u001b[0m\n\u001b[1;32m    425\u001b[0m \u001b[39m    this class would be predicted.\u001b[39;00m\n\u001b[1;32m    426\u001b[0m \u001b[39m\"\"\"\u001b[39;00m\n\u001b[1;32m    427\u001b[0m check_is_fitted(\u001b[39mself\u001b[39m)\n\u001b[0;32m--> 429\u001b[0m X \u001b[39m=\u001b[39m \u001b[39mself\u001b[39;49m\u001b[39m.\u001b[39;49m_validate_data(X, accept_sparse\u001b[39m=\u001b[39;49m\u001b[39m\"\u001b[39;49m\u001b[39mcsr\u001b[39;49m\u001b[39m\"\u001b[39;49m, reset\u001b[39m=\u001b[39;49m\u001b[39mFalse\u001b[39;49;00m)\n\u001b[1;32m    430\u001b[0m scores \u001b[39m=\u001b[39m safe_sparse_dot(X, \u001b[39mself\u001b[39m\u001b[39m.\u001b[39mcoef_\u001b[39m.\u001b[39mT, dense_output\u001b[39m=\u001b[39m\u001b[39mTrue\u001b[39;00m) \u001b[39m+\u001b[39m \u001b[39mself\u001b[39m\u001b[39m.\u001b[39mintercept_\n\u001b[1;32m    431\u001b[0m \u001b[39mreturn\u001b[39;00m scores\u001b[39m.\u001b[39mravel() \u001b[39mif\u001b[39;00m scores\u001b[39m.\u001b[39mshape[\u001b[39m1\u001b[39m] \u001b[39m==\u001b[39m \u001b[39m1\u001b[39m \u001b[39melse\u001b[39;00m scores\n",
      "File \u001b[0;32m~/Library/Python/3.8/lib/python/site-packages/sklearn/base.py:577\u001b[0m, in \u001b[0;36mBaseEstimator._validate_data\u001b[0;34m(self, X, y, reset, validate_separately, **check_params)\u001b[0m\n\u001b[1;32m    575\u001b[0m     \u001b[39mraise\u001b[39;00m \u001b[39mValueError\u001b[39;00m(\u001b[39m\"\u001b[39m\u001b[39mValidation should be done on X, y or both.\u001b[39m\u001b[39m\"\u001b[39m)\n\u001b[1;32m    576\u001b[0m \u001b[39melif\u001b[39;00m \u001b[39mnot\u001b[39;00m no_val_X \u001b[39mand\u001b[39;00m no_val_y:\n\u001b[0;32m--> 577\u001b[0m     X \u001b[39m=\u001b[39m check_array(X, input_name\u001b[39m=\u001b[39;49m\u001b[39m\"\u001b[39;49m\u001b[39mX\u001b[39;49m\u001b[39m\"\u001b[39;49m, \u001b[39m*\u001b[39;49m\u001b[39m*\u001b[39;49mcheck_params)\n\u001b[1;32m    578\u001b[0m     out \u001b[39m=\u001b[39m X\n\u001b[1;32m    579\u001b[0m \u001b[39melif\u001b[39;00m no_val_X \u001b[39mand\u001b[39;00m \u001b[39mnot\u001b[39;00m no_val_y:\n",
      "File \u001b[0;32m~/Library/Python/3.8/lib/python/site-packages/sklearn/utils/validation.py:879\u001b[0m, in \u001b[0;36mcheck_array\u001b[0;34m(array, accept_sparse, accept_large_sparse, dtype, order, copy, force_all_finite, ensure_2d, allow_nd, ensure_min_samples, ensure_min_features, estimator, input_name)\u001b[0m\n\u001b[1;32m    877\u001b[0m     \u001b[39m# If input is 1D raise error\u001b[39;00m\n\u001b[1;32m    878\u001b[0m     \u001b[39mif\u001b[39;00m array\u001b[39m.\u001b[39mndim \u001b[39m==\u001b[39m \u001b[39m1\u001b[39m:\n\u001b[0;32m--> 879\u001b[0m         \u001b[39mraise\u001b[39;00m \u001b[39mValueError\u001b[39;00m(\n\u001b[1;32m    880\u001b[0m             \u001b[39m\"\u001b[39m\u001b[39mExpected 2D array, got 1D array instead:\u001b[39m\u001b[39m\\n\u001b[39;00m\u001b[39marray=\u001b[39m\u001b[39m{}\u001b[39;00m\u001b[39m.\u001b[39m\u001b[39m\\n\u001b[39;00m\u001b[39m\"\u001b[39m\n\u001b[1;32m    881\u001b[0m             \u001b[39m\"\u001b[39m\u001b[39mReshape your data either using array.reshape(-1, 1) if \u001b[39m\u001b[39m\"\u001b[39m\n\u001b[1;32m    882\u001b[0m             \u001b[39m\"\u001b[39m\u001b[39myour data has a single feature or array.reshape(1, -1) \u001b[39m\u001b[39m\"\u001b[39m\n\u001b[1;32m    883\u001b[0m             \u001b[39m\"\u001b[39m\u001b[39mif it contains a single sample.\u001b[39m\u001b[39m\"\u001b[39m\u001b[39m.\u001b[39mformat(array)\n\u001b[1;32m    884\u001b[0m         )\n\u001b[1;32m    886\u001b[0m \u001b[39mif\u001b[39;00m dtype_numeric \u001b[39mand\u001b[39;00m array\u001b[39m.\u001b[39mdtype\u001b[39m.\u001b[39mkind \u001b[39min\u001b[39;00m \u001b[39m\"\u001b[39m\u001b[39mUSV\u001b[39m\u001b[39m\"\u001b[39m:\n\u001b[1;32m    887\u001b[0m     \u001b[39mraise\u001b[39;00m \u001b[39mValueError\u001b[39;00m(\n\u001b[1;32m    888\u001b[0m         \u001b[39m\"\u001b[39m\u001b[39mdtype=\u001b[39m\u001b[39m'\u001b[39m\u001b[39mnumeric\u001b[39m\u001b[39m'\u001b[39m\u001b[39m is not compatible with arrays of bytes/strings.\u001b[39m\u001b[39m\"\u001b[39m\n\u001b[1;32m    889\u001b[0m         \u001b[39m\"\u001b[39m\u001b[39mConvert your data to numeric values explicitly instead.\u001b[39m\u001b[39m\"\u001b[39m\n\u001b[1;32m    890\u001b[0m     )\n",
      "\u001b[0;31mValueError\u001b[0m: Expected 2D array, got 1D array instead:\narray=[1 4 5 5 2 4 4 3 3 3 4 3 3 4 5 3 1 3 3 5 5 5 1 4 4 4 3 3 2 2 5 2 2 2 2 1 4\n 2 3 5 4 2 5 3 2 5 5 4 2 2 1 1 5 2 2 5 5 2 4 3].\nReshape your data either using array.reshape(-1, 1) if your data has a single feature or array.reshape(1, -1) if it contains a single sample."
     ]
    }
   ],
   "source": [
    "classifier = LogisticRegression( max_iter = 100000)\n",
    "classifier.fit(train_vecs_w2v, y_train)\n",
    "predictions_LR = classifier.predict(test_vecs_w2v)\n",
    "score = classifier.score(predictions_LR, y_test)\n",
    "score\n"
   ]
  },
  {
   "cell_type": "code",
   "execution_count": null,
   "metadata": {},
   "outputs": [
    {
     "data": {
      "text/plain": [
       "0.5166666666666667"
      ]
     },
     "execution_count": 1426,
     "metadata": {},
     "output_type": "execute_result"
    }
   ],
   "source": [
    "from sklearn.ensemble import RandomForestClassifier\n",
    "\n",
    "rf = RandomForestClassifier(n_estimators=800, random_state=11).fit(train_vecs_w2v, y_train)\n",
    "\n",
    "predictions = rf.predict(train_vecs_w2v)\n",
    "\n",
    "score = rf.score(test_vecs_w2v, y_test)\n",
    "\n",
    "score\n"
   ]
  },
  {
   "cell_type": "code",
   "execution_count": null,
   "metadata": {},
   "outputs": [],
   "source": [
    "from xgboost import XGBClassifier"
   ]
  },
  {
   "cell_type": "code",
   "execution_count": null,
   "metadata": {},
   "outputs": [
    {
     "data": {
      "text/plain": [
       "0.48333333333333334"
      ]
     },
     "execution_count": 1437,
     "metadata": {},
     "output_type": "execute_result"
    }
   ],
   "source": [
    "xgb = XGBClassifier(max_depth = 6, n_estimators = 1000).fit(train_vecs_w2v, y_train)\n",
    "\n",
    "predictions = xgb.predict(test_vecs_w2v)\n",
    "\n",
    "score = xgb.score(test_vecs_w2v, y_test)\n",
    "\n",
    "score"
   ]
  },
  {
   "cell_type": "code",
   "execution_count": 1553,
   "metadata": {},
   "outputs": [
    {
     "ename": "AttributeError",
     "evalue": "'ConfusionMatrixDisplay' object has no attribute 'show'",
     "output_type": "error",
     "traceback": [
      "\u001b[0;31m---------------------------------------------------------------------------\u001b[0m",
      "\u001b[0;31mAttributeError\u001b[0m                            Traceback (most recent call last)",
      "\u001b[1;32m/Users/andrewsimon/nlpmaps/temp_test_files/Word2Vec_test.ipynb Cell 47\u001b[0m in \u001b[0;36m7\n\u001b[1;32m      <a href='vscode-notebook-cell:/Users/andrewsimon/nlpmaps/temp_test_files/Word2Vec_test.ipynb#Y150sZmlsZQ%3D%3D?line=4'>5</a>\u001b[0m disp \u001b[39m=\u001b[39m ConfusionMatrixDisplay(confusion_matrix\u001b[39m=\u001b[39mcm, display_labels \u001b[39m=\u001b[39m [\u001b[39m1\u001b[39m,\u001b[39m2\u001b[39m,\u001b[39m3\u001b[39m,\u001b[39m4\u001b[39m,\u001b[39m5\u001b[39m])\n\u001b[1;32m      <a href='vscode-notebook-cell:/Users/andrewsimon/nlpmaps/temp_test_files/Word2Vec_test.ipynb#Y150sZmlsZQ%3D%3D?line=5'>6</a>\u001b[0m disp\u001b[39m.\u001b[39mplot()\n\u001b[0;32m----> <a href='vscode-notebook-cell:/Users/andrewsimon/nlpmaps/temp_test_files/Word2Vec_test.ipynb#Y150sZmlsZQ%3D%3D?line=6'>7</a>\u001b[0m disp\u001b[39m.\u001b[39;49mshow()\n",
      "\u001b[0;31mAttributeError\u001b[0m: 'ConfusionMatrixDisplay' object has no attribute 'show'"
     ]
    },
    {
     "data": {
      "image/png": "[encoded data removed]",
      "text/plain": [
       "<Figure size 640x480 with 2 Axes>"
      ]
     },
     "metadata": {},
     "output_type": "display_data"
    }
   ],
   "source": [
    "from sklearn.metrics import confusion_matrix, ConfusionMatrixDisplay\n",
    "\n",
    "len(y_test)\n",
    "cm = confusion_matrix(y_test, predictions_LR)\n",
    "disp = ConfusionMatrixDisplay(confusion_matrix=cm, display_labels = [1,2,3,4,5])\n",
    "disp.plot()\n",
    "disp.show()\n"
   ]
  }
 ],
 "metadata": {
  "kernelspec": {
   "display_name": "Python 3",
   "language": "python",
   "name": "python3"
  },
  "language_info": {
   "codemirror_mode": {
    "name": "ipython",
    "version": 3
   },
   "file_extension": ".py",
   "mimetype": "text/x-python",
   "name": "python",
   "nbconvert_exporter": "python",
   "pygments_lexer": "ipython3",
   "version": "3.8.9"
  },
  "orig_nbformat": 4
 },
 "nbformat": 4,
 "nbformat_minor": 2
}
