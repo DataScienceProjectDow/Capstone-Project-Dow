{
 "cells": [
  {
   "cell_type": "code",
   "execution_count": 2,
   "id": "fec1b168",
   "metadata": {},
   "outputs": [],
   "source": [
    "# import packages\n",
    "import zipfile\n",
    "import urllib.request\n",
    "\n",
    "import pandas as pd\n",
    "import numpy as np\n",
    "import sklearn.metrics\n",
    "import sklearn.ensemble\n",
    "import sklearn.model_selection\n",
    "\n",
    "from gensim.scripts.glove2word2vec import glove2word2vec\n",
    "from gensim.models import KeyedVectors\n",
    "\n",
    "import seaborn as sns\n",
    "sns.set_style('whitegrid')\n",
    "sns.set_context('talk')"
   ]
  },
  {
   "cell_type": "code",
   "execution_count": 3,
   "id": "3fd2c93b",
   "metadata": {},
   "outputs": [
    {
     "name": "stderr",
     "output_type": "stream",
     "text": [
      "/var/folders/gy/5v8v142s4fz6nz5xwllrz4b40000gn/T/ipykernel_6512/779987310.py:12: DeprecationWarning: Call to deprecated `glove2word2vec` (KeyedVectors.load_word2vec_format(.., binary=False, no_header=True) loads GLoVE text vectors.).\n",
      "  glove2word2vec(GLOVE_FILE, WORD2VEC_FILE)\n"
     ]
    }
   ],
   "source": [
    "# download pre-trained GloVe vectors from the website\n",
    "URL = 'https://nlp.stanford.edu/data/glove.6B.zip'\n",
    "FILE_NAME = 'glove.6B.zip'\n",
    "urllib.request.urlretrieve(URL, FILE_NAME)\n",
    "\n",
    "with zipfile.ZipFile(FILE_NAME, 'r') as zip_ref:\n",
    "    zip_ref.extractall()\n",
    "\n",
    "# transfer pre-trained GloVe vectors into word2vec format\n",
    "GLOVE_FILE = 'glove.6B.100d.txt'\n",
    "WORD2VEC_FILE = GLOVE_FILE + '.word2vec'\n",
    "glove2word2vec(GLOVE_FILE, WORD2VEC_FILE)\n",
    "\n",
    "# load pre-trained GloVe vectors\n",
    "glove_model = KeyedVectors.load_word2vec_format(WORD2VEC_FILE, binary=False)"
   ]
  },
  {
   "cell_type": "code",
   "execution_count": 4,
   "id": "9b271006",
   "metadata": {},
   "outputs": [],
   "source": [
    "# load dataset\n",
    "df1 = pd.read_excel('../../Downloads/CHEME DIRECT/NLP Project/PSE Dataset.xlsx', sheet_name='SamePerson Report')\n",
    "df2 = pd.read_excel('../../Downloads/CHEME DIRECT/NLP Project/PSE Dataset.xlsx', sheet_name='Multiple People Report')\n",
    "df3 = pd.read_excel('../../Downloads/CHEME DIRECT/NLP Project/PSE Dataset.xlsx', sheet_name='Multiple People Less Details')"
   ]
  },
  {
   "cell_type": "code",
   "execution_count": 5,
   "id": "3b70a561",
   "metadata": {},
   "outputs": [],
   "source": [
    "train_1, test_1 = sklearn.model_selection.train_test_split(df1, test_size=0.2, random_state=206)\n",
    "train_2, test_2 = sklearn.model_selection.train_test_split(df2, test_size=0.2, random_state=206)\n",
    "train_3, test_3 = sklearn.model_selection.train_test_split(df3, test_size=0.2, random_state=206)"
   ]
  },
  {
   "cell_type": "code",
   "execution_count": 6,
   "id": "87867133",
   "metadata": {},
   "outputs": [],
   "source": [
    "train_1_text = train_1['Report'].values.reshape(-1,1)\n",
    "test_1_text = test_1['Report'].values.reshape(-1,1)\n",
    "\n",
    "train_1_label = train_1['Level'].values.reshape(-1,1)\n",
    "test_1_label = test_1['Level'].values.reshape(-1,1)\n",
    "\n",
    "train_2_text = train_2['Report'].values.reshape(-1,1)\n",
    "test_2_text = test_2['Report'].values.reshape(-1,1)\n",
    "\n",
    "train_2_label = train_2['Level'].values.reshape(-1,1)\n",
    "test_2_label = test_2['Level'].values.reshape(-1,1)\n",
    "\n",
    "train_3_text = train_3['Report'].values.reshape(-1,1)\n",
    "test_3_text = test_3['Report'].values.reshape(-1,1)\n",
    "\n",
    "train_3_label = train_3['Level'].values.reshape(-1,1)\n",
    "test_3_label = test_3['Level'].values.reshape(-1,1)"
   ]
  },
  {
   "cell_type": "code",
   "execution_count": 7,
   "id": "419f154e",
   "metadata": {},
   "outputs": [],
   "source": [
    "# define functions for tokenizing the text data\n",
    "class Word2VecVectorizer:\n",
    "    def __init__(self, model_vec):\n",
    "        print(\"Loading in word vectors...\")\n",
    "        self.word_vectors = model_vec\n",
    "        print(\"Finished loading in word vectors\")\n",
    "\n",
    "    def fit(self, data):\n",
    "        \"\"\"fit data\"\"\"\n",
    "\n",
    "    def transform(self, data):\n",
    "        \"\"\"determine the dimensionality of vectors\"\"\"\n",
    "        v_get = self.word_vectors.get_vector('king')\n",
    "        self.D = v_get.shape[0]\n",
    "\n",
    "        x_vec = np.zeros((len(data), self.D))\n",
    "        n_count = 0\n",
    "        emptycount = 0\n",
    "\n",
    "        for sentence in data:\n",
    "            tokens = sentence.split()\n",
    "            vecs = []\n",
    "            m_count = 0\n",
    "            for word in tokens:\n",
    "                try:\n",
    "                    # throws KeyError if word not found\n",
    "                    vec = self.word_vectors.get_vector(word)\n",
    "                    vecs.append(vec)\n",
    "                    m_count += 1\n",
    "                except KeyError:\n",
    "                    pass\n",
    "\n",
    "            if len(vecs) > 0:\n",
    "                vecs = np.array(vecs)\n",
    "                x_vec[n_count] = vecs.mean(axis=0)\n",
    "            else:\n",
    "                emptycount += 1\n",
    "            n_count += 1\n",
    "\n",
    "        print(\"Numer of samples with no words found: %s / %s\" % (emptycount,\n",
    "        \tlen(data)))\n",
    "        return x_vec\n",
    "\n",
    "    def fit_transform(self, data):\n",
    "        \"\"\"transform the strings to vectors\"\"\"\n",
    "        self.fit(data)\n",
    "\n",
    "        return self.transform(data)"
   ]
  },
  {
   "cell_type": "code",
   "execution_count": 8,
   "id": "00d7fd51",
   "metadata": {},
   "outputs": [],
   "source": [
    "train_1_text_list = train_1_text.tolist()\n",
    "train_1_text_str = [item for sublist in train_1_text_list for item in sublist]\n",
    "\n",
    "test_1_text_list = test_1_text.tolist()\n",
    "test_1_text_str = [item for sublist in test_1_text_list for item in sublist]\n",
    "\n",
    "train_1_label_list = train_1_label.tolist()\n",
    "train_1_label_str = [item for sublist in train_1_label_list for item in sublist]\n",
    "\n",
    "test_1_label_list = test_1_label.tolist()\n",
    "test_1_label_str = [item for sublist in test_1_label_list for item in sublist]"
   ]
  },
  {
   "cell_type": "code",
   "execution_count": 9,
   "id": "8e11cc2e",
   "metadata": {},
   "outputs": [],
   "source": [
    "train_2_text_list = train_2_text.tolist()\n",
    "train_2_text_str = [item for sublist in train_2_text_list for item in sublist]\n",
    "\n",
    "test_2_text_list = test_2_text.tolist()\n",
    "test_2_text_str = [item for sublist in test_2_text_list for item in sublist]\n",
    "\n",
    "train_2_label_list = train_2_label.tolist()\n",
    "train_2_label_str = [item for sublist in train_2_label_list for item in sublist]\n",
    "\n",
    "test_2_label_list = test_2_label.tolist()\n",
    "test_2_label_str = [item for sublist in test_2_label_list for item in sublist]"
   ]
  },
  {
   "cell_type": "code",
   "execution_count": 10,
   "id": "89d22cbb",
   "metadata": {},
   "outputs": [],
   "source": [
    "train_3_text_list = train_3_text.tolist()\n",
    "train_3_text_str = [item for sublist in train_3_text_list for item in sublist]\n",
    "\n",
    "test_3_text_list = test_3_text.tolist()\n",
    "test_3_text_str = [item for sublist in test_3_text_list for item in sublist]\n",
    "\n",
    "train_3_label_list = train_3_label.tolist()\n",
    "train_3_label_str = [item for sublist in train_3_label_list for item in sublist]\n",
    "\n",
    "test_3_label_list = test_3_label.tolist()\n",
    "test_3_label_str = [item for sublist in test_3_label_list for item in sublist]"
   ]
  },
  {
   "cell_type": "code",
   "execution_count": 11,
   "id": "ef13234b",
   "metadata": {},
   "outputs": [],
   "source": [
    "train_text = train_1_text_str + train_2_text_str + train_3_text_str\n",
    "test_text = test_1_text_str + test_2_text_str + test_3_text_str\n",
    "\n",
    "train_label = train_1_label_str + train_2_label_str + train_3_label_str\n",
    "test_label = test_1_label_str + test_2_label_str + test_3_label_str"
   ]
  },
  {
   "cell_type": "code",
   "execution_count": 12,
   "id": "b14cd949",
   "metadata": {
    "scrolled": true
   },
   "outputs": [
    {
     "name": "stdout",
     "output_type": "stream",
     "text": [
      "Loading in word vectors...\n",
      "Finished loading in word vectors\n",
      "Numer of samples with no words found: 0 / 240\n",
      "Numer of samples with no words found: 0 / 60\n"
     ]
    }
   ],
   "source": [
    "# set a word vectorizer\n",
    "vectorizer = Word2VecVectorizer(glove_model)\n",
    "\n",
    "# get the sentence embeddings for the train dataset\n",
    "train_x = vectorizer.fit_transform(train_text)\n",
    "train_y = train_label\n",
    "\n",
    "# get the sentence embeddings for the test dataset\n",
    "test_x = vectorizer.transform(test_text)\n",
    "test_y = test_label"
   ]
  },
  {
   "cell_type": "code",
   "execution_count": 49,
   "id": "6476432f",
   "metadata": {},
   "outputs": [
    {
     "data": {
      "text/html": [
       "<style>#sk-container-id-18 {color: black;background-color: white;}#sk-container-id-18 pre{padding: 0;}#sk-container-id-18 div.sk-toggleable {background-color: white;}#sk-container-id-18 label.sk-toggleable__label {cursor: pointer;display: block;width: 100%;margin-bottom: 0;padding: 0.3em;box-sizing: border-box;text-align: center;}#sk-container-id-18 label.sk-toggleable__label-arrow:before {content: \"▸\";float: left;margin-right: 0.25em;color: #696969;}#sk-container-id-18 label.sk-toggleable__label-arrow:hover:before {color: black;}#sk-container-id-18 div.sk-estimator:hover label.sk-toggleable__label-arrow:before {color: black;}#sk-container-id-18 div.sk-toggleable__content {max-height: 0;max-width: 0;overflow: hidden;text-align: left;background-color: #f0f8ff;}#sk-container-id-18 div.sk-toggleable__content pre {margin: 0.2em;color: black;border-radius: 0.25em;background-color: #f0f8ff;}#sk-container-id-18 input.sk-toggleable__control:checked~div.sk-toggleable__content {max-height: 200px;max-width: 100%;overflow: auto;}#sk-container-id-18 input.sk-toggleable__control:checked~label.sk-toggleable__label-arrow:before {content: \"▾\";}#sk-container-id-18 div.sk-estimator input.sk-toggleable__control:checked~label.sk-toggleable__label {background-color: #d4ebff;}#sk-container-id-18 div.sk-label input.sk-toggleable__control:checked~label.sk-toggleable__label {background-color: #d4ebff;}#sk-container-id-18 input.sk-hidden--visually {border: 0;clip: rect(1px 1px 1px 1px);clip: rect(1px, 1px, 1px, 1px);height: 1px;margin: -1px;overflow: hidden;padding: 0;position: absolute;width: 1px;}#sk-container-id-18 div.sk-estimator {font-family: monospace;background-color: #f0f8ff;border: 1px dotted black;border-radius: 0.25em;box-sizing: border-box;margin-bottom: 0.5em;}#sk-container-id-18 div.sk-estimator:hover {background-color: #d4ebff;}#sk-container-id-18 div.sk-parallel-item::after {content: \"\";width: 100%;border-bottom: 1px solid gray;flex-grow: 1;}#sk-container-id-18 div.sk-label:hover label.sk-toggleable__label {background-color: #d4ebff;}#sk-container-id-18 div.sk-serial::before {content: \"\";position: absolute;border-left: 1px solid gray;box-sizing: border-box;top: 0;bottom: 0;left: 50%;z-index: 0;}#sk-container-id-18 div.sk-serial {display: flex;flex-direction: column;align-items: center;background-color: white;padding-right: 0.2em;padding-left: 0.2em;position: relative;}#sk-container-id-18 div.sk-item {position: relative;z-index: 1;}#sk-container-id-18 div.sk-parallel {display: flex;align-items: stretch;justify-content: center;background-color: white;position: relative;}#sk-container-id-18 div.sk-item::before, #sk-container-id-18 div.sk-parallel-item::before {content: \"\";position: absolute;border-left: 1px solid gray;box-sizing: border-box;top: 0;bottom: 0;left: 50%;z-index: -1;}#sk-container-id-18 div.sk-parallel-item {display: flex;flex-direction: column;z-index: 1;position: relative;background-color: white;}#sk-container-id-18 div.sk-parallel-item:first-child::after {align-self: flex-end;width: 50%;}#sk-container-id-18 div.sk-parallel-item:last-child::after {align-self: flex-start;width: 50%;}#sk-container-id-18 div.sk-parallel-item:only-child::after {width: 0;}#sk-container-id-18 div.sk-dashed-wrapped {border: 1px dashed gray;margin: 0 0.4em 0.5em 0.4em;box-sizing: border-box;padding-bottom: 0.4em;background-color: white;}#sk-container-id-18 div.sk-label label {font-family: monospace;font-weight: bold;display: inline-block;line-height: 1.2em;}#sk-container-id-18 div.sk-label-container {text-align: center;}#sk-container-id-18 div.sk-container {/* jupyter's `normalize.less` sets `[hidden] { display: none; }` but bootstrap.min.css set `[hidden] { display: none !important; }` so we also need the `!important` here to be able to override the default hidden behavior on the sphinx rendered scikit-learn.org. See: https://github.com/scikit-learn/scikit-learn/issues/21755 */display: inline-block !important;position: relative;}#sk-container-id-18 div.sk-text-repr-fallback {display: none;}</style><div id=\"sk-container-id-18\" class=\"sk-top-container\"><div class=\"sk-text-repr-fallback\"><pre>RandomForestClassifier(n_estimators=1200)</pre><b>In a Jupyter environment, please rerun this cell to show the HTML representation or trust the notebook. <br />On GitHub, the HTML representation is unable to render, please try loading this page with nbviewer.org.</b></div><div class=\"sk-container\" hidden><div class=\"sk-item\"><div class=\"sk-estimator sk-toggleable\"><input class=\"sk-toggleable__control sk-hidden--visually\" id=\"sk-estimator-id-18\" type=\"checkbox\" checked><label for=\"sk-estimator-id-18\" class=\"sk-toggleable__label sk-toggleable__label-arrow\">RandomForestClassifier</label><div class=\"sk-toggleable__content\"><pre>RandomForestClassifier(n_estimators=1200)</pre></div></div></div></div></div>"
      ],
      "text/plain": [
       "RandomForestClassifier(n_estimators=1200)"
      ]
     },
     "execution_count": 49,
     "metadata": {},
     "output_type": "execute_result"
    }
   ],
   "source": [
    "# train a Random Forest model\n",
    "model = sklearn.ensemble.RandomForestClassifier(n_estimators=1200)\n",
    "\n",
    "model.fit(train_x, train_y)"
   ]
  },
  {
   "cell_type": "code",
   "execution_count": 50,
   "id": "108758c9",
   "metadata": {},
   "outputs": [
    {
     "name": "stdout",
     "output_type": "stream",
     "text": [
      "model accuracy: 0.6166666666666667\n",
      "              precision    recall  f1-score   support\n",
      "\n",
      "           1     0.8182    1.0000    0.9000         9\n",
      "           2     0.2727    0.5000    0.3529         6\n",
      "           3     0.4167    0.3571    0.3846        14\n",
      "           4     0.6923    0.6000    0.6429        15\n",
      "           5     0.8462    0.6875    0.7586        16\n",
      "\n",
      "    accuracy                         0.6167        60\n",
      "   macro avg     0.6092    0.6289    0.6078        60\n",
      "weighted avg     0.6459    0.6167    0.6231        60\n",
      "\n"
     ]
    }
   ],
   "source": [
    "# accuracy report\n",
    "print(\"model accuracy:\", model.score(test_x, test_y))\n",
    "\n",
    "predict_y = model.predict(test_x)\n",
    "\n",
    "print(sklearn.metrics.classification_report(test_y, predict_y, digits=4))"
   ]
  },
  {
   "cell_type": "code",
   "execution_count": 51,
   "id": "724d323e",
   "metadata": {},
   "outputs": [
    {
     "data": {
      "text/plain": [
       "<sklearn.metrics._plot.confusion_matrix.ConfusionMatrixDisplay at 0x17672f4f0>"
      ]
     },
     "execution_count": 51,
     "metadata": {},
     "output_type": "execute_result"
    },
    {
     "data": {
      "image/png": "[encoded data removed]",
      "text/plain": [
       "<Figure size 640x480 with 2 Axes>"
      ]
     },
     "metadata": {},
     "output_type": "display_data"
    }
   ],
   "source": [
    "# plot a confusion matrix\n",
    "sklearn.metrics.ConfusionMatrixDisplay.from_estimator(model, test_x, test_y)"
   ]
  },
  {
   "cell_type": "code",
   "execution_count": null,
   "id": "54ddff79",
   "metadata": {},
   "outputs": [],
   "source": []
  }
 ],
 "metadata": {
  "kernelspec": {
   "display_name": "Python 3 (ipykernel)",
   "language": "python",
   "name": "python3"
  },
  "language_info": {
   "codemirror_mode": {
    "name": "ipython",
    "version": 3
   },
   "file_extension": ".py",
   "mimetype": "text/x-python",
   "name": "python",
   "nbconvert_exporter": "python",
   "pygments_lexer": "ipython3",
   "version": "3.10.9"
  }
 },
 "nbformat": 4,
 "nbformat_minor": 5
}
