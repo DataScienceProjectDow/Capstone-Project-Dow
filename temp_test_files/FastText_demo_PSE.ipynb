{
 "cells": [
  {
   "cell_type": "code",
   "execution_count": 20,
   "id": "1fa81428",
   "metadata": {},
   "outputs": [],
   "source": [
    "# import packages\n",
    "import pandas as pd\n",
    "import numpy as np\n",
    "import sklearn.metrics\n",
    "import sklearn.ensemble\n",
    "from sklearn.metrics import confusion_matrix\n",
    "import matplotlib.pyplot as plt\n",
    "\n",
    "import fasttext\n",
    "\n",
    "import seaborn as sns\n",
    "sns.set_style('whitegrid')\n",
    "sns.set_context('talk')"
   ]
  },
  {
   "cell_type": "code",
   "execution_count": 2,
   "id": "f51e993c",
   "metadata": {},
   "outputs": [],
   "source": [
    "# load dataset\n",
    "df1 = pd.read_excel('../../Downloads/CHEME DIRECT/NLP Project/PSE Dataset.xlsx', sheet_name='SamePerson Report')\n",
    "df2 = pd.read_excel('../../Downloads/CHEME DIRECT/NLP Project/PSE Dataset.xlsx', sheet_name='Multiple People Report')\n",
    "df3 = pd.read_excel('../../Downloads/CHEME DIRECT/NLP Project/PSE Dataset.xlsx', sheet_name='Multiple People Less Details')"
   ]
  },
  {
   "cell_type": "code",
   "execution_count": 3,
   "id": "960a4dc1",
   "metadata": {},
   "outputs": [],
   "source": [
    "train_1, test_1 = sklearn.model_selection.train_test_split(df1, test_size=0.2, random_state=206)\n",
    "train_2, test_2 = sklearn.model_selection.train_test_split(df2, test_size=0.2, random_state=206)\n",
    "train_3, test_3 = sklearn.model_selection.train_test_split(df3, test_size=0.2, random_state=206)"
   ]
  },
  {
   "cell_type": "code",
   "execution_count": 4,
   "id": "3ebc1ac5",
   "metadata": {},
   "outputs": [],
   "source": [
    "train_1_text = train_1['Report'].values.reshape(-1,1)\n",
    "test_1_text = test_1['Report'].values.reshape(-1,1)\n",
    "\n",
    "train_1_label = train_1['Level'].values.reshape(-1,1)\n",
    "test_1_label = test_1['Level'].values.reshape(-1,1)\n",
    "\n",
    "train_2_text = train_2['Report'].values.reshape(-1,1)\n",
    "test_2_text = test_2['Report'].values.reshape(-1,1)\n",
    "\n",
    "train_2_label = train_2['Level'].values.reshape(-1,1)\n",
    "test_2_label = test_2['Level'].values.reshape(-1,1)\n",
    "\n",
    "train_3_text = train_3['Report'].values.reshape(-1,1)\n",
    "test_3_text = test_3['Report'].values.reshape(-1,1)\n",
    "\n",
    "train_3_label = train_3['Level'].values.reshape(-1,1)\n",
    "test_3_label = test_3['Level'].values.reshape(-1,1)"
   ]
  },
  {
   "cell_type": "code",
   "execution_count": 5,
   "id": "437cc0ba",
   "metadata": {},
   "outputs": [],
   "source": [
    "train_1_text_list = train_1_text.tolist()\n",
    "train_1_text_str = [item for sublist in train_1_text_list for item in sublist]\n",
    "\n",
    "test_1_text_list = test_1_text.tolist()\n",
    "test_1_text_str = [item for sublist in test_1_text_list for item in sublist]\n",
    "\n",
    "train_1_label_list = train_1_label.tolist()\n",
    "train_1_label_str = [item for sublist in train_1_label_list for item in sublist]\n",
    "\n",
    "test_1_label_list = test_1_label.tolist()\n",
    "test_1_label_str = [item for sublist in test_1_label_list for item in sublist]"
   ]
  },
  {
   "cell_type": "code",
   "execution_count": 6,
   "id": "c7b3d21b",
   "metadata": {},
   "outputs": [],
   "source": [
    "train_2_text_list = train_2_text.tolist()\n",
    "train_2_text_str = [item for sublist in train_2_text_list for item in sublist]\n",
    "\n",
    "test_2_text_list = test_2_text.tolist()\n",
    "test_2_text_str = [item for sublist in test_2_text_list for item in sublist]\n",
    "\n",
    "train_2_label_list = train_2_label.tolist()\n",
    "train_2_label_str = [item for sublist in train_2_label_list for item in sublist]\n",
    "\n",
    "test_2_label_list = test_2_label.tolist()\n",
    "test_2_label_str = [item for sublist in test_2_label_list for item in sublist]"
   ]
  },
  {
   "cell_type": "code",
   "execution_count": 7,
   "id": "8554b406",
   "metadata": {},
   "outputs": [],
   "source": [
    "train_3_text_list = train_3_text.tolist()\n",
    "train_3_text_str = [item for sublist in train_3_text_list for item in sublist]\n",
    "\n",
    "test_3_text_list = test_3_text.tolist()\n",
    "test_3_text_str = [item for sublist in test_3_text_list for item in sublist]\n",
    "\n",
    "train_3_label_list = train_3_label.tolist()\n",
    "train_3_label_str = [item for sublist in train_3_label_list for item in sublist]\n",
    "\n",
    "test_3_label_list = test_3_label.tolist()\n",
    "test_3_label_str = [item for sublist in test_3_label_list for item in sublist]"
   ]
  },
  {
   "cell_type": "code",
   "execution_count": 8,
   "id": "739b1b33",
   "metadata": {},
   "outputs": [],
   "source": [
    "train_text = train_1_text_str + train_2_text_str + train_3_text_str\n",
    "test_text = test_1_text_str + test_2_text_str + test_3_text_str\n",
    "\n",
    "train_label = train_1_label_str + train_2_label_str + train_3_label_str\n",
    "test_label = test_1_label_str + test_2_label_str + test_3_label_str"
   ]
  },
  {
   "cell_type": "code",
   "execution_count": 9,
   "id": "613f6c12",
   "metadata": {},
   "outputs": [],
   "source": [
    "# preprocess the data\n",
    "with open('train.txt', 'w') as f:\n",
    "    for text, label in zip(train_text, train_label):\n",
    "        f.write(f'__label__{label} {text}\\n')\n",
    "\n",
    "with open('test.txt', 'w') as f:\n",
    "    for text, label in zip(test_text, test_label):\n",
    "        f.write(f'__label__{label} {text}\\n')"
   ]
  },
  {
   "cell_type": "code",
   "execution_count": 16,
   "id": "c92838f8",
   "metadata": {
    "scrolled": true
   },
   "outputs": [
    {
     "name": "stderr",
     "output_type": "stream",
     "text": [
      "\r",
      "Read 0M words\n",
      "Number of words:  671\n",
      "Number of labels: 5\n",
      "\r",
      "Progress: 101.2% words/sec/thread:  115821 lr: -0.001171 avg.loss:  1.613354 ETA:   0h 0m 0s\r",
      "Progress: 100.0% words/sec/thread:  115633 lr:  0.000000 avg.loss:  1.613354 ETA:   0h 0m 0s\n"
     ]
    }
   ],
   "source": [
    "# model training\n",
    "model = fasttext.train_supervised('train.txt', minCount=1, ws=10)"
   ]
  },
  {
   "cell_type": "code",
   "execution_count": 17,
   "id": "98280ac5",
   "metadata": {},
   "outputs": [
    {
     "name": "stdout",
     "output_type": "stream",
     "text": [
      "N\t60\n",
      "P@1\t0.100\n",
      "R@1\t0.100\n"
     ]
    }
   ],
   "source": [
    "# Evaluate the model\n",
    "def print_results(N, p, r):\n",
    "    print(\"N\\t\" + str(N))\n",
    "    print(\"P@{}\\t{:.3f}\".format(1, p))\n",
    "    print(\"R@{}\\t{:.3f}\".format(1, r))\n",
    "\n",
    "print_results(*model.test('test.txt'))"
   ]
  },
  {
   "cell_type": "code",
   "execution_count": 18,
   "id": "5d214615",
   "metadata": {
    "scrolled": true
   },
   "outputs": [
    {
     "name": "stdout",
     "output_type": "stream",
     "text": [
      "              precision    recall  f1-score   support\n",
      "\n",
      "           1       0.00      0.00      0.00         9\n",
      "           2       0.10      1.00      0.18         6\n",
      "           3       0.00      0.00      0.00        14\n",
      "           4       0.00      0.00      0.00        15\n",
      "           5       0.00      0.00      0.00        16\n",
      "\n",
      "    accuracy                           0.10        60\n",
      "   macro avg       0.02      0.20      0.04        60\n",
      "weighted avg       0.01      0.10      0.02        60\n",
      "\n"
     ]
    },
    {
     "name": "stderr",
     "output_type": "stream",
     "text": [
      "/Users/Jlonging/miniconda3/envs/nlpmaps/lib/python3.10/site-packages/sklearn/metrics/_classification.py:1344: UndefinedMetricWarning: Precision and F-score are ill-defined and being set to 0.0 in labels with no predicted samples. Use `zero_division` parameter to control this behavior.\n",
      "  _warn_prf(average, modifier, msg_start, len(result))\n",
      "/Users/Jlonging/miniconda3/envs/nlpmaps/lib/python3.10/site-packages/sklearn/metrics/_classification.py:1344: UndefinedMetricWarning: Precision and F-score are ill-defined and being set to 0.0 in labels with no predicted samples. Use `zero_division` parameter to control this behavior.\n",
      "  _warn_prf(average, modifier, msg_start, len(result))\n",
      "/Users/Jlonging/miniconda3/envs/nlpmaps/lib/python3.10/site-packages/sklearn/metrics/_classification.py:1344: UndefinedMetricWarning: Precision and F-score are ill-defined and being set to 0.0 in labels with no predicted samples. Use `zero_division` parameter to control this behavior.\n",
      "  _warn_prf(average, modifier, msg_start, len(result))\n"
     ]
    }
   ],
   "source": [
    "# Predict labels for test data\n",
    "pred_labels = []\n",
    "true_labels = test_label\n",
    "\n",
    "for text in test_text:\n",
    "    pred = model.predict(text)\n",
    "    pred_label = int(pred[0][0].replace('__label__', ''))\n",
    "    pred_labels.append(pred_label)\n",
    "    \n",
    "# Generate classification report\n",
    "print(sklearn.metrics.classification_report(true_labels, pred_labels, target_names=['1', '2', '3', '4', '5']))"
   ]
  }
 ],
 "metadata": {
  "kernelspec": {
   "display_name": "Python 3 (ipykernel)",
   "language": "python",
   "name": "python3"
  },
  "language_info": {
   "codemirror_mode": {
    "name": "ipython",
    "version": 3
   },
   "file_extension": ".py",
   "mimetype": "text/x-python",
   "name": "python",
   "nbconvert_exporter": "python",
   "pygments_lexer": "ipython3",
   "version": "3.10.9"
  }
 },
 "nbformat": 4,
 "nbformat_minor": 5
}
